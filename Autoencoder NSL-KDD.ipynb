{
 "cells": [
  {
   "cell_type": "code",
   "execution_count": 1,
   "id": "e8b0b5c0-9cf6-47b7-9087-a0548dc3f2d3",
   "metadata": {},
   "outputs": [
    {
     "ename": "ModuleNotFoundError",
     "evalue": "No module named 'pandas'",
     "output_type": "error",
     "traceback": [
      "\u001b[1;31m---------------------------------------------------------------------------\u001b[0m",
      "\u001b[1;31mModuleNotFoundError\u001b[0m                       Traceback (most recent call last)",
      "Cell \u001b[1;32mIn[1], line 1\u001b[0m\n\u001b[1;32m----> 1\u001b[0m \u001b[38;5;28;01mimport\u001b[39;00m \u001b[38;5;21;01mpandas\u001b[39;00m \u001b[38;5;28;01mas\u001b[39;00m \u001b[38;5;21;01mpd\u001b[39;00m\n",
      "\u001b[1;31mModuleNotFoundError\u001b[0m: No module named 'pandas'"
     ]
    }
   ],
   "source": [
    "import pandas as pd"
   ]
  },
  {
   "cell_type": "code",
   "execution_count": 2,
   "id": "b7a4d4fe-5662-4d51-8d0c-9ce9d43220a4",
   "metadata": {},
   "outputs": [
    {
     "name": "stdout",
     "output_type": "stream",
     "text": [
      "Requirement already satisfied: pandas in c:\\users\\user\\appdata\\local\\programs\\python\\python312\\lib\\site-packages (2.2.2)\n",
      "Requirement already satisfied: numpy>=1.26.0 in c:\\users\\user\\appdata\\local\\programs\\python\\python312\\lib\\site-packages (from pandas) (1.26.4)\n",
      "Requirement already satisfied: python-dateutil>=2.8.2 in c:\\users\\user\\appdata\\local\\programs\\python\\python312\\lib\\site-packages (from pandas) (2.9.0.post0)\n",
      "Requirement already satisfied: pytz>=2020.1 in c:\\users\\user\\appdata\\local\\programs\\python\\python312\\lib\\site-packages (from pandas) (2024.1)\n",
      "Requirement already satisfied: tzdata>=2022.7 in c:\\users\\user\\appdata\\local\\programs\\python\\python312\\lib\\site-packages (from pandas) (2024.1)\n",
      "Requirement already satisfied: six>=1.5 in c:\\users\\user\\appdata\\local\\programs\\python\\python312\\lib\\site-packages (from python-dateutil>=2.8.2->pandas) (1.16.0)\n"
     ]
    }
   ],
   "source": [
    "!pip install pandas"
   ]
  },
  {
   "cell_type": "code",
   "execution_count": 3,
   "id": "cda4a1bb-6368-49ac-8616-e30a51c9b1fa",
   "metadata": {},
   "outputs": [
    {
     "name": "stdout",
     "output_type": "stream",
     "text": [
      "Name: pandas\n",
      "Version: 2.2.2\n",
      "Summary: Powerful data structures for data analysis, time series, and statistics\n",
      "Home-page: https://pandas.pydata.org\n",
      "Author: \n",
      "Author-email: The Pandas Development Team <pandas-dev@python.org>\n",
      "License: BSD 3-Clause License\n",
      "\n",
      "Copyright (c) 2008-2011, AQR Capital Management, LLC, Lambda Foundry, Inc. and PyData Development Team\n",
      "All rights reserved.\n",
      "\n",
      "Copyright (c) 2011-2023, Open source contributors.\n",
      "\n",
      "Redistribution and use in source and binary forms, with or without\n",
      "modification, are permitted provided that the following conditions are met:\n",
      "\n",
      "* Redistributions of source code must retain the above copyright notice, this\n",
      "  list of conditions and the following disclaimer.\n",
      "\n",
      "* Redistributions in binary form must reproduce the above copyright notice,\n",
      "  this list of conditions and the following disclaimer in the documentation\n",
      "  and/or other materials provided with the distribution.\n",
      "\n",
      "* Neither the name of the copyright holder nor the names of its\n",
      "  contributors may be used to endorse or promote products derived from\n",
      "  this software without specific prior written permission.\n",
      "\n",
      "THIS SOFTWARE IS PROVIDED BY THE COPYRIGHT HOLDERS AND CONTRIBUTORS \"AS IS\"\n",
      "AND ANY EXPRESS OR IMPLIED WARRANTIES, INCLUDING, BUT NOT LIMITED TO, THE\n",
      "IMPLIED WARRANTIES OF MERCHANTABILITY AND FITNESS FOR A PARTICULAR PURPOSE ARE\n",
      "DISCLAIMED. IN NO EVENT SHALL THE COPYRIGHT HOLDER OR CONTRIBUTORS BE LIABLE\n",
      "FOR ANY DIRECT, INDIRECT, INCIDENTAL, SPECIAL, EXEMPLARY, OR CONSEQUENTIAL\n",
      "DAMAGES (INCLUDING, BUT NOT LIMITED TO, PROCUREMENT OF SUBSTITUTE GOODS OR\n",
      "SERVICES; LOSS OF USE, DATA, OR PROFITS; OR BUSINESS INTERRUPTION) HOWEVER\n",
      "CAUSED AND ON ANY THEORY OF LIABILITY, WHETHER IN CONTRACT, STRICT LIABILITY,\n",
      "OR TORT (INCLUDING NEGLIGENCE OR OTHERWISE) ARISING IN ANY WAY OUT OF THE USE\n",
      "OF THIS SOFTWARE, EVEN IF ADVISED OF THE POSSIBILITY OF SUCH DAMAGE.\n",
      "Location: C:\\Users\\USER\\AppData\\Local\\Programs\\Python\\Python312\\Lib\\site-packages\n",
      "Requires: numpy, python-dateutil, pytz, tzdata\n",
      "Required-by: \n",
      "Note: you may need to restart the kernel to use updated packages.\n"
     ]
    }
   ],
   "source": [
    "pip show pandas"
   ]
  },
  {
   "cell_type": "code",
   "execution_count": 4,
   "id": "fe5166ec-e82a-4a07-84b8-8f2329b7cafa",
   "metadata": {},
   "outputs": [],
   "source": [
    "import pandas as pd"
   ]
  },
  {
   "cell_type": "code",
   "execution_count": 7,
   "id": "35489af3-30ab-4ea3-81ef-4568ec205c41",
   "metadata": {},
   "outputs": [
    {
     "name": "stdout",
     "output_type": "stream",
     "text": [
      "(125972, 43)\n"
     ]
    }
   ],
   "source": [
    "print(data.shape)"
   ]
  },
  {
   "cell_type": "code",
   "execution_count": 8,
   "id": "68b89354-96d1-41e6-9f37-2d80daecef43",
   "metadata": {},
   "outputs": [
    {
     "name": "stdout",
     "output_type": "stream",
     "text": [
      "0           0\n",
      "tcp         0\n",
      "ftp_data    0\n",
      "SF          0\n",
      "491         0\n",
      "0.1         0\n",
      "0.2         0\n",
      "0.3         0\n",
      "0.4         0\n",
      "0.5         0\n",
      "0.6         0\n",
      "0.7         0\n",
      "0.8         0\n",
      "0.9         0\n",
      "0.10        0\n",
      "0.11        0\n",
      "0.12        0\n",
      "0.13        0\n",
      "0.14        0\n",
      "0.15        0\n",
      "0.16        0\n",
      "0.18        0\n",
      "2           0\n",
      "2.1         0\n",
      "0.00        0\n",
      "0.00.1      0\n",
      "0.00.2      0\n",
      "0.00.3      0\n",
      "1.00        0\n",
      "0.00.4      0\n",
      "0.00.5      0\n",
      "150         0\n",
      "25          0\n",
      "0.17        0\n",
      "0.03        0\n",
      "0.17.1      0\n",
      "0.00.6      0\n",
      "0.00.7      0\n",
      "0.00.8      0\n",
      "0.05        0\n",
      "0.00.9      0\n",
      "normal      0\n",
      "20          0\n",
      "dtype: int64\n"
     ]
    }
   ],
   "source": [
    "print(data.isnull().sum())"
   ]
  },
  {
   "cell_type": "code",
   "execution_count": 9,
   "id": "7db44897-4803-4656-af2f-3c9666bf8297",
   "metadata": {},
   "outputs": [
    {
     "name": "stdout",
     "output_type": "stream",
     "text": [
      "0             int64\n",
      "tcp          object\n",
      "ftp_data     object\n",
      "SF           object\n",
      "491           int64\n",
      "0.1           int64\n",
      "0.2           int64\n",
      "0.3           int64\n",
      "0.4           int64\n",
      "0.5           int64\n",
      "0.6           int64\n",
      "0.7           int64\n",
      "0.8           int64\n",
      "0.9           int64\n",
      "0.10          int64\n",
      "0.11          int64\n",
      "0.12          int64\n",
      "0.13          int64\n",
      "0.14          int64\n",
      "0.15          int64\n",
      "0.16          int64\n",
      "0.18          int64\n",
      "2             int64\n",
      "2.1           int64\n",
      "0.00        float64\n",
      "0.00.1      float64\n",
      "0.00.2      float64\n",
      "0.00.3      float64\n",
      "1.00        float64\n",
      "0.00.4      float64\n",
      "0.00.5      float64\n",
      "150           int64\n",
      "25            int64\n",
      "0.17        float64\n",
      "0.03        float64\n",
      "0.17.1      float64\n",
      "0.00.6      float64\n",
      "0.00.7      float64\n",
      "0.00.8      float64\n",
      "0.05        float64\n",
      "0.00.9      float64\n",
      "normal       object\n",
      "20            int64\n",
      "dtype: object\n"
     ]
    }
   ],
   "source": [
    "print(data.dtypes)"
   ]
  },
  {
   "cell_type": "code",
   "execution_count": 10,
   "id": "1d03b9ec-a525-4131-89f6-fd68290d203f",
   "metadata": {},
   "outputs": [
    {
     "name": "stdout",
     "output_type": "stream",
     "text": [
      "   0  tcp ftp_data   SF  491   0.1  0.2  0.3  0.4  0.5  ...  0.17  0.03  \\\n",
      "0  0  udp    other   SF  146     0    0    0    0    0  ...  0.00  0.60   \n",
      "1  0  tcp  private   S0    0     0    0    0    0    0  ...  0.10  0.05   \n",
      "2  0  tcp     http   SF  232  8153    0    0    0    0  ...  1.00  0.00   \n",
      "3  0  tcp     http   SF  199   420    0    0    0    0  ...  1.00  0.00   \n",
      "4  0  tcp  private  REJ    0     0    0    0    0    0  ...  0.07  0.07   \n",
      "\n",
      "   0.17.1  0.00.6  0.00.7  0.00.8  0.05  0.00.9   normal  20  \n",
      "0    0.88    0.00    0.00    0.00   0.0    0.00   normal  15  \n",
      "1    0.00    0.00    1.00    1.00   0.0    0.00  neptune  19  \n",
      "2    0.03    0.04    0.03    0.01   0.0    0.01   normal  21  \n",
      "3    0.00    0.00    0.00    0.00   0.0    0.00   normal  21  \n",
      "4    0.00    0.00    0.00    0.00   1.0    1.00  neptune  21  \n",
      "\n",
      "[5 rows x 43 columns]\n"
     ]
    }
   ],
   "source": [
    "print(data.head())"
   ]
  },
  {
   "cell_type": "code",
   "execution_count": 11,
   "id": "c355bf31-2797-4b3a-871b-a9bf3c94316a",
   "metadata": {},
   "outputs": [],
   "source": [
    "data = pd.read_csv(\"KDDTest+.txt\")"
   ]
  },
  {
   "cell_type": "code",
   "execution_count": 12,
   "id": "6e5f705e-2bfe-46f4-a12f-d37c2249506c",
   "metadata": {},
   "outputs": [
    {
     "name": "stdout",
     "output_type": "stream",
     "text": [
      "   0   tcp   private   REJ    0.1    0.2  0.3  0.4  0.5  0.6  ...  0.04.1  \\\n",
      "0  0   tcp   private   REJ      0      0    0    0    0    0  ...    0.00   \n",
      "1  2   tcp  ftp_data    SF  12983      0    0    0    0    0  ...    0.61   \n",
      "2  0  icmp     eco_i    SF     20      0    0    0    0    0  ...    1.00   \n",
      "3  1   tcp    telnet  RSTO      0     15    0    0    0    0  ...    0.31   \n",
      "4  0   tcp      http    SF    267  14515    0    0    0    0  ...    1.00   \n",
      "\n",
      "   0.06.1  0.00.3  0.00.4  0.00.5  0.00.6  1.00.2  1.00.3  neptune  21  \n",
      "0    0.06    0.00    0.00    0.00     0.0    1.00    1.00  neptune  21  \n",
      "1    0.04    0.61    0.02    0.00     0.0    0.00    0.00   normal  21  \n",
      "2    0.00    1.00    0.28    0.00     0.0    0.00    0.00    saint  15  \n",
      "3    0.17    0.03    0.02    0.00     0.0    0.83    0.71    mscan  11  \n",
      "4    0.00    0.01    0.03    0.01     0.0    0.00    0.00   normal  21  \n",
      "\n",
      "[5 rows x 43 columns]\n"
     ]
    }
   ],
   "source": [
    "print(data.head())"
   ]
  },
  {
   "cell_type": "code",
   "execution_count": 13,
   "id": "e0ba671e-663a-4695-b995-9ef7d0fa3abc",
   "metadata": {},
   "outputs": [],
   "source": []
  },
  {
   "cell_type": "code",
   "execution_count": 14,
   "id": "5fc5ee21-044c-49fd-92a2-fcc5d8e12c53",
   "metadata": {},
   "outputs": [
    {
     "name": "stdout",
     "output_type": "stream",
     "text": [
      "   0  tcp ftp_data   SF  491   0.1  0.2  0.3  0.4  0.5  ...  0.17  0.03  \\\n",
      "0  0  udp    other   SF  146     0    0    0    0    0  ...  0.00  0.60   \n",
      "1  0  tcp  private   S0    0     0    0    0    0    0  ...  0.10  0.05   \n",
      "2  0  tcp     http   SF  232  8153    0    0    0    0  ...  1.00  0.00   \n",
      "3  0  tcp     http   SF  199   420    0    0    0    0  ...  1.00  0.00   \n",
      "4  0  tcp  private  REJ    0     0    0    0    0    0  ...  0.07  0.07   \n",
      "\n",
      "   0.17.1  0.00.6  0.00.7  0.00.8  0.05  0.00.9   normal  20  \n",
      "0    0.88    0.00    0.00    0.00   0.0    0.00   normal  15  \n",
      "1    0.00    0.00    1.00    1.00   0.0    0.00  neptune  19  \n",
      "2    0.03    0.04    0.03    0.01   0.0    0.01   normal  21  \n",
      "3    0.00    0.00    0.00    0.00   0.0    0.00   normal  21  \n",
      "4    0.00    0.00    0.00    0.00   1.0    1.00  neptune  21  \n",
      "\n",
      "[5 rows x 43 columns]\n"
     ]
    }
   ],
   "source": [
    "print(data.head())"
   ]
  },
  {
   "cell_type": "code",
   "execution_count": 15,
   "id": "d9be89f6-7aab-4e9a-8922-747b2eb73128",
   "metadata": {},
   "outputs": [
    {
     "name": "stdout",
     "output_type": "stream",
     "text": [
      "<class 'pandas.core.frame.DataFrame'>\n",
      "RangeIndex: 125972 entries, 0 to 125971\n",
      "Data columns (total 43 columns):\n",
      " #   Column    Non-Null Count   Dtype  \n",
      "---  ------    --------------   -----  \n",
      " 0   0         125972 non-null  int64  \n",
      " 1   tcp       125972 non-null  object \n",
      " 2   ftp_data  125972 non-null  object \n",
      " 3   SF        125972 non-null  object \n",
      " 4   491       125972 non-null  int64  \n",
      " 5   0.1       125972 non-null  int64  \n",
      " 6   0.2       125972 non-null  int64  \n",
      " 7   0.3       125972 non-null  int64  \n",
      " 8   0.4       125972 non-null  int64  \n",
      " 9   0.5       125972 non-null  int64  \n",
      " 10  0.6       125972 non-null  int64  \n",
      " 11  0.7       125972 non-null  int64  \n",
      " 12  0.8       125972 non-null  int64  \n",
      " 13  0.9       125972 non-null  int64  \n",
      " 14  0.10      125972 non-null  int64  \n",
      " 15  0.11      125972 non-null  int64  \n",
      " 16  0.12      125972 non-null  int64  \n",
      " 17  0.13      125972 non-null  int64  \n",
      " 18  0.14      125972 non-null  int64  \n",
      " 19  0.15      125972 non-null  int64  \n",
      " 20  0.16      125972 non-null  int64  \n",
      " 21  0.18      125972 non-null  int64  \n",
      " 22  2         125972 non-null  int64  \n",
      " 23  2.1       125972 non-null  int64  \n",
      " 24  0.00      125972 non-null  float64\n",
      " 25  0.00.1    125972 non-null  float64\n",
      " 26  0.00.2    125972 non-null  float64\n",
      " 27  0.00.3    125972 non-null  float64\n",
      " 28  1.00      125972 non-null  float64\n",
      " 29  0.00.4    125972 non-null  float64\n",
      " 30  0.00.5    125972 non-null  float64\n",
      " 31  150       125972 non-null  int64  \n",
      " 32  25        125972 non-null  int64  \n",
      " 33  0.17      125972 non-null  float64\n",
      " 34  0.03      125972 non-null  float64\n",
      " 35  0.17.1    125972 non-null  float64\n",
      " 36  0.00.6    125972 non-null  float64\n",
      " 37  0.00.7    125972 non-null  float64\n",
      " 38  0.00.8    125972 non-null  float64\n",
      " 39  0.05      125972 non-null  float64\n",
      " 40  0.00.9    125972 non-null  float64\n",
      " 41  normal    125972 non-null  object \n",
      " 42  20        125972 non-null  int64  \n",
      "dtypes: float64(15), int64(24), object(4)\n",
      "memory usage: 41.3+ MB\n",
      "None\n"
     ]
    }
   ],
   "source": [
    "print(data.info())"
   ]
  },
  {
   "cell_type": "code",
   "execution_count": 16,
   "id": "7d0e30c5-8cac-415c-aa29-5cda2d0941a7",
   "metadata": {},
   "outputs": [
    {
     "name": "stdout",
     "output_type": "stream",
     "text": [
      "                   0           491           0.1            0.2  \\\n",
      "count  125972.000000  1.259720e+05  1.259720e+05  125972.000000   \n",
      "mean      287.146929  4.556710e+04  1.977927e+04       0.000198   \n",
      "std      2604.525522  5.870354e+06  4.021285e+06       0.014086   \n",
      "min         0.000000  0.000000e+00  0.000000e+00       0.000000   \n",
      "25%         0.000000  0.000000e+00  0.000000e+00       0.000000   \n",
      "50%         0.000000  4.400000e+01  0.000000e+00       0.000000   \n",
      "75%         0.000000  2.760000e+02  5.160000e+02       0.000000   \n",
      "max     42908.000000  1.379964e+09  1.309937e+09       1.000000   \n",
      "\n",
      "                 0.3            0.4            0.5            0.6  \\\n",
      "count  125972.000000  125972.000000  125972.000000  125972.000000   \n",
      "mean        0.022688       0.000111       0.204411       0.001222   \n",
      "std         0.253531       0.014366       2.149977       0.045239   \n",
      "min         0.000000       0.000000       0.000000       0.000000   \n",
      "25%         0.000000       0.000000       0.000000       0.000000   \n",
      "50%         0.000000       0.000000       0.000000       0.000000   \n",
      "75%         0.000000       0.000000       0.000000       0.000000   \n",
      "max         3.000000       3.000000      77.000000       5.000000   \n",
      "\n",
      "                 0.7            0.8  ...             25           0.17  \\\n",
      "count  125972.000000  125972.000000  ...  125972.000000  125972.000000   \n",
      "mean        0.395739       0.279253  ...     115.653725       0.521244   \n",
      "std         0.489011      23.942137  ...     110.702886       0.448950   \n",
      "min         0.000000       0.000000  ...       0.000000       0.000000   \n",
      "25%         0.000000       0.000000  ...      10.000000       0.050000   \n",
      "50%         0.000000       0.000000  ...      63.000000       0.510000   \n",
      "75%         1.000000       0.000000  ...     255.000000       1.000000   \n",
      "max         1.000000    7479.000000  ...     255.000000       1.000000   \n",
      "\n",
      "                0.03         0.17.1         0.00.6         0.00.7  \\\n",
      "count  125972.000000  125972.000000  125972.000000  125972.000000   \n",
      "mean        0.082952       0.148379       0.032543       0.284455   \n",
      "std         0.188922       0.308998       0.112564       0.444785   \n",
      "min         0.000000       0.000000       0.000000       0.000000   \n",
      "25%         0.000000       0.000000       0.000000       0.000000   \n",
      "50%         0.020000       0.000000       0.000000       0.000000   \n",
      "75%         0.070000       0.060000       0.020000       1.000000   \n",
      "max         1.000000       1.000000       1.000000       1.000000   \n",
      "\n",
      "              0.00.8           0.05         0.00.9             20  \n",
      "count  125972.000000  125972.000000  125972.000000  125972.000000  \n",
      "mean        0.278487       0.118832       0.120241      19.504056  \n",
      "std         0.445670       0.306559       0.319460       2.291512  \n",
      "min         0.000000       0.000000       0.000000       0.000000  \n",
      "25%         0.000000       0.000000       0.000000      18.000000  \n",
      "50%         0.000000       0.000000       0.000000      20.000000  \n",
      "75%         1.000000       0.000000       0.000000      21.000000  \n",
      "max         1.000000       1.000000       1.000000      21.000000  \n",
      "\n",
      "[8 rows x 39 columns]\n"
     ]
    }
   ],
   "source": [
    "print(data.describe())"
   ]
  },
  {
   "cell_type": "code",
   "execution_count": 16,
   "id": "22f01f33-4222-46bd-ab91-a6397d6a538c",
   "metadata": {},
   "outputs": [
    {
     "name": "stdout",
     "output_type": "stream",
     "text": [
      "Collecting scikit-learnNote: you may need to restart the kernel to use updated packages.\n",
      "\n",
      "  Downloading scikit_learn-1.4.2-cp312-cp312-win_amd64.whl.metadata (11 kB)\n",
      "Requirement already satisfied: numpy>=1.19.5 in c:\\users\\user\\appdata\\local\\programs\\python\\python312\\lib\\site-packages (from scikit-learn) (1.26.4)\n",
      "Collecting scipy>=1.6.0 (from scikit-learn)\n",
      "  Downloading scipy-1.13.0-cp312-cp312-win_amd64.whl.metadata (60 kB)\n",
      "     ---------------------------------------- 0.0/60.6 kB ? eta -:--:--\n",
      "     --------------------------------- ------ 51.2/60.6 kB 2.6 MB/s eta 0:00:01\n",
      "     -------------------------------------- 60.6/60.6 kB 799.0 kB/s eta 0:00:00\n",
      "Collecting joblib>=1.2.0 (from scikit-learn)\n",
      "  Downloading joblib-1.4.2-py3-none-any.whl.metadata (5.4 kB)\n",
      "Collecting threadpoolctl>=2.0.0 (from scikit-learn)\n",
      "  Downloading threadpoolctl-3.5.0-py3-none-any.whl.metadata (13 kB)\n",
      "Downloading scikit_learn-1.4.2-cp312-cp312-win_amd64.whl (10.6 MB)\n",
      "   ---------------------------------------- 0.0/10.6 MB ? eta -:--:--\n",
      "   - -------------------------------------- 0.5/10.6 MB 10.5 MB/s eta 0:00:01\n",
      "   ---- ----------------------------------- 1.3/10.6 MB 13.4 MB/s eta 0:00:01\n",
      "   ------- -------------------------------- 2.0/10.6 MB 14.3 MB/s eta 0:00:01\n",
      "   ---------- ----------------------------- 2.8/10.6 MB 16.1 MB/s eta 0:00:01\n",
      "   ------------- -------------------------- 3.5/10.6 MB 15.8 MB/s eta 0:00:01\n",
      "   --------------- ------------------------ 4.1/10.6 MB 15.5 MB/s eta 0:00:01\n",
      "   ------------------ --------------------- 4.9/10.6 MB 15.8 MB/s eta 0:00:01\n",
      "   -------------------- ------------------- 5.5/10.6 MB 15.4 MB/s eta 0:00:01\n",
      "   ----------------------- ---------------- 6.3/10.6 MB 15.5 MB/s eta 0:00:01\n",
      "   -------------------------- ------------- 7.1/10.6 MB 15.6 MB/s eta 0:00:01\n",
      "   ----------------------------- ---------- 7.8/10.6 MB 15.7 MB/s eta 0:00:01\n",
      "   ------------------------------- -------- 8.4/10.6 MB 15.5 MB/s eta 0:00:01\n",
      "   ---------------------------------- ----- 9.1/10.6 MB 15.3 MB/s eta 0:00:01\n",
      "   ------------------------------------ --- 9.8/10.6 MB 15.3 MB/s eta 0:00:01\n",
      "   ---------------------------------------  10.3/10.6 MB 15.2 MB/s eta 0:00:01\n",
      "   ---------------------------------------  10.6/10.6 MB 15.2 MB/s eta 0:00:01\n",
      "   ---------------------------------------- 10.6/10.6 MB 13.4 MB/s eta 0:00:00\n",
      "Downloading joblib-1.4.2-py3-none-any.whl (301 kB)\n",
      "   ---------------------------------------- 0.0/301.8 kB ? eta -:--:--\n",
      "   ---------------------------------------- 301.8/301.8 kB 9.4 MB/s eta 0:00:00\n",
      "Downloading scipy-1.13.0-cp312-cp312-win_amd64.whl (45.9 MB)\n",
      "   ---------------------------------------- 0.0/45.9 MB ? eta -:--:--\n",
      "   ---------------------------------------- 0.4/45.9 MB 9.2 MB/s eta 0:00:05\n",
      "    --------------------------------------- 1.1/45.9 MB 9.8 MB/s eta 0:00:05\n",
      "   - -------------------------------------- 1.7/45.9 MB 10.1 MB/s eta 0:00:05\n",
      "   - -------------------------------------- 2.2/45.9 MB 9.5 MB/s eta 0:00:05\n",
      "   --- ------------------------------------ 3.5/45.9 MB 10.1 MB/s eta 0:00:05\n",
      "   --- ------------------------------------ 4.2/45.9 MB 10.4 MB/s eta 0:00:04\n",
      "   ---- ----------------------------------- 4.8/45.9 MB 10.5 MB/s eta 0:00:04\n",
      "   ---- ----------------------------------- 5.0/45.9 MB 9.5 MB/s eta 0:00:05\n",
      "   ---- ----------------------------------- 5.4/45.9 MB 9.0 MB/s eta 0:00:05\n",
      "   ----- ---------------------------------- 6.2/45.9 MB 9.2 MB/s eta 0:00:05\n",
      "   ------ --------------------------------- 7.1/45.9 MB 9.7 MB/s eta 0:00:05\n",
      "   ------ --------------------------------- 7.9/45.9 MB 9.9 MB/s eta 0:00:04\n",
      "   ------- -------------------------------- 8.7/45.9 MB 10.0 MB/s eta 0:00:04\n",
      "   -------- ------------------------------- 9.6/45.9 MB 10.4 MB/s eta 0:00:04\n",
      "   --------- ------------------------------ 10.8/45.9 MB 11.3 MB/s eta 0:00:04\n",
      "   ---------- ----------------------------- 11.7/45.9 MB 11.3 MB/s eta 0:00:04\n",
      "   ---------- ----------------------------- 12.5/45.9 MB 12.4 MB/s eta 0:00:03\n",
      "   ----------- ---------------------------- 13.3/45.9 MB 11.7 MB/s eta 0:00:03\n",
      "   ------------ --------------------------- 14.0/45.9 MB 11.9 MB/s eta 0:00:03\n",
      "   ------------ --------------------------- 14.6/45.9 MB 11.7 MB/s eta 0:00:03\n",
      "   -------------- ------------------------- 16.1/45.9 MB 14.6 MB/s eta 0:00:03\n",
      "   --------------- ------------------------ 17.6/45.9 MB 16.4 MB/s eta 0:00:02\n",
      "   --------------- ------------------------ 18.3/45.9 MB 16.4 MB/s eta 0:00:02\n",
      "   ---------------- ----------------------- 18.8/45.9 MB 16.0 MB/s eta 0:00:02\n",
      "   ---------------- ----------------------- 19.2/45.9 MB 15.6 MB/s eta 0:00:02\n",
      "   ----------------- ---------------------- 20.0/45.9 MB 15.6 MB/s eta 0:00:02\n",
      "   ------------------ --------------------- 21.0/45.9 MB 15.2 MB/s eta 0:00:02\n",
      "   ------------------- -------------------- 22.3/45.9 MB 15.6 MB/s eta 0:00:02\n",
      "   -------------------- ------------------- 23.1/45.9 MB 16.4 MB/s eta 0:00:02\n",
      "   -------------------- ------------------- 23.8/45.9 MB 16.8 MB/s eta 0:00:02\n",
      "   --------------------- ------------------ 24.4/45.9 MB 17.2 MB/s eta 0:00:02\n",
      "   ---------------------- ----------------- 25.5/45.9 MB 17.3 MB/s eta 0:00:02\n",
      "   ---------------------- ----------------- 26.2/45.9 MB 16.4 MB/s eta 0:00:02\n",
      "   ----------------------- ---------------- 26.8/45.9 MB 16.0 MB/s eta 0:00:02\n",
      "   ------------------------ --------------- 27.8/45.9 MB 15.2 MB/s eta 0:00:02\n",
      "   ------------------------- -------------- 28.7/45.9 MB 15.2 MB/s eta 0:00:02\n",
      "   ------------------------- -------------- 29.7/45.9 MB 16.4 MB/s eta 0:00:01\n",
      "   -------------------------- ------------- 30.4/45.9 MB 16.0 MB/s eta 0:00:01\n",
      "   --------------------------- ------------ 31.2/45.9 MB 15.2 MB/s eta 0:00:01\n",
      "   --------------------------- ------------ 32.0/45.9 MB 14.9 MB/s eta 0:00:01\n",
      "   ---------------------------- ----------- 32.7/45.9 MB 14.2 MB/s eta 0:00:01\n",
      "   ----------------------------- ---------- 33.6/45.9 MB 13.9 MB/s eta 0:00:01\n",
      "   ----------------------------- ---------- 34.0/45.9 MB 13.6 MB/s eta 0:00:01\n",
      "   ------------------------------ --------- 35.0/45.9 MB 14.2 MB/s eta 0:00:01\n",
      "   ------------------------------- -------- 35.8/45.9 MB 13.9 MB/s eta 0:00:01\n",
      "   ------------------------------- -------- 36.4/45.9 MB 13.9 MB/s eta 0:00:01\n",
      "   -------------------------------- ------- 37.1/45.9 MB 13.6 MB/s eta 0:00:01\n",
      "   --------------------------------- ------ 37.9/45.9 MB 13.1 MB/s eta 0:00:01\n",
      "   --------------------------------- ------ 38.7/45.9 MB 12.8 MB/s eta 0:00:01\n",
      "   ---------------------------------- ----- 39.5/45.9 MB 12.8 MB/s eta 0:00:01\n",
      "   ---------------------------------- ----- 40.2/45.9 MB 13.1 MB/s eta 0:00:01\n",
      "   ----------------------------------- ---- 41.1/45.9 MB 13.1 MB/s eta 0:00:01\n",
      "   ------------------------------------ --- 42.0/45.9 MB 13.4 MB/s eta 0:00:01\n",
      "   ------------------------------------- -- 42.8/45.9 MB 13.6 MB/s eta 0:00:01\n",
      "   ------------------------------------- -- 43.6/45.9 MB 13.1 MB/s eta 0:00:01\n",
      "   -------------------------------------- - 44.5/45.9 MB 13.9 MB/s eta 0:00:01\n",
      "   ---------------------------------------  45.5/45.9 MB 13.9 MB/s eta 0:00:01\n",
      "   ---------------------------------------  45.9/45.9 MB 13.4 MB/s eta 0:00:01\n",
      "   ---------------------------------------  45.9/45.9 MB 13.4 MB/s eta 0:00:01\n",
      "   ---------------------------------------  45.9/45.9 MB 13.4 MB/s eta 0:00:01\n",
      "   ---------------------------------------  45.9/45.9 MB 13.4 MB/s eta 0:00:01\n",
      "   ---------------------------------------  45.9/45.9 MB 13.4 MB/s eta 0:00:01\n",
      "   ---------------------------------------  45.9/45.9 MB 13.4 MB/s eta 0:00:01\n",
      "   ---------------------------------------  45.9/45.9 MB 13.4 MB/s eta 0:00:01\n",
      "   ---------------------------------------- 45.9/45.9 MB 8.6 MB/s eta 0:00:00\n",
      "Downloading threadpoolctl-3.5.0-py3-none-any.whl (18 kB)\n",
      "Installing collected packages: threadpoolctl, scipy, joblib, scikit-learn\n",
      "Successfully installed joblib-1.4.2 scikit-learn-1.4.2 scipy-1.13.0 threadpoolctl-3.5.0\n"
     ]
    }
   ],
   "source": [
    "pip install scikit-learn\n"
   ]
  },
  {
   "cell_type": "code",
   "execution_count": 17,
   "id": "a2193afb-8bd3-4cb3-a05b-9741784e2237",
   "metadata": {},
   "outputs": [],
   "source": [
    "from sklearn.preprocessing import MinMaxScaler"
   ]
  },
  {
   "cell_type": "code",
   "execution_count": 18,
   "id": "b810f241-c418-4ec1-b1cb-f86cdb2dec29",
   "metadata": {},
   "outputs": [],
   "source": [
    "normal_scaler = MinMaxScaler()\n",
    "train_data_encoded[train_data_encoded.columns] = normal_scaler.fit_transform(train_data_encoded[train_data_encoded.columns])"
   ]
  },
  {
   "cell_type": "code",
   "execution_count": 19,
   "id": "4c496a7c-b134-4284-aba9-f64737eed73c",
   "metadata": {},
   "outputs": [
    {
     "name": "stdout",
     "output_type": "stream",
     "text": [
      "MinMaxScaler()\n"
     ]
    }
   ],
   "source": [
    "print(normal_scaler)"
   ]
  },
  {
   "cell_type": "code",
   "execution_count": 20,
   "id": "7bebcb24-4f4f-4db1-9448-23571e99ed4e",
   "metadata": {},
   "outputs": [
    {
     "name": "stdout",
     "output_type": "stream",
     "text": [
      "MinMaxScaler()\n"
     ]
    }
   ],
   "source": [
    "print(MinMaxScaler())"
   ]
  },
  {
   "cell_type": "code",
   "execution_count": 14,
   "id": "aad12f2f-f66d-46dd-ada8-7df86388db4f",
   "metadata": {},
   "outputs": [
    {
     "name": "stdout",
     "output_type": "stream",
     "text": [
      "0             int64\n",
      "tcp          object\n",
      "ftp_data     object\n",
      "SF           object\n",
      "491           int64\n",
      "0.1           int64\n",
      "0.2           int64\n",
      "0.3           int64\n",
      "0.4           int64\n",
      "0.5           int64\n",
      "0.6           int64\n",
      "0.7           int64\n",
      "0.8           int64\n",
      "0.9           int64\n",
      "0.10          int64\n",
      "0.11          int64\n",
      "0.12          int64\n",
      "0.13          int64\n",
      "0.14          int64\n",
      "0.15          int64\n",
      "0.16          int64\n",
      "0.18          int64\n",
      "2             int64\n",
      "2.1           int64\n",
      "0.00        float64\n",
      "0.00.1      float64\n",
      "0.00.2      float64\n",
      "0.00.3      float64\n",
      "1.00        float64\n",
      "0.00.4      float64\n",
      "0.00.5      float64\n",
      "150           int64\n",
      "25            int64\n",
      "0.17        float64\n",
      "0.03        float64\n",
      "0.17.1      float64\n",
      "0.00.6      float64\n",
      "0.00.7      float64\n",
      "0.00.8      float64\n",
      "0.05        float64\n",
      "0.00.9      float64\n",
      "normal       object\n",
      "20            int64\n",
      "dtype: object\n"
     ]
    }
   ],
   "source": [
    "print(train_data.dtypes)"
   ]
  },
  {
   "cell_type": "code",
   "execution_count": 17,
   "id": "df7670b4-dac9-43e6-8c0b-1d1a65a41c77",
   "metadata": {},
   "outputs": [],
   "source": [
    "encoded_train_data = pd.get_dummies(train_data, columns=['tcp', 'ftp_data', 'SF','normal'])"
   ]
  },
  {
   "cell_type": "code",
   "execution_count": 21,
   "id": "5d47f932-c9b7-4e8f-bafa-952173130a4c",
   "metadata": {},
   "outputs": [
    {
     "name": "stdout",
     "output_type": "stream",
     "text": [
      "   0  491   0.1  0.2  0.3  0.4  0.5  0.6  0.7  0.8  ...  normal_phf  \\\n",
      "0  0  146     0    0    0    0    0    0    0    0  ...       False   \n",
      "1  0    0     0    0    0    0    0    0    0    0  ...       False   \n",
      "2  0  232  8153    0    0    0    0    0    1    0  ...       False   \n",
      "3  0  199   420    0    0    0    0    0    1    0  ...       False   \n",
      "4  0    0     0    0    0    0    0    0    0    0  ...       False   \n",
      "\n",
      "   normal_pod  normal_portsweep  normal_rootkit  normal_satan  normal_smurf  \\\n",
      "0       False             False           False         False         False   \n",
      "1       False             False           False         False         False   \n",
      "2       False             False           False         False         False   \n",
      "3       False             False           False         False         False   \n",
      "4       False             False           False         False         False   \n",
      "\n",
      "   normal_spy  normal_teardrop  normal_warezclient  normal_warezmaster  \n",
      "0       False            False               False               False  \n",
      "1       False            False               False               False  \n",
      "2       False            False               False               False  \n",
      "3       False            False               False               False  \n",
      "4       False            False               False               False  \n",
      "\n",
      "[5 rows x 146 columns]\n"
     ]
    }
   ],
   "source": [
    "print(encoded_train_data.head())"
   ]
  },
  {
   "cell_type": "code",
   "execution_count": 27,
   "id": "77cd2c9f-2073-4d4f-83ad-2ff8863013aa",
   "metadata": {},
   "outputs": [
    {
     "name": "stdout",
     "output_type": "stream",
     "text": [
      "Collecting keras\n",
      "  Downloading keras-3.3.3-py3-none-any.whl.metadata (5.7 kB)\n",
      "Collecting absl-py (from keras)\n",
      "  Downloading absl_py-2.1.0-py3-none-any.whl.metadata (2.3 kB)\n",
      "Requirement already satisfied: numpy in c:\\users\\user\\appdata\\local\\programs\\python\\python312\\lib\\site-packages (from keras) (1.26.4)\n",
      "Collecting rich (from keras)\n",
      "  Downloading rich-13.7.1-py3-none-any.whl.metadata (18 kB)\n",
      "Collecting namex (from keras)\n",
      "  Downloading namex-0.0.8-py3-none-any.whl.metadata (246 bytes)\n",
      "Collecting h5py (from keras)\n",
      "  Downloading h5py-3.11.0-cp312-cp312-win_amd64.whl.metadata (2.5 kB)\n",
      "Collecting optree (from keras)\n",
      "  Downloading optree-0.11.0-cp312-cp312-win_amd64.whl.metadata (46 kB)\n",
      "     ---------------------------------------- 0.0/46.2 kB ? eta -:--:--\n",
      "     ---------------------------------------- 0.0/46.2 kB ? eta -:--:--\n",
      "     ---------------------------------------- 0.0/46.2 kB ? eta -:--:--\n",
      "     ---------------------------------------- 0.0/46.2 kB ? eta -:--:--\n",
      "     ---------------------------------------- 0.0/46.2 kB ? eta -:--:--\n",
      "     --------------------------------- ---- 41.0/46.2 kB 991.0 kB/s eta 0:00:01\n",
      "     -------------------------------------- 46.2/46.2 kB 765.3 kB/s eta 0:00:00\n",
      "Collecting ml-dtypes (from keras)\n",
      "  Downloading ml_dtypes-0.4.0-cp312-cp312-win_amd64.whl.metadata (20 kB)\n",
      "Collecting typing-extensions>=4.0.0 (from optree->keras)\n",
      "  Downloading typing_extensions-4.11.0-py3-none-any.whl.metadata (3.0 kB)\n",
      "Collecting markdown-it-py>=2.2.0 (from rich->keras)\n",
      "  Downloading markdown_it_py-3.0.0-py3-none-any.whl.metadata (6.9 kB)\n",
      "Requirement already satisfied: pygments<3.0.0,>=2.13.0 in c:\\users\\user\\appdata\\local\\programs\\python\\python312\\lib\\site-packages (from rich->keras) (2.17.2)\n",
      "Collecting mdurl~=0.1 (from markdown-it-py>=2.2.0->rich->keras)\n",
      "  Downloading mdurl-0.1.2-py3-none-any.whl.metadata (1.6 kB)\n",
      "Downloading keras-3.3.3-py3-none-any.whl (1.1 MB)\n",
      "   ---------------------------------------- 0.0/1.1 MB ? eta -:--:--\n",
      "   ---------------------------------------- 0.0/1.1 MB ? eta -:--:--\n",
      "   -- ------------------------------------- 0.1/1.1 MB 1.6 MB/s eta 0:00:01\n",
      "   ----- ---------------------------------- 0.1/1.1 MB 1.2 MB/s eta 0:00:01\n",
      "   -------- ------------------------------- 0.2/1.1 MB 1.4 MB/s eta 0:00:01\n",
      "   ---------- ----------------------------- 0.3/1.1 MB 1.5 MB/s eta 0:00:01\n",
      "   ----------- ---------------------------- 0.3/1.1 MB 1.6 MB/s eta 0:00:01\n",
      "   ------------ --------------------------- 0.4/1.1 MB 1.3 MB/s eta 0:00:01\n",
      "   --------------- ------------------------ 0.4/1.1 MB 1.3 MB/s eta 0:00:01\n",
      "   ----------------- ---------------------- 0.5/1.1 MB 1.4 MB/s eta 0:00:01\n",
      "   -------------------- ------------------- 0.6/1.1 MB 1.4 MB/s eta 0:00:01\n",
      "   ----------------------- ---------------- 0.6/1.1 MB 1.4 MB/s eta 0:00:01\n",
      "   ------------------------ --------------- 0.7/1.1 MB 1.4 MB/s eta 0:00:01\n",
      "   ------------------------- -------------- 0.7/1.1 MB 1.3 MB/s eta 0:00:01\n",
      "   --------------------------- ------------ 0.8/1.1 MB 1.3 MB/s eta 0:00:01\n",
      "   ------------------------------ --------- 0.8/1.1 MB 1.3 MB/s eta 0:00:01\n",
      "   ----------------------------------- ---- 1.0/1.1 MB 1.4 MB/s eta 0:00:01\n",
      "   ---------------------------------------  1.1/1.1 MB 1.5 MB/s eta 0:00:01\n",
      "   ---------------------------------------- 1.1/1.1 MB 1.5 MB/s eta 0:00:00\n",
      "Downloading absl_py-2.1.0-py3-none-any.whl (133 kB)\n",
      "   ---------------------------------------- 0.0/133.7 kB ? eta -:--:--\n",
      "   ---------------------------------------  133.1/133.7 kB 2.6 MB/s eta 0:00:01\n",
      "   ---------------------------------------- 133.7/133.7 kB 2.6 MB/s eta 0:00:00\n",
      "Downloading h5py-3.11.0-cp312-cp312-win_amd64.whl (3.0 MB)\n",
      "   ---------------------------------------- 0.0/3.0 MB ? eta -:--:--\n",
      "   - -------------------------------------- 0.1/3.0 MB 2.4 MB/s eta 0:00:02\n",
      "   --- ------------------------------------ 0.2/3.0 MB 2.3 MB/s eta 0:00:02\n",
      "   ---- ----------------------------------- 0.3/3.0 MB 2.7 MB/s eta 0:00:01\n",
      "   ---- ----------------------------------- 0.3/3.0 MB 2.3 MB/s eta 0:00:02\n",
      "   ----- ---------------------------------- 0.4/3.0 MB 2.1 MB/s eta 0:00:02\n",
      "   ------- -------------------------------- 0.5/3.0 MB 2.1 MB/s eta 0:00:02\n",
      "   -------- ------------------------------- 0.6/3.0 MB 2.0 MB/s eta 0:00:02\n",
      "   ---------- ----------------------------- 0.8/3.0 MB 2.1 MB/s eta 0:00:02\n",
      "   ------------ --------------------------- 1.0/3.0 MB 2.3 MB/s eta 0:00:01\n",
      "   ------------- -------------------------- 1.0/3.0 MB 2.3 MB/s eta 0:00:01\n",
      "   ---------------- ----------------------- 1.2/3.0 MB 2.3 MB/s eta 0:00:01\n",
      "   -------------------- ------------------- 1.5/3.0 MB 2.5 MB/s eta 0:00:01\n",
      "   ---------------------- ----------------- 1.6/3.0 MB 2.5 MB/s eta 0:00:01\n",
      "   ----------------------- ---------------- 1.8/3.0 MB 2.6 MB/s eta 0:00:01\n",
      "   -------------------------- ------------- 1.9/3.0 MB 2.6 MB/s eta 0:00:01\n",
      "   --------------------------- ------------ 2.1/3.0 MB 2.6 MB/s eta 0:00:01\n",
      "   ---------------------------- ----------- 2.1/3.0 MB 2.5 MB/s eta 0:00:01\n",
      "   ------------------------------ --------- 2.3/3.0 MB 2.6 MB/s eta 0:00:01\n",
      "   -------------------------------- ------- 2.4/3.0 MB 2.6 MB/s eta 0:00:01\n",
      "   ---------------------------------- ----- 2.6/3.0 MB 2.7 MB/s eta 0:00:01\n",
      "   ------------------------------------ --- 2.7/3.0 MB 2.7 MB/s eta 0:00:01\n",
      "   ---------------------------------------  3.0/3.0 MB 2.8 MB/s eta 0:00:01\n",
      "   ---------------------------------------- 3.0/3.0 MB 2.7 MB/s eta 0:00:00\n",
      "Downloading ml_dtypes-0.4.0-cp312-cp312-win_amd64.whl (127 kB)\n",
      "   ---------------------------------------- 0.0/127.5 kB ? eta -:--:--\n",
      "   -------------------------------------- - 122.9/127.5 kB 7.0 MB/s eta 0:00:01\n",
      "   ---------------------------------------- 127.5/127.5 kB 2.5 MB/s eta 0:00:00\n",
      "Downloading namex-0.0.8-py3-none-any.whl (5.8 kB)\n",
      "Downloading optree-0.11.0-cp312-cp312-win_amd64.whl (241 kB)\n",
      "   ---------------------------------------- 0.0/241.7 kB ? eta -:--:--\n",
      "   ----------------------- ---------------- 143.4/241.7 kB 4.2 MB/s eta 0:00:01\n",
      "   ---------------------------------------- 241.7/241.7 kB 2.5 MB/s eta 0:00:00\n",
      "Downloading rich-13.7.1-py3-none-any.whl (240 kB)\n",
      "   ---------------------------------------- 0.0/240.7 kB ? eta -:--:--\n",
      "   --------------------------- ------------ 163.8/240.7 kB 3.3 MB/s eta 0:00:01\n",
      "   ---------------------------------------- 240.7/240.7 kB 3.0 MB/s eta 0:00:00\n",
      "Downloading markdown_it_py-3.0.0-py3-none-any.whl (87 kB)\n",
      "   ---------------------------------------- 0.0/87.5 kB ? eta -:--:--\n",
      "   -------------- ------------------------- 30.7/87.5 kB ? eta -:--:--\n",
      "   ---------------------------------------- 87.5/87.5 kB 1.6 MB/s eta 0:00:00\n",
      "Downloading typing_extensions-4.11.0-py3-none-any.whl (34 kB)\n",
      "Downloading mdurl-0.1.2-py3-none-any.whl (10.0 kB)\n",
      "Installing collected packages: namex, typing-extensions, ml-dtypes, mdurl, h5py, absl-py, optree, markdown-it-py, rich, keras\n",
      "Successfully installed absl-py-2.1.0 h5py-3.11.0 keras-3.3.3 markdown-it-py-3.0.0 mdurl-0.1.2 ml-dtypes-0.4.0 namex-0.0.8 optree-0.11.0 rich-13.7.1 typing-extensions-4.11.0\n",
      "Note: you may need to restart the kernel to use updated packages.\n"
     ]
    }
   ],
   "source": [
    "pip install keras"
   ]
  },
  {
   "cell_type": "code",
   "execution_count": 12,
   "id": "cf7ba6e7-8999-4134-a67b-4dc02f140f1b",
   "metadata": {},
   "outputs": [],
   "source": [
    "encoded_train_data[encoded_train_data.columns] = scaler.fit_transform(encoded_train_data[encoded_train_data.columns])"
   ]
  },
  {
   "cell_type": "code",
   "execution_count": 13,
   "id": "1527b898-11d2-4587-b19a-d1144f6a758e",
   "metadata": {},
   "outputs": [],
   "source": [
    "scaled_train_data = scaler.fit_transform(encoded_train_data[encoded_train_data.columns])"
   ]
  },
  {
   "cell_type": "code",
   "execution_count": 14,
   "id": "bd94e5e9-10fe-4f97-a908-6842eafd8c49",
   "metadata": {},
   "outputs": [
    {
     "name": "stdout",
     "output_type": "stream",
     "text": [
      "[[0.00000000e+00 1.05799870e-07 0.00000000e+00 ... 0.00000000e+00\n",
      "  0.00000000e+00 0.00000000e+00]\n",
      " [0.00000000e+00 0.00000000e+00 0.00000000e+00 ... 0.00000000e+00\n",
      "  0.00000000e+00 0.00000000e+00]\n",
      " [0.00000000e+00 1.68120341e-07 6.22396154e-06 ... 0.00000000e+00\n",
      "  0.00000000e+00 0.00000000e+00]\n",
      " ...\n",
      " [0.00000000e+00 1.61670897e-06 2.93143779e-07 ... 0.00000000e+00\n",
      "  0.00000000e+00 0.00000000e+00]\n",
      " [0.00000000e+00 0.00000000e+00 0.00000000e+00 ... 0.00000000e+00\n",
      "  0.00000000e+00 0.00000000e+00]\n",
      " [0.00000000e+00 1.09423153e-07 0.00000000e+00 ... 0.00000000e+00\n",
      "  0.00000000e+00 0.00000000e+00]]\n"
     ]
    }
   ],
   "source": [
    "print (scaled_train_data)"
   ]
  },
  {
   "cell_type": "code",
   "execution_count": 15,
   "id": "d260142e-07ea-4cd1-86cc-2d3e6a8a4fb5",
   "metadata": {},
   "outputs": [],
   "source": [
    "import pandas as pd"
   ]
  },
  {
   "cell_type": "code",
   "execution_count": 21,
   "id": "16af7e7a-59cb-461b-83a9-2d030f54baa0",
   "metadata": {},
   "outputs": [],
   "source": [
    "train_data = pd.read_csv(\"KDDTrain+.txt\")"
   ]
  },
  {
   "cell_type": "code",
   "execution_count": 22,
   "id": "5dd82962-4e3f-4d43-91b2-e8448940c8d6",
   "metadata": {},
   "outputs": [
    {
     "name": "stdout",
     "output_type": "stream",
     "text": [
      "        0  tcp  ftp_data   SF   491   0.1  0.2  0.3  0.4  0.5  ...  0.17  \\\n",
      "0       0  udp     other   SF   146     0    0    0    0    0  ...  0.00   \n",
      "1       0  tcp   private   S0     0     0    0    0    0    0  ...  0.10   \n",
      "2       0  tcp      http   SF   232  8153    0    0    0    0  ...  1.00   \n",
      "3       0  tcp      http   SF   199   420    0    0    0    0  ...  1.00   \n",
      "4       0  tcp   private  REJ     0     0    0    0    0    0  ...  0.07   \n",
      "...    ..  ...       ...  ...   ...   ...  ...  ...  ...  ...  ...   ...   \n",
      "125967  0  tcp   private   S0     0     0    0    0    0    0  ...  0.10   \n",
      "125968  8  udp   private   SF   105   145    0    0    0    0  ...  0.96   \n",
      "125969  0  tcp      smtp   SF  2231   384    0    0    0    0  ...  0.12   \n",
      "125970  0  tcp    klogin   S0     0     0    0    0    0    0  ...  0.03   \n",
      "125971  0  tcp  ftp_data   SF   151     0    0    0    0    0  ...  0.30   \n",
      "\n",
      "        0.03  0.17.1  0.00.6  0.00.7  0.00.8  0.05  0.00.9   normal  20  \n",
      "0       0.60    0.88    0.00    0.00    0.00  0.00    0.00   normal  15  \n",
      "1       0.05    0.00    0.00    1.00    1.00  0.00    0.00  neptune  19  \n",
      "2       0.00    0.03    0.04    0.03    0.01  0.00    0.01   normal  21  \n",
      "3       0.00    0.00    0.00    0.00    0.00  0.00    0.00   normal  21  \n",
      "4       0.07    0.00    0.00    0.00    0.00  1.00    1.00  neptune  21  \n",
      "...      ...     ...     ...     ...     ...   ...     ...      ...  ..  \n",
      "125967  0.06    0.00    0.00    1.00    1.00  0.00    0.00  neptune  20  \n",
      "125968  0.01    0.01    0.00    0.00    0.00  0.00    0.00   normal  21  \n",
      "125969  0.06    0.00    0.00    0.72    0.00  0.01    0.00   normal  18  \n",
      "125970  0.05    0.00    0.00    1.00    1.00  0.00    0.00  neptune  20  \n",
      "125971  0.03    0.30    0.00    0.00    0.00  0.00    0.00   normal  21  \n",
      "\n",
      "[125972 rows x 43 columns]\n"
     ]
    }
   ],
   "source": [
    "print (train_data)"
   ]
  },
  {
   "cell_type": "code",
   "execution_count": 23,
   "id": "5bdb983c-5d52-42f3-a6ec-b66446658200",
   "metadata": {},
   "outputs": [],
   "source": [
    "train_data = pd.read_csv(\"KDDTrain+.txt\", header = None)"
   ]
  },
  {
   "cell_type": "code",
   "execution_count": 24,
   "id": "69f9861d-3ca1-4eeb-85b7-3e4539d376f5",
   "metadata": {},
   "outputs": [
    {
     "name": "stdout",
     "output_type": "stream",
     "text": [
      "        0    1         2   3     4     5   6   7   8   9   ...    33    34  \\\n",
      "0        0  tcp  ftp_data  SF   491     0   0   0   0   0  ...  0.17  0.03   \n",
      "1        0  udp     other  SF   146     0   0   0   0   0  ...  0.00  0.60   \n",
      "2        0  tcp   private  S0     0     0   0   0   0   0  ...  0.10  0.05   \n",
      "3        0  tcp      http  SF   232  8153   0   0   0   0  ...  1.00  0.00   \n",
      "4        0  tcp      http  SF   199   420   0   0   0   0  ...  1.00  0.00   \n",
      "...     ..  ...       ...  ..   ...   ...  ..  ..  ..  ..  ...   ...   ...   \n",
      "125968   0  tcp   private  S0     0     0   0   0   0   0  ...  0.10  0.06   \n",
      "125969   8  udp   private  SF   105   145   0   0   0   0  ...  0.96  0.01   \n",
      "125970   0  tcp      smtp  SF  2231   384   0   0   0   0  ...  0.12  0.06   \n",
      "125971   0  tcp    klogin  S0     0     0   0   0   0   0  ...  0.03  0.05   \n",
      "125972   0  tcp  ftp_data  SF   151     0   0   0   0   0  ...  0.30  0.03   \n",
      "\n",
      "          35    36    37    38    39    40       41  42  \n",
      "0       0.17  0.00  0.00  0.00  0.05  0.00   normal  20  \n",
      "1       0.88  0.00  0.00  0.00  0.00  0.00   normal  15  \n",
      "2       0.00  0.00  1.00  1.00  0.00  0.00  neptune  19  \n",
      "3       0.03  0.04  0.03  0.01  0.00  0.01   normal  21  \n",
      "4       0.00  0.00  0.00  0.00  0.00  0.00   normal  21  \n",
      "...      ...   ...   ...   ...   ...   ...      ...  ..  \n",
      "125968  0.00  0.00  1.00  1.00  0.00  0.00  neptune  20  \n",
      "125969  0.01  0.00  0.00  0.00  0.00  0.00   normal  21  \n",
      "125970  0.00  0.00  0.72  0.00  0.01  0.00   normal  18  \n",
      "125971  0.00  0.00  1.00  1.00  0.00  0.00  neptune  20  \n",
      "125972  0.30  0.00  0.00  0.00  0.00  0.00   normal  21  \n",
      "\n",
      "[125973 rows x 43 columns]\n"
     ]
    }
   ],
   "source": [
    "print (train_data)"
   ]
  },
  {
   "cell_type": "code",
   "execution_count": 26,
   "id": "3c6eafaa-570d-4cd4-ae30-5ec407aba2ab",
   "metadata": {},
   "outputs": [
    {
     "name": "stdout",
     "output_type": "stream",
     "text": [
      "   0    1         2   3    4     5   6   7   8   9   ...    33    34    35  \\\n",
      "0   0  tcp  ftp_data  SF  491     0   0   0   0   0  ...  0.17  0.03  0.17   \n",
      "1   0  udp     other  SF  146     0   0   0   0   0  ...  0.00  0.60  0.88   \n",
      "2   0  tcp   private  S0    0     0   0   0   0   0  ...  0.10  0.05  0.00   \n",
      "3   0  tcp      http  SF  232  8153   0   0   0   0  ...  1.00  0.00  0.03   \n",
      "4   0  tcp      http  SF  199   420   0   0   0   0  ...  1.00  0.00  0.00   \n",
      "\n",
      "     36    37    38    39    40       41  42  \n",
      "0  0.00  0.00  0.00  0.05  0.00   normal  20  \n",
      "1  0.00  0.00  0.00  0.00  0.00   normal  15  \n",
      "2  0.00  1.00  1.00  0.00  0.00  neptune  19  \n",
      "3  0.04  0.03  0.01  0.00  0.01   normal  21  \n",
      "4  0.00  0.00  0.00  0.00  0.00   normal  21  \n",
      "\n",
      "[5 rows x 43 columns]\n"
     ]
    }
   ],
   "source": [
    "print(train_data.head())"
   ]
  },
  {
   "cell_type": "code",
   "execution_count": 29,
   "id": "fbfdf093-b26b-42ba-a1f1-2b9f6e560281",
   "metadata": {},
   "outputs": [],
   "source": [
    "column_names = [\"duration\", \"protocol_type\", \"service\", \"flag\", \"src_bytes\", \"dst_bytes\", \n",
    "                \"land\", \"wrong_fragment\", \"urgent\", \"hot\", \"num_failed_logins\", \n",
    "                \"logged_in\", \"num_compromised\", \"root_shell\", \"su_attempted\", \n",
    "                \"num_root\", \"num_file_creations\", \"num_shells\", \"num_access_files\", \n",
    "                \"num_outbound_cmds\", \"is_host_login\", \"is_guest_login\", \"count\", \n",
    "                \"srv_count\", \"serror_rate\", \"srv_serror_rate\", \"rerror_rate\", \n",
    "                \"srv_rerror_rate\", \"same_srv_rate\", \"diff_srv_rate\", \"srv_diff_host_rate\", \n",
    "                \"dst_host_count\", \"dst_host_srv_count\", \"dst_host_same_srv_rate\", \n",
    "                \"dst_host_diff_srv_rate\", \"dst_host_same_src_port_rate\", \n",
    "                \"dst_host_srv_diff_host_rate\", \"dst_host_serror_rate\", \n",
    "                \"dst_host_srv_serror_rate\", \"dst_host_rerror_rate\", \n",
    "                \"dst_host_srv_rerror_rate\", \"outcome\", \"class\"]"
   ]
  },
  {
   "cell_type": "code",
   "execution_count": 30,
   "id": "c4f393e8-954f-455a-8ee5-170950d9869c",
   "metadata": {},
   "outputs": [],
   "source": [
    "train_data.columns = column_names"
   ]
  },
  {
   "cell_type": "code",
   "execution_count": 31,
   "id": "c76de345-7d6b-41f3-a1c7-cc6a30f3926c",
   "metadata": {},
   "outputs": [],
   "source": [
    "train_data.to_csv(\"train_data_headers.csv\", index = False)"
   ]
  },
  {
   "cell_type": "code",
   "execution_count": 32,
   "id": "1fbb5100-7595-4647-ab44-a0b4df4f8028",
   "metadata": {},
   "outputs": [],
   "source": [
    "train_data = pd.read_csv(\"train_data_headers.csv\")"
   ]
  },
  {
   "cell_type": "code",
   "execution_count": 33,
   "id": "5e6f6340-f1d3-42b3-8f05-65f2816760ee",
   "metadata": {},
   "outputs": [
    {
     "name": "stdout",
     "output_type": "stream",
     "text": [
      "   duration protocol_type   service flag  src_bytes  dst_bytes  land  \\\n",
      "0         0           tcp  ftp_data   SF        491          0     0   \n",
      "1         0           udp     other   SF        146          0     0   \n",
      "2         0           tcp   private   S0          0          0     0   \n",
      "3         0           tcp      http   SF        232       8153     0   \n",
      "4         0           tcp      http   SF        199        420     0   \n",
      "\n",
      "   wrong_fragment  urgent  hot  ...  dst_host_same_srv_rate  \\\n",
      "0               0       0    0  ...                    0.17   \n",
      "1               0       0    0  ...                    0.00   \n",
      "2               0       0    0  ...                    0.10   \n",
      "3               0       0    0  ...                    1.00   \n",
      "4               0       0    0  ...                    1.00   \n",
      "\n",
      "   dst_host_diff_srv_rate  dst_host_same_src_port_rate  \\\n",
      "0                    0.03                         0.17   \n",
      "1                    0.60                         0.88   \n",
      "2                    0.05                         0.00   \n",
      "3                    0.00                         0.03   \n",
      "4                    0.00                         0.00   \n",
      "\n",
      "   dst_host_srv_diff_host_rate  dst_host_serror_rate  \\\n",
      "0                         0.00                  0.00   \n",
      "1                         0.00                  0.00   \n",
      "2                         0.00                  1.00   \n",
      "3                         0.04                  0.03   \n",
      "4                         0.00                  0.00   \n",
      "\n",
      "   dst_host_srv_serror_rate  dst_host_rerror_rate  dst_host_srv_rerror_rate  \\\n",
      "0                      0.00                  0.05                      0.00   \n",
      "1                      0.00                  0.00                      0.00   \n",
      "2                      1.00                  0.00                      0.00   \n",
      "3                      0.01                  0.00                      0.01   \n",
      "4                      0.00                  0.00                      0.00   \n",
      "\n",
      "   outcome  class  \n",
      "0   normal     20  \n",
      "1   normal     15  \n",
      "2  neptune     19  \n",
      "3   normal     21  \n",
      "4   normal     21  \n",
      "\n",
      "[5 rows x 43 columns]\n"
     ]
    }
   ],
   "source": [
    "print (train_data.head())"
   ]
  },
  {
   "cell_type": "code",
   "execution_count": 37,
   "id": "b5b72e77-6531-4f17-be94-edf4b2c3afed",
   "metadata": {},
   "outputs": [
    {
     "name": "stdout",
     "output_type": "stream",
     "text": [
      "(125973, 43)\n"
     ]
    }
   ],
   "source": [
    "print(train_data.shape)"
   ]
  },
  {
   "cell_type": "code",
   "execution_count": 35,
   "id": "09eaf7f7-36b3-433b-92b6-516d8a1339e3",
   "metadata": {},
   "outputs": [
    {
     "name": "stdout",
     "output_type": "stream",
     "text": [
      "(125973, 43)\n"
     ]
    }
   ],
   "source": [
    "print(train_data.shape)"
   ]
  },
  {
   "cell_type": "code",
   "execution_count": 38,
   "id": "95fafc76-25b4-499c-9abc-56c55ed57b83",
   "metadata": {},
   "outputs": [
    {
     "name": "stdout",
     "output_type": "stream",
     "text": [
      "duration                         int64\n",
      "protocol_type                   object\n",
      "service                         object\n",
      "flag                            object\n",
      "src_bytes                        int64\n",
      "dst_bytes                        int64\n",
      "land                             int64\n",
      "wrong_fragment                   int64\n",
      "urgent                           int64\n",
      "hot                              int64\n",
      "num_failed_logins                int64\n",
      "logged_in                        int64\n",
      "num_compromised                  int64\n",
      "root_shell                       int64\n",
      "su_attempted                     int64\n",
      "num_root                         int64\n",
      "num_file_creations               int64\n",
      "num_shells                       int64\n",
      "num_access_files                 int64\n",
      "num_outbound_cmds                int64\n",
      "is_host_login                    int64\n",
      "is_guest_login                   int64\n",
      "count                            int64\n",
      "srv_count                        int64\n",
      "serror_rate                    float64\n",
      "srv_serror_rate                float64\n",
      "rerror_rate                    float64\n",
      "srv_rerror_rate                float64\n",
      "same_srv_rate                  float64\n",
      "diff_srv_rate                  float64\n",
      "srv_diff_host_rate             float64\n",
      "dst_host_count                   int64\n",
      "dst_host_srv_count               int64\n",
      "dst_host_same_srv_rate         float64\n",
      "dst_host_diff_srv_rate         float64\n",
      "dst_host_same_src_port_rate    float64\n",
      "dst_host_srv_diff_host_rate    float64\n",
      "dst_host_serror_rate           float64\n",
      "dst_host_srv_serror_rate       float64\n",
      "dst_host_rerror_rate           float64\n",
      "dst_host_srv_rerror_rate       float64\n",
      "outcome                         object\n",
      "class                            int64\n",
      "dtype: object\n"
     ]
    }
   ],
   "source": [
    "print(train_data.dtypes)"
   ]
  },
  {
   "cell_type": "code",
   "execution_count": 41,
   "id": "607fd534-ea27-486e-b6da-74126be8924b",
   "metadata": {},
   "outputs": [],
   "source": [
    "#one hot encoding \n",
    "train_data = pd.get_dummies(train_data, columns = ['protocol_type','service','flag','outcome'])"
   ]
  },
  {
   "cell_type": "code",
   "execution_count": 42,
   "id": "0f7a5d53-d542-4472-a552-1de8be80e79f",
   "metadata": {},
   "outputs": [],
   "source": [
    "encoded_train_data = train_data"
   ]
  },
  {
   "cell_type": "code",
   "execution_count": 43,
   "id": "a6bdf7ec-9b3c-4ab6-b2e5-fd64f604465a",
   "metadata": {},
   "outputs": [
    {
     "name": "stdout",
     "output_type": "stream",
     "text": [
      "   duration  src_bytes  dst_bytes  land  wrong_fragment  urgent  hot  \\\n",
      "0         0        491          0     0               0       0    0   \n",
      "1         0        146          0     0               0       0    0   \n",
      "2         0          0          0     0               0       0    0   \n",
      "3         0        232       8153     0               0       0    0   \n",
      "4         0        199        420     0               0       0    0   \n",
      "\n",
      "   num_failed_logins  logged_in  num_compromised  ...  outcome_phf  \\\n",
      "0                  0          0                0  ...        False   \n",
      "1                  0          0                0  ...        False   \n",
      "2                  0          0                0  ...        False   \n",
      "3                  0          1                0  ...        False   \n",
      "4                  0          1                0  ...        False   \n",
      "\n",
      "   outcome_pod  outcome_portsweep  outcome_rootkit  outcome_satan  \\\n",
      "0        False              False            False          False   \n",
      "1        False              False            False          False   \n",
      "2        False              False            False          False   \n",
      "3        False              False            False          False   \n",
      "4        False              False            False          False   \n",
      "\n",
      "   outcome_smurf  outcome_spy  outcome_teardrop  outcome_warezclient  \\\n",
      "0          False        False             False                False   \n",
      "1          False        False             False                False   \n",
      "2          False        False             False                False   \n",
      "3          False        False             False                False   \n",
      "4          False        False             False                False   \n",
      "\n",
      "   outcome_warezmaster  \n",
      "0                False  \n",
      "1                False  \n",
      "2                False  \n",
      "3                False  \n",
      "4                False  \n",
      "\n",
      "[5 rows x 146 columns]\n"
     ]
    }
   ],
   "source": [
    "print(encoded_train_data.head())"
   ]
  },
  {
   "cell_type": "code",
   "execution_count": 45,
   "id": "309f3e7f-ebec-40d6-af6d-ba36f3310937",
   "metadata": {},
   "outputs": [],
   "source": [
    "encoded_train_data.to_csv(\"KDDTrain_encoded.csv\", index=False)"
   ]
  },
  {
   "cell_type": "code",
   "execution_count": 46,
   "id": "e80f768b-7cae-4c73-a734-219c1f903046",
   "metadata": {},
   "outputs": [],
   "source": [
    "from sklearn.preprocessing import MinMaxScaler"
   ]
  },
  {
   "cell_type": "code",
   "execution_count": 47,
   "id": "281abc13-718e-414e-9847-331f0a4dc5cf",
   "metadata": {},
   "outputs": [],
   "source": [
    "scaler = MinMaxScaler()"
   ]
  },
  {
   "cell_type": "code",
   "execution_count": 48,
   "id": "35c03bb1-06ae-4222-8132-0244f245f4d3",
   "metadata": {},
   "outputs": [],
   "source": [
    "encoded_data = pd.read_csv(\"KDDTrain_encoded.csv\")"
   ]
  },
  {
   "cell_type": "code",
   "execution_count": 49,
   "id": "9cb1f69d-9073-49c7-a76b-5bec19de7c3c",
   "metadata": {},
   "outputs": [
    {
     "name": "stdout",
     "output_type": "stream",
     "text": [
      "   duration  src_bytes  dst_bytes  land  wrong_fragment  urgent  hot  \\\n",
      "0         0        491          0     0               0       0    0   \n",
      "1         0        146          0     0               0       0    0   \n",
      "2         0          0          0     0               0       0    0   \n",
      "3         0        232       8153     0               0       0    0   \n",
      "4         0        199        420     0               0       0    0   \n",
      "\n",
      "   num_failed_logins  logged_in  num_compromised  ...  outcome_phf  \\\n",
      "0                  0          0                0  ...        False   \n",
      "1                  0          0                0  ...        False   \n",
      "2                  0          0                0  ...        False   \n",
      "3                  0          1                0  ...        False   \n",
      "4                  0          1                0  ...        False   \n",
      "\n",
      "   outcome_pod  outcome_portsweep  outcome_rootkit  outcome_satan  \\\n",
      "0        False              False            False          False   \n",
      "1        False              False            False          False   \n",
      "2        False              False            False          False   \n",
      "3        False              False            False          False   \n",
      "4        False              False            False          False   \n",
      "\n",
      "   outcome_smurf  outcome_spy  outcome_teardrop  outcome_warezclient  \\\n",
      "0          False        False             False                False   \n",
      "1          False        False             False                False   \n",
      "2          False        False             False                False   \n",
      "3          False        False             False                False   \n",
      "4          False        False             False                False   \n",
      "\n",
      "   outcome_warezmaster  \n",
      "0                False  \n",
      "1                False  \n",
      "2                False  \n",
      "3                False  \n",
      "4                False  \n",
      "\n",
      "[5 rows x 146 columns]\n"
     ]
    }
   ],
   "source": [
    "print(encoded_data.head())"
   ]
  },
  {
   "cell_type": "code",
   "execution_count": 50,
   "id": "5dbc41c9-dcb5-43a4-b7a0-e889d6932ba6",
   "metadata": {},
   "outputs": [],
   "source": [
    "encoded_data[encoded_data.columns] = scaler.fit_transform(encoded_data[encoded_data.columns])"
   ]
  },
  {
   "cell_type": "code",
   "execution_count": 55,
   "id": "1396be45-894f-4bbd-bd96-0fe16e85902d",
   "metadata": {},
   "outputs": [],
   "source": [
    "scaled_train_data = scaler.fit_transform(encoded_data[encoded_data.columns])"
   ]
  },
  {
   "cell_type": "code",
   "execution_count": 77,
   "id": "fa6ef56a-5bed-4ab8-b6eb-6ce9bff4490b",
   "metadata": {},
   "outputs": [
    {
     "name": "stdout",
     "output_type": "stream",
     "text": [
      "[[0.00000000e+00 3.55806412e-07 0.00000000e+00 ... 0.00000000e+00\n",
      "  0.00000000e+00 0.00000000e+00]\n",
      " [0.00000000e+00 1.05799870e-07 0.00000000e+00 ... 0.00000000e+00\n",
      "  0.00000000e+00 0.00000000e+00]\n",
      " [0.00000000e+00 0.00000000e+00 0.00000000e+00 ... 0.00000000e+00\n",
      "  0.00000000e+00 0.00000000e+00]\n",
      " ...\n",
      " [0.00000000e+00 1.61670897e-06 2.93143779e-07 ... 0.00000000e+00\n",
      "  0.00000000e+00 0.00000000e+00]\n",
      " [0.00000000e+00 0.00000000e+00 0.00000000e+00 ... 0.00000000e+00\n",
      "  0.00000000e+00 0.00000000e+00]\n",
      " [0.00000000e+00 1.09423153e-07 0.00000000e+00 ... 0.00000000e+00\n",
      "  0.00000000e+00 0.00000000e+00]]\n"
     ]
    }
   ],
   "source": [
    "print (scaled_train_data)"
   ]
  },
  {
   "cell_type": "code",
   "execution_count": 57,
   "id": "69a73d5e-e797-4ce1-9303-c606d6be171f",
   "metadata": {},
   "outputs": [],
   "source": [
    "test_data = pd.read_csv(\"KDDTest+.txt\")"
   ]
  },
  {
   "cell_type": "code",
   "execution_count": 58,
   "id": "27d6c807-f3b1-41e6-8e92-4d6edc3f37ce",
   "metadata": {},
   "outputs": [
    {
     "name": "stdout",
     "output_type": "stream",
     "text": [
      "   0   tcp   private   REJ    0.1    0.2  0.3  0.4  0.5  0.6  ...  0.04.1  \\\n",
      "0  0   tcp   private   REJ      0      0    0    0    0    0  ...    0.00   \n",
      "1  2   tcp  ftp_data    SF  12983      0    0    0    0    0  ...    0.61   \n",
      "2  0  icmp     eco_i    SF     20      0    0    0    0    0  ...    1.00   \n",
      "3  1   tcp    telnet  RSTO      0     15    0    0    0    0  ...    0.31   \n",
      "4  0   tcp      http    SF    267  14515    0    0    0    0  ...    1.00   \n",
      "\n",
      "   0.06.1  0.00.3  0.00.4  0.00.5  0.00.6  1.00.2  1.00.3  neptune  21  \n",
      "0    0.06    0.00    0.00    0.00     0.0    1.00    1.00  neptune  21  \n",
      "1    0.04    0.61    0.02    0.00     0.0    0.00    0.00   normal  21  \n",
      "2    0.00    1.00    0.28    0.00     0.0    0.00    0.00    saint  15  \n",
      "3    0.17    0.03    0.02    0.00     0.0    0.83    0.71    mscan  11  \n",
      "4    0.00    0.01    0.03    0.01     0.0    0.00    0.00   normal  21  \n",
      "\n",
      "[5 rows x 43 columns]\n"
     ]
    }
   ],
   "source": [
    "print(test_data.head())"
   ]
  },
  {
   "cell_type": "code",
   "execution_count": 59,
   "id": "e16e9de8-0d38-434b-930c-9481cf359d12",
   "metadata": {},
   "outputs": [],
   "source": [
    "column_names = [\"duration\", \"protocol_type\", \"service\", \"flag\", \"src_bytes\", \"dst_bytes\", \n",
    "                \"land\", \"wrong_fragment\", \"urgent\", \"hot\", \"num_failed_logins\", \n",
    "                \"logged_in\", \"num_compromised\", \"root_shell\", \"su_attempted\", \n",
    "                \"num_root\", \"num_file_creations\", \"num_shells\", \"num_access_files\", \n",
    "                \"num_outbound_cmds\", \"is_host_login\", \"is_guest_login\", \"count\", \n",
    "                \"srv_count\", \"serror_rate\", \"srv_serror_rate\", \"rerror_rate\", \n",
    "                \"srv_rerror_rate\", \"same_srv_rate\", \"diff_srv_rate\", \"srv_diff_host_rate\", \n",
    "                \"dst_host_count\", \"dst_host_srv_count\", \"dst_host_same_srv_rate\", \n",
    "                \"dst_host_diff_srv_rate\", \"dst_host_same_src_port_rate\", \n",
    "                \"dst_host_srv_diff_host_rate\", \"dst_host_serror_rate\", \n",
    "                \"dst_host_srv_serror_rate\", \"dst_host_rerror_rate\", \n",
    "                \"dst_host_srv_rerror_rate\", \"outcome\", \"class\"]"
   ]
  },
  {
   "cell_type": "code",
   "execution_count": 60,
   "id": "7467edd6-43e3-4d85-9f9f-f44a1540e74d",
   "metadata": {},
   "outputs": [],
   "source": [
    "test_data.columns = column_names"
   ]
  },
  {
   "cell_type": "code",
   "execution_count": 61,
   "id": "1a4a8a48-88ec-4147-9b82-dc2680a34c21",
   "metadata": {},
   "outputs": [],
   "source": [
    "test_data.to_csv(\"test_data_headers.csv\", index = False)"
   ]
  },
  {
   "cell_type": "code",
   "execution_count": 62,
   "id": "b19421f4-d876-4eed-b084-12dc10e30025",
   "metadata": {},
   "outputs": [],
   "source": [
    "test_data = pd.read_csv(\"test_data_headers.csv\")"
   ]
  },
  {
   "cell_type": "code",
   "execution_count": 63,
   "id": "104c8605-2747-4fb3-9aba-663cf5cfa046",
   "metadata": {},
   "outputs": [
    {
     "name": "stdout",
     "output_type": "stream",
     "text": [
      "   duration protocol_type   service  flag  src_bytes  dst_bytes  land  \\\n",
      "0         0           tcp   private   REJ          0          0     0   \n",
      "1         2           tcp  ftp_data    SF      12983          0     0   \n",
      "2         0          icmp     eco_i    SF         20          0     0   \n",
      "3         1           tcp    telnet  RSTO          0         15     0   \n",
      "4         0           tcp      http    SF        267      14515     0   \n",
      "\n",
      "   wrong_fragment  urgent  hot  ...  dst_host_same_srv_rate  \\\n",
      "0               0       0    0  ...                    0.00   \n",
      "1               0       0    0  ...                    0.61   \n",
      "2               0       0    0  ...                    1.00   \n",
      "3               0       0    0  ...                    0.31   \n",
      "4               0       0    0  ...                    1.00   \n",
      "\n",
      "   dst_host_diff_srv_rate  dst_host_same_src_port_rate  \\\n",
      "0                    0.06                         0.00   \n",
      "1                    0.04                         0.61   \n",
      "2                    0.00                         1.00   \n",
      "3                    0.17                         0.03   \n",
      "4                    0.00                         0.01   \n",
      "\n",
      "   dst_host_srv_diff_host_rate  dst_host_serror_rate  \\\n",
      "0                         0.00                  0.00   \n",
      "1                         0.02                  0.00   \n",
      "2                         0.28                  0.00   \n",
      "3                         0.02                  0.00   \n",
      "4                         0.03                  0.01   \n",
      "\n",
      "   dst_host_srv_serror_rate  dst_host_rerror_rate  dst_host_srv_rerror_rate  \\\n",
      "0                       0.0                  1.00                      1.00   \n",
      "1                       0.0                  0.00                      0.00   \n",
      "2                       0.0                  0.00                      0.00   \n",
      "3                       0.0                  0.83                      0.71   \n",
      "4                       0.0                  0.00                      0.00   \n",
      "\n",
      "   outcome  class  \n",
      "0  neptune     21  \n",
      "1   normal     21  \n",
      "2    saint     15  \n",
      "3    mscan     11  \n",
      "4   normal     21  \n",
      "\n",
      "[5 rows x 43 columns]\n"
     ]
    }
   ],
   "source": [
    "print (test_data.head())"
   ]
  },
  {
   "cell_type": "code",
   "execution_count": 64,
   "id": "28ff1392-8798-45e8-bd8f-b2034b0cd360",
   "metadata": {},
   "outputs": [
    {
     "name": "stdout",
     "output_type": "stream",
     "text": [
      "duration                         int64\n",
      "protocol_type                   object\n",
      "service                         object\n",
      "flag                            object\n",
      "src_bytes                        int64\n",
      "dst_bytes                        int64\n",
      "land                             int64\n",
      "wrong_fragment                   int64\n",
      "urgent                           int64\n",
      "hot                              int64\n",
      "num_failed_logins                int64\n",
      "logged_in                        int64\n",
      "num_compromised                  int64\n",
      "root_shell                       int64\n",
      "su_attempted                     int64\n",
      "num_root                         int64\n",
      "num_file_creations               int64\n",
      "num_shells                       int64\n",
      "num_access_files                 int64\n",
      "num_outbound_cmds                int64\n",
      "is_host_login                    int64\n",
      "is_guest_login                   int64\n",
      "count                            int64\n",
      "srv_count                        int64\n",
      "serror_rate                    float64\n",
      "srv_serror_rate                float64\n",
      "rerror_rate                    float64\n",
      "srv_rerror_rate                float64\n",
      "same_srv_rate                  float64\n",
      "diff_srv_rate                  float64\n",
      "srv_diff_host_rate             float64\n",
      "dst_host_count                   int64\n",
      "dst_host_srv_count               int64\n",
      "dst_host_same_srv_rate         float64\n",
      "dst_host_diff_srv_rate         float64\n",
      "dst_host_same_src_port_rate    float64\n",
      "dst_host_srv_diff_host_rate    float64\n",
      "dst_host_serror_rate           float64\n",
      "dst_host_srv_serror_rate       float64\n",
      "dst_host_rerror_rate           float64\n",
      "dst_host_srv_rerror_rate       float64\n",
      "outcome                         object\n",
      "class                            int64\n",
      "dtype: object\n"
     ]
    }
   ],
   "source": [
    "print (test_data.dtypes)"
   ]
  },
  {
   "cell_type": "code",
   "execution_count": 65,
   "id": "371ad364-29f1-4e0a-afbe-38cb1bd544b8",
   "metadata": {},
   "outputs": [],
   "source": [
    "test_data = pd.get_dummies(test_data, columns = ['protocol_type','service','flag','outcome'])"
   ]
  },
  {
   "cell_type": "code",
   "execution_count": 66,
   "id": "b0ae029f-f709-46e3-811b-7b6b3e72b29c",
   "metadata": {},
   "outputs": [],
   "source": [
    "encoded_test_data = test_data"
   ]
  },
  {
   "cell_type": "code",
   "execution_count": 67,
   "id": "f45080e8-fa2e-4bc7-901b-6c9cbe019880",
   "metadata": {},
   "outputs": [
    {
     "name": "stdout",
     "output_type": "stream",
     "text": [
      "   duration  src_bytes  dst_bytes  land  wrong_fragment  urgent  hot  \\\n",
      "0         0          0          0     0               0       0    0   \n",
      "1         2      12983          0     0               0       0    0   \n",
      "2         0         20          0     0               0       0    0   \n",
      "3         1          0         15     0               0       0    0   \n",
      "4         0        267      14515     0               0       0    0   \n",
      "\n",
      "   num_failed_logins  logged_in  num_compromised  ...  outcome_snmpgetattack  \\\n",
      "0                  0          0                0  ...                  False   \n",
      "1                  0          0                0  ...                  False   \n",
      "2                  0          0                0  ...                  False   \n",
      "3                  0          0                0  ...                  False   \n",
      "4                  0          1                0  ...                  False   \n",
      "\n",
      "   outcome_snmpguess  outcome_sqlattack  outcome_teardrop  outcome_udpstorm  \\\n",
      "0              False              False             False             False   \n",
      "1              False              False             False             False   \n",
      "2              False              False             False             False   \n",
      "3              False              False             False             False   \n",
      "4              False              False             False             False   \n",
      "\n",
      "   outcome_warezmaster  outcome_worm  outcome_xlock  outcome_xsnoop  \\\n",
      "0                False         False          False           False   \n",
      "1                False         False          False           False   \n",
      "2                False         False          False           False   \n",
      "3                False         False          False           False   \n",
      "4                False         False          False           False   \n",
      "\n",
      "   outcome_xterm  \n",
      "0          False  \n",
      "1          False  \n",
      "2          False  \n",
      "3          False  \n",
      "4          False  \n",
      "\n",
      "[5 rows x 155 columns]\n"
     ]
    }
   ],
   "source": [
    "print(encoded_test_data.head())"
   ]
  },
  {
   "cell_type": "code",
   "execution_count": 68,
   "id": "efe8f4f4-ad52-4e2a-810c-4f20b7a73535",
   "metadata": {},
   "outputs": [],
   "source": [
    "encoded_test_data.to_csv(\"KDDTest_encoded.csv\", index=False)"
   ]
  },
  {
   "cell_type": "code",
   "execution_count": 69,
   "id": "f0e2a2f4-5843-43db-8dd2-e23f9b00e69b",
   "metadata": {},
   "outputs": [],
   "source": [
    "from sklearn.preprocessing import MinMaxScaler"
   ]
  },
  {
   "cell_type": "code",
   "execution_count": 70,
   "id": "03507834-43e3-47a6-91ae-7a303e72fce4",
   "metadata": {},
   "outputs": [],
   "source": [
    "scaler = MinMaxScaler()"
   ]
  },
  {
   "cell_type": "code",
   "execution_count": 71,
   "id": "9fa70387-dfa1-416d-ba65-ec21c157794f",
   "metadata": {},
   "outputs": [],
   "source": [
    "encoded_test_data = pd.read_csv(\"KDDTest_encoded.csv\")"
   ]
  },
  {
   "cell_type": "code",
   "execution_count": 72,
   "id": "6c0b56e0-912c-4123-9ad4-27a66b692eba",
   "metadata": {},
   "outputs": [
    {
     "name": "stdout",
     "output_type": "stream",
     "text": [
      "   duration  src_bytes  dst_bytes  land  wrong_fragment  urgent  hot  \\\n",
      "0         0          0          0     0               0       0    0   \n",
      "1         2      12983          0     0               0       0    0   \n",
      "2         0         20          0     0               0       0    0   \n",
      "3         1          0         15     0               0       0    0   \n",
      "4         0        267      14515     0               0       0    0   \n",
      "\n",
      "   num_failed_logins  logged_in  num_compromised  ...  outcome_snmpgetattack  \\\n",
      "0                  0          0                0  ...                  False   \n",
      "1                  0          0                0  ...                  False   \n",
      "2                  0          0                0  ...                  False   \n",
      "3                  0          0                0  ...                  False   \n",
      "4                  0          1                0  ...                  False   \n",
      "\n",
      "   outcome_snmpguess  outcome_sqlattack  outcome_teardrop  outcome_udpstorm  \\\n",
      "0              False              False             False             False   \n",
      "1              False              False             False             False   \n",
      "2              False              False             False             False   \n",
      "3              False              False             False             False   \n",
      "4              False              False             False             False   \n",
      "\n",
      "   outcome_warezmaster  outcome_worm  outcome_xlock  outcome_xsnoop  \\\n",
      "0                False         False          False           False   \n",
      "1                False         False          False           False   \n",
      "2                False         False          False           False   \n",
      "3                False         False          False           False   \n",
      "4                False         False          False           False   \n",
      "\n",
      "   outcome_xterm  \n",
      "0          False  \n",
      "1          False  \n",
      "2          False  \n",
      "3          False  \n",
      "4          False  \n",
      "\n",
      "[5 rows x 155 columns]\n"
     ]
    }
   ],
   "source": [
    "print(encoded_test_data.head())"
   ]
  },
  {
   "cell_type": "code",
   "execution_count": 73,
   "id": "7b544172-b53c-4a9c-b70f-d8c4d44d60d0",
   "metadata": {},
   "outputs": [],
   "source": [
    "encoded_test_data[encoded_test_data.columns] = scaler.fit_transform(encoded_test_data[encoded_test_data.columns])"
   ]
  },
  {
   "cell_type": "code",
   "execution_count": 74,
   "id": "837eeca6-325a-4b2d-9f2d-ad0b36c788c8",
   "metadata": {},
   "outputs": [],
   "source": [
    "scaled_test_data = scaler.fit_transform(encoded_test_data[encoded_test_data.columns])"
   ]
  },
  {
   "cell_type": "code",
   "execution_count": 78,
   "id": "4e6f52fe-3b11-49b1-a231-66e657998a48",
   "metadata": {},
   "outputs": [
    {
     "name": "stdout",
     "output_type": "stream",
     "text": [
      "[[0.00000000e+00 0.00000000e+00 0.00000000e+00 ... 0.00000000e+00\n",
      "  0.00000000e+00 0.00000000e+00]\n",
      " [3.46530365e-05 2.06651271e-04 0.00000000e+00 ... 0.00000000e+00\n",
      "  0.00000000e+00 0.00000000e+00]\n",
      " [0.00000000e+00 3.18341325e-07 0.00000000e+00 ... 0.00000000e+00\n",
      "  0.00000000e+00 0.00000000e+00]\n",
      " ...\n",
      " [0.00000000e+00 8.68116792e-04 6.17715522e-03 ... 0.00000000e+00\n",
      "  0.00000000e+00 0.00000000e+00]\n",
      " [0.00000000e+00 6.68516782e-07 3.12052585e-05 ... 0.00000000e+00\n",
      "  0.00000000e+00 0.00000000e+00]\n",
      " [0.00000000e+00 0.00000000e+00 0.00000000e+00 ... 0.00000000e+00\n",
      "  0.00000000e+00 0.00000000e+00]]\n"
     ]
    }
   ],
   "source": [
    "print (scaled_test_data)"
   ]
  },
  {
   "cell_type": "code",
   "execution_count": 5,
   "id": "0569c4f5-89bc-4956-8b29-65c045636867",
   "metadata": {},
   "outputs": [],
   "source": [
    "import numpy as np"
   ]
  },
  {
   "cell_type": "code",
   "execution_count": 81,
   "id": "5ad217a4-0fb5-452d-b977-fdf471bad0ea",
   "metadata": {},
   "outputs": [],
   "source": [
    "np.save(\"KDDTest_scaled.npy\", scaled_test_data)"
   ]
  },
  {
   "cell_type": "code",
   "execution_count": 6,
   "id": "b2057233-5c15-4943-b2f1-1168fa8ca9e1",
   "metadata": {},
   "outputs": [],
   "source": [
    "scaled_train_data = np.load(\"KDDTrain_scaled.npy\")"
   ]
  },
  {
   "cell_type": "code",
   "execution_count": 7,
   "id": "e8852152-8c68-4bfa-9c7f-f31135c87684",
   "metadata": {},
   "outputs": [],
   "source": [
    "scaled_test_data = np.load(\"KDDTest_scaled.npy\")"
   ]
  },
  {
   "cell_type": "code",
   "execution_count": 8,
   "id": "d297aadf-a1c7-4954-8af9-58aa604e4a28",
   "metadata": {},
   "outputs": [
    {
     "name": "stdout",
     "output_type": "stream",
     "text": [
      "[[0.00000000e+00 3.55806412e-07 0.00000000e+00 ... 0.00000000e+00\n",
      "  0.00000000e+00 0.00000000e+00]\n",
      " [0.00000000e+00 1.05799870e-07 0.00000000e+00 ... 0.00000000e+00\n",
      "  0.00000000e+00 0.00000000e+00]\n",
      " [0.00000000e+00 0.00000000e+00 0.00000000e+00 ... 0.00000000e+00\n",
      "  0.00000000e+00 0.00000000e+00]\n",
      " ...\n",
      " [0.00000000e+00 1.61670897e-06 2.93143779e-07 ... 0.00000000e+00\n",
      "  0.00000000e+00 0.00000000e+00]\n",
      " [0.00000000e+00 0.00000000e+00 0.00000000e+00 ... 0.00000000e+00\n",
      "  0.00000000e+00 0.00000000e+00]\n",
      " [0.00000000e+00 1.09423153e-07 0.00000000e+00 ... 0.00000000e+00\n",
      "  0.00000000e+00 0.00000000e+00]]\n"
     ]
    }
   ],
   "source": [
    "print(scaled_train_data)"
   ]
  },
  {
   "cell_type": "code",
   "execution_count": 9,
   "id": "5f15cf02-6b18-4be6-8866-d9cd8032fb23",
   "metadata": {},
   "outputs": [],
   "source": [
    "import pandas as pd"
   ]
  },
  {
   "cell_type": "code",
   "execution_count": 10,
   "id": "d6391b7c-d285-4b6e-a977-76ffb18a53a9",
   "metadata": {},
   "outputs": [],
   "source": [
    "normal_train_data = pd.DataFrame(scaled_train_data).add_prefix('c').query('c0 == 0').values[:,1:]\n",
    "anomaly_train_data = pd.DataFrame(scaled_train_data).add_prefix('c').query('c0 > 0').values[:,1:]"
   ]
  },
  {
   "cell_type": "code",
   "execution_count": 11,
   "id": "14d8caa5-8eac-4adf-9a2b-c79dd1ae5523",
   "metadata": {},
   "outputs": [],
   "source": [
    "normal_test_data = pd.DataFrame(scaled_test_data).add_prefix('c').query('c0 == 0').values[:,1:]\n",
    "anomaly_test_data = pd.DataFrame(scaled_test_data).add_prefix('c').query('c0 > 0').values[:,1:]"
   ]
  },
  {
   "cell_type": "code",
   "execution_count": 39,
   "id": "97876825-bb0a-4ad7-a459-b11b66637e3d",
   "metadata": {},
   "outputs": [
    {
     "name": "stdout",
     "output_type": "stream",
     "text": [
      "            0             1         2    3    4    5         6    7    8    \\\n",
      "0      0.000000  0.000000e+00  0.000000  0.0  0.0  0.0  0.000000  0.0  0.0   \n",
      "1      0.000035  2.066513e-04  0.000000  0.0  0.0  0.0  0.000000  0.0  0.0   \n",
      "2      0.000000  3.183413e-07  0.000000  0.0  0.0  0.0  0.000000  0.0  0.0   \n",
      "3      0.000017  0.000000e+00  0.000011  0.0  0.0  0.0  0.000000  0.0  0.0   \n",
      "4      0.000000  4.249857e-06  0.010784  0.0  0.0  0.0  0.000000  0.0  1.0   \n",
      "...         ...           ...       ...  ...  ...  ...       ...  ...  ...   \n",
      "22538  0.000000  1.263815e-05  0.000247  0.0  0.0  0.0  0.000000  0.0  1.0   \n",
      "22539  0.000000  5.045710e-06  0.000697  0.0  0.0  0.0  0.000000  0.0  1.0   \n",
      "22540  0.000000  8.681168e-04  0.006177  0.0  0.0  0.0  0.019802  0.0  1.0   \n",
      "22541  0.000000  6.685168e-07  0.000031  0.0  0.0  0.0  0.000000  0.0  0.0   \n",
      "22542  0.000000  0.000000e+00  0.000000  0.0  0.0  0.0  0.000000  0.0  0.0   \n",
      "\n",
      "            9    ...  145  146  147  148  149  150  151  152  153  154  \n",
      "0      0.000000  ...  0.0  0.0  0.0  0.0  0.0  0.0  0.0  0.0  0.0  0.0  \n",
      "1      0.000000  ...  0.0  0.0  0.0  0.0  0.0  0.0  0.0  0.0  0.0  0.0  \n",
      "2      0.000000  ...  0.0  0.0  0.0  0.0  0.0  0.0  0.0  0.0  0.0  0.0  \n",
      "3      0.000000  ...  0.0  0.0  0.0  0.0  0.0  0.0  0.0  0.0  0.0  0.0  \n",
      "4      0.000000  ...  0.0  0.0  0.0  0.0  0.0  0.0  0.0  0.0  0.0  0.0  \n",
      "...         ...  ...  ...  ...  ...  ...  ...  ...  ...  ...  ...  ...  \n",
      "22538  0.000000  ...  0.0  0.0  0.0  0.0  0.0  0.0  0.0  0.0  0.0  0.0  \n",
      "22539  0.000000  ...  0.0  0.0  0.0  0.0  0.0  0.0  0.0  0.0  0.0  0.0  \n",
      "22540  0.001256  ...  0.0  0.0  0.0  0.0  0.0  0.0  0.0  0.0  0.0  0.0  \n",
      "22541  0.000000  ...  0.0  0.0  0.0  0.0  0.0  0.0  0.0  0.0  0.0  0.0  \n",
      "22542  0.000000  ...  0.0  0.0  0.0  0.0  0.0  0.0  0.0  0.0  0.0  0.0  \n",
      "\n",
      "[22543 rows x 155 columns]\n"
     ]
    }
   ],
   "source": [
    "print(scaled_train_df)"
   ]
  },
  {
   "cell_type": "code",
   "execution_count": 42,
   "id": "a8780f7b-1ae8-4aff-9e40-f7db622d4f55",
   "metadata": {},
   "outputs": [],
   "source": [
    "import pandas as pd"
   ]
  },
  {
   "cell_type": "code",
   "execution_count": 44,
   "id": "8e55aa97-403c-49d8-a10e-a8f15839b61a",
   "metadata": {},
   "outputs": [],
   "source": [
    "encoded_train_data = pd.read_csv(\"KDDTrain_encoded.csv\")"
   ]
  },
  {
   "cell_type": "code",
   "execution_count": 50,
   "id": "d152f68f-a607-4beb-84f3-efc5b71c1275",
   "metadata": {},
   "outputs": [
    {
     "name": "stdout",
     "output_type": "stream",
     "text": [
      "   duration  src_bytes  dst_bytes  land  wrong_fragment  urgent  hot  \\\n",
      "0         0        491          0     0               0       0    0   \n",
      "1         0        146          0     0               0       0    0   \n",
      "2         0          0          0     0               0       0    0   \n",
      "3         0        232       8153     0               0       0    0   \n",
      "4         0        199        420     0               0       0    0   \n",
      "\n",
      "   num_failed_logins  logged_in  num_compromised  ...  outcome_phf  \\\n",
      "0                  0          0                0  ...        False   \n",
      "1                  0          0                0  ...        False   \n",
      "2                  0          0                0  ...        False   \n",
      "3                  0          1                0  ...        False   \n",
      "4                  0          1                0  ...        False   \n",
      "\n",
      "   outcome_pod  outcome_portsweep  outcome_rootkit  outcome_satan  \\\n",
      "0        False              False            False          False   \n",
      "1        False              False            False          False   \n",
      "2        False              False            False          False   \n",
      "3        False              False            False          False   \n",
      "4        False              False            False          False   \n",
      "\n",
      "   outcome_smurf  outcome_spy  outcome_teardrop  outcome_warezclient  \\\n",
      "0          False        False             False                False   \n",
      "1          False        False             False                False   \n",
      "2          False        False             False                False   \n",
      "3          False        False             False                False   \n",
      "4          False        False             False                False   \n",
      "\n",
      "   outcome_warezmaster  \n",
      "0                False  \n",
      "1                False  \n",
      "2                False  \n",
      "3                False  \n",
      "4                False  \n",
      "\n",
      "[5 rows x 146 columns]\n"
     ]
    }
   ],
   "source": [
    "print (encoded_train_data.head())"
   ]
  },
  {
   "cell_type": "code",
   "execution_count": 51,
   "id": "11d7e064-e192-4e03-8043-487e46b3d05d",
   "metadata": {},
   "outputs": [
    {
     "name": "stdout",
     "output_type": "stream",
     "text": [
      "duration               int64\n",
      "src_bytes              int64\n",
      "dst_bytes              int64\n",
      "land                   int64\n",
      "wrong_fragment         int64\n",
      "                       ...  \n",
      "outcome_smurf           bool\n",
      "outcome_spy             bool\n",
      "outcome_teardrop        bool\n",
      "outcome_warezclient     bool\n",
      "outcome_warezmaster     bool\n",
      "Length: 146, dtype: object\n"
     ]
    }
   ],
   "source": [
    "print (encoded_train_data.dtypes)"
   ]
  },
  {
   "cell_type": "code",
   "execution_count": 52,
   "id": "f56dec94-8202-48a9-8027-5424975bfd2a",
   "metadata": {},
   "outputs": [],
   "source": [
    "numerical_features = encoded_train_data.select_dtypes(include=['float64', 'int64']).columns"
   ]
  },
  {
   "cell_type": "code",
   "execution_count": 53,
   "id": "e36b3d0e-012c-4c48-89a5-12108241cba1",
   "metadata": {},
   "outputs": [],
   "source": [
    "numerical_data = encoded_train_data[numerical_features]"
   ]
  },
  {
   "cell_type": "code",
   "execution_count": 55,
   "id": "78278bc5-a3d3-4e28-b7f2-f11ee0da07d7",
   "metadata": {},
   "outputs": [],
   "source": [
    "from sklearn.preprocessing import MinMaxScaler, StandardScaler"
   ]
  },
  {
   "cell_type": "code",
   "execution_count": 56,
   "id": "041f0180-c9f5-47b8-adef-e329d3dde1d2",
   "metadata": {},
   "outputs": [],
   "source": [
    "scaler = MinMaxScaler()"
   ]
  },
  {
   "cell_type": "code",
   "execution_count": 57,
   "id": "45b9d855-3433-4294-abbc-db4ad3fa0fe1",
   "metadata": {},
   "outputs": [],
   "source": [
    "normalized_train_data = scaler.fit_transform(numerical_data)"
   ]
  },
  {
   "cell_type": "code",
   "execution_count": 59,
   "id": "78d080e2-5f6e-460f-b817-2172c14a6ce8",
   "metadata": {},
   "outputs": [],
   "source": [
    "normalized_encoded_train_data = pd.concat([pd.DataFrame(normalized_train_data, columns=numerical_features), \n",
    "                                       encoded_train_data.drop(columns=numerical_features)], axis=1)"
   ]
  },
  {
   "cell_type": "code",
   "execution_count": 60,
   "id": "880936e0-8b63-4eee-84e9-0767bf6e92da",
   "metadata": {},
   "outputs": [
    {
     "name": "stdout",
     "output_type": "stream",
     "text": [
      "        duration     src_bytes     dst_bytes  land  wrong_fragment  urgent  \\\n",
      "0       0.000000  3.558064e-07  0.000000e+00   0.0             0.0     0.0   \n",
      "1       0.000000  1.057999e-07  0.000000e+00   0.0             0.0     0.0   \n",
      "2       0.000000  0.000000e+00  0.000000e+00   0.0             0.0     0.0   \n",
      "3       0.000000  1.681203e-07  6.223962e-06   0.0             0.0     0.0   \n",
      "4       0.000000  1.442067e-07  3.206260e-07   0.0             0.0     0.0   \n",
      "...          ...           ...           ...   ...             ...     ...   \n",
      "125968  0.000000  0.000000e+00  0.000000e+00   0.0             0.0     0.0   \n",
      "125969  0.000186  7.608895e-08  1.106923e-07   0.0             0.0     0.0   \n",
      "125970  0.000000  1.616709e-06  2.931438e-07   0.0             0.0     0.0   \n",
      "125971  0.000000  0.000000e+00  0.000000e+00   0.0             0.0     0.0   \n",
      "125972  0.000000  1.094232e-07  0.000000e+00   0.0             0.0     0.0   \n",
      "\n",
      "        hot  num_failed_logins  logged_in  num_compromised  ...  outcome_phf  \\\n",
      "0       0.0                0.0        0.0              0.0  ...        False   \n",
      "1       0.0                0.0        0.0              0.0  ...        False   \n",
      "2       0.0                0.0        0.0              0.0  ...        False   \n",
      "3       0.0                0.0        1.0              0.0  ...        False   \n",
      "4       0.0                0.0        1.0              0.0  ...        False   \n",
      "...     ...                ...        ...              ...  ...          ...   \n",
      "125968  0.0                0.0        0.0              0.0  ...        False   \n",
      "125969  0.0                0.0        0.0              0.0  ...        False   \n",
      "125970  0.0                0.0        1.0              0.0  ...        False   \n",
      "125971  0.0                0.0        0.0              0.0  ...        False   \n",
      "125972  0.0                0.0        1.0              0.0  ...        False   \n",
      "\n",
      "        outcome_pod  outcome_portsweep  outcome_rootkit  outcome_satan  \\\n",
      "0             False              False            False          False   \n",
      "1             False              False            False          False   \n",
      "2             False              False            False          False   \n",
      "3             False              False            False          False   \n",
      "4             False              False            False          False   \n",
      "...             ...                ...              ...            ...   \n",
      "125968        False              False            False          False   \n",
      "125969        False              False            False          False   \n",
      "125970        False              False            False          False   \n",
      "125971        False              False            False          False   \n",
      "125972        False              False            False          False   \n",
      "\n",
      "        outcome_smurf  outcome_spy  outcome_teardrop  outcome_warezclient  \\\n",
      "0               False        False             False                False   \n",
      "1               False        False             False                False   \n",
      "2               False        False             False                False   \n",
      "3               False        False             False                False   \n",
      "4               False        False             False                False   \n",
      "...               ...          ...               ...                  ...   \n",
      "125968          False        False             False                False   \n",
      "125969          False        False             False                False   \n",
      "125970          False        False             False                False   \n",
      "125971          False        False             False                False   \n",
      "125972          False        False             False                False   \n",
      "\n",
      "        outcome_warezmaster  \n",
      "0                     False  \n",
      "1                     False  \n",
      "2                     False  \n",
      "3                     False  \n",
      "4                     False  \n",
      "...                     ...  \n",
      "125968                False  \n",
      "125969                False  \n",
      "125970                False  \n",
      "125971                False  \n",
      "125972                False  \n",
      "\n",
      "[125973 rows x 146 columns]\n"
     ]
    }
   ],
   "source": [
    "print(normalized_encoded_train_data)"
   ]
  },
  {
   "cell_type": "code",
   "execution_count": 62,
   "id": "da1dc43a-cb20-427e-baca-ebf45091f8dc",
   "metadata": {},
   "outputs": [],
   "source": [
    "normalized_encoded_train_data.to_csv(\"KDDTrain_normalised.csv\", index = False)"
   ]
  },
  {
   "cell_type": "code",
   "execution_count": 69,
   "id": "73e1f31b-4401-4a35-9282-ebb58bb4f6c6",
   "metadata": {},
   "outputs": [
    {
     "name": "stdout",
     "output_type": "stream",
     "text": [
      "Index(['duration', 'src_bytes', 'dst_bytes', 'land', 'wrong_fragment',\n",
      "       'urgent', 'hot', 'num_failed_logins', 'logged_in', 'num_compromised',\n",
      "       ...\n",
      "       'outcome_phf', 'outcome_pod', 'outcome_portsweep', 'outcome_rootkit',\n",
      "       'outcome_satan', 'outcome_smurf', 'outcome_spy', 'outcome_teardrop',\n",
      "       'outcome_warezclient', 'outcome_warezmaster'],\n",
      "      dtype='object', length=146)\n"
     ]
    }
   ],
   "source": [
    "print(normalized_encoded_train_data.columns)"
   ]
  },
  {
   "cell_type": "code",
   "execution_count": 72,
   "id": "0e52c332-cd61-4510-bd6d-035cb7b76296",
   "metadata": {},
   "outputs": [],
   "source": [
    "import pandas as pd"
   ]
  },
  {
   "cell_type": "code",
   "execution_count": 80,
   "id": "fc06eb6c-2326-4fcb-a565-86da151d4c0e",
   "metadata": {},
   "outputs": [],
   "source": [
    "train_data = pd.read_csv(\"train_data_headers.csv\")"
   ]
  },
  {
   "cell_type": "code",
   "execution_count": 82,
   "id": "8d4d2097-ae2f-4ec9-b47d-7c267e70ca82",
   "metadata": {},
   "outputs": [
    {
     "name": "stdout",
     "output_type": "stream",
     "text": [
      "   duration protocol_type   service flag  src_bytes  dst_bytes  land  \\\n",
      "0         0           tcp  ftp_data   SF        491          0     0   \n",
      "1         0           udp     other   SF        146          0     0   \n",
      "2         0           tcp   private   S0          0          0     0   \n",
      "3         0           tcp      http   SF        232       8153     0   \n",
      "4         0           tcp      http   SF        199        420     0   \n",
      "\n",
      "   wrong_fragment  urgent  hot  ...  dst_host_same_srv_rate  \\\n",
      "0               0       0    0  ...                    0.17   \n",
      "1               0       0    0  ...                    0.00   \n",
      "2               0       0    0  ...                    0.10   \n",
      "3               0       0    0  ...                    1.00   \n",
      "4               0       0    0  ...                    1.00   \n",
      "\n",
      "   dst_host_diff_srv_rate  dst_host_same_src_port_rate  \\\n",
      "0                    0.03                         0.17   \n",
      "1                    0.60                         0.88   \n",
      "2                    0.05                         0.00   \n",
      "3                    0.00                         0.03   \n",
      "4                    0.00                         0.00   \n",
      "\n",
      "   dst_host_srv_diff_host_rate  dst_host_serror_rate  \\\n",
      "0                         0.00                  0.00   \n",
      "1                         0.00                  0.00   \n",
      "2                         0.00                  1.00   \n",
      "3                         0.04                  0.03   \n",
      "4                         0.00                  0.00   \n",
      "\n",
      "   dst_host_srv_serror_rate  dst_host_rerror_rate  dst_host_srv_rerror_rate  \\\n",
      "0                      0.00                  0.05                      0.00   \n",
      "1                      0.00                  0.00                      0.00   \n",
      "2                      1.00                  0.00                      0.00   \n",
      "3                      0.01                  0.00                      0.01   \n",
      "4                      0.00                  0.00                      0.00   \n",
      "\n",
      "   outcome  class  \n",
      "0   normal     20  \n",
      "1   normal     15  \n",
      "2  neptune     19  \n",
      "3   normal     21  \n",
      "4   normal     21  \n",
      "\n",
      "[5 rows x 43 columns]\n"
     ]
    }
   ],
   "source": [
    "print(train_data.head())"
   ]
  },
  {
   "cell_type": "code",
   "execution_count": 83,
   "id": "a9d5aa2f-71d8-4c7e-b744-f6cff9c7f655",
   "metadata": {},
   "outputs": [],
   "source": [
    "categorical_features = ['protocol_type', 'service', 'flag']"
   ]
  },
  {
   "cell_type": "code",
   "execution_count": 84,
   "id": "f9c8f017-6d91-4d99-8f34-03bf9ebf3d73",
   "metadata": {},
   "outputs": [],
   "source": [
    "encoded_features = pd.get_dummies(train_data[categorical_features])"
   ]
  },
  {
   "cell_type": "code",
   "execution_count": 85,
   "id": "daa0aff6-25f4-4012-83f8-b8026d8ab7d9",
   "metadata": {},
   "outputs": [],
   "source": [
    "encoded_train_data = pd.concat([train_data, encoded_features], axis=1)"
   ]
  },
  {
   "cell_type": "code",
   "execution_count": 86,
   "id": "b0667a0f-6bfc-48c6-a074-04a7db15e56e",
   "metadata": {},
   "outputs": [
    {
     "name": "stdout",
     "output_type": "stream",
     "text": [
      "        duration protocol_type   service flag  src_bytes  dst_bytes  land  \\\n",
      "0              0           tcp  ftp_data   SF        491          0     0   \n",
      "1              0           udp     other   SF        146          0     0   \n",
      "2              0           tcp   private   S0          0          0     0   \n",
      "3              0           tcp      http   SF        232       8153     0   \n",
      "4              0           tcp      http   SF        199        420     0   \n",
      "...          ...           ...       ...  ...        ...        ...   ...   \n",
      "125968         0           tcp   private   S0          0          0     0   \n",
      "125969         8           udp   private   SF        105        145     0   \n",
      "125970         0           tcp      smtp   SF       2231        384     0   \n",
      "125971         0           tcp    klogin   S0          0          0     0   \n",
      "125972         0           tcp  ftp_data   SF        151          0     0   \n",
      "\n",
      "        wrong_fragment  urgent  hot  ...  flag_REJ  flag_RSTO  flag_RSTOS0  \\\n",
      "0                    0       0    0  ...     False      False        False   \n",
      "1                    0       0    0  ...     False      False        False   \n",
      "2                    0       0    0  ...     False      False        False   \n",
      "3                    0       0    0  ...     False      False        False   \n",
      "4                    0       0    0  ...     False      False        False   \n",
      "...                ...     ...  ...  ...       ...        ...          ...   \n",
      "125968               0       0    0  ...     False      False        False   \n",
      "125969               0       0    0  ...     False      False        False   \n",
      "125970               0       0    0  ...     False      False        False   \n",
      "125971               0       0    0  ...     False      False        False   \n",
      "125972               0       0    0  ...     False      False        False   \n",
      "\n",
      "        flag_RSTR  flag_S0  flag_S1  flag_S2  flag_S3  flag_SF  flag_SH  \n",
      "0           False    False    False    False    False     True    False  \n",
      "1           False    False    False    False    False     True    False  \n",
      "2           False     True    False    False    False    False    False  \n",
      "3           False    False    False    False    False     True    False  \n",
      "4           False    False    False    False    False     True    False  \n",
      "...           ...      ...      ...      ...      ...      ...      ...  \n",
      "125968      False     True    False    False    False    False    False  \n",
      "125969      False    False    False    False    False     True    False  \n",
      "125970      False    False    False    False    False     True    False  \n",
      "125971      False     True    False    False    False    False    False  \n",
      "125972      False    False    False    False    False     True    False  \n",
      "\n",
      "[125973 rows x 127 columns]\n"
     ]
    }
   ],
   "source": [
    "print(encoded_train_data)"
   ]
  },
  {
   "cell_type": "code",
   "execution_count": 87,
   "id": "bfd22a4c-7df9-4af1-a700-983106ed5982",
   "metadata": {},
   "outputs": [],
   "source": [
    "encoded_train_data.drop(columns=categorical_features, inplace=True)"
   ]
  },
  {
   "cell_type": "code",
   "execution_count": 88,
   "id": "767e683a-fef2-4a42-9ac4-433b2716588a",
   "metadata": {},
   "outputs": [
    {
     "name": "stdout",
     "output_type": "stream",
     "text": [
      "        duration  src_bytes  dst_bytes  land  wrong_fragment  urgent  hot  \\\n",
      "0              0        491          0     0               0       0    0   \n",
      "1              0        146          0     0               0       0    0   \n",
      "2              0          0          0     0               0       0    0   \n",
      "3              0        232       8153     0               0       0    0   \n",
      "4              0        199        420     0               0       0    0   \n",
      "...          ...        ...        ...   ...             ...     ...  ...   \n",
      "125968         0          0          0     0               0       0    0   \n",
      "125969         8        105        145     0               0       0    0   \n",
      "125970         0       2231        384     0               0       0    0   \n",
      "125971         0          0          0     0               0       0    0   \n",
      "125972         0        151          0     0               0       0    0   \n",
      "\n",
      "        num_failed_logins  logged_in  num_compromised  ...  flag_REJ  \\\n",
      "0                       0          0                0  ...     False   \n",
      "1                       0          0                0  ...     False   \n",
      "2                       0          0                0  ...     False   \n",
      "3                       0          1                0  ...     False   \n",
      "4                       0          1                0  ...     False   \n",
      "...                   ...        ...              ...  ...       ...   \n",
      "125968                  0          0                0  ...     False   \n",
      "125969                  0          0                0  ...     False   \n",
      "125970                  0          1                0  ...     False   \n",
      "125971                  0          0                0  ...     False   \n",
      "125972                  0          1                0  ...     False   \n",
      "\n",
      "        flag_RSTO  flag_RSTOS0  flag_RSTR  flag_S0  flag_S1  flag_S2  flag_S3  \\\n",
      "0           False        False      False    False    False    False    False   \n",
      "1           False        False      False    False    False    False    False   \n",
      "2           False        False      False     True    False    False    False   \n",
      "3           False        False      False    False    False    False    False   \n",
      "4           False        False      False    False    False    False    False   \n",
      "...           ...          ...        ...      ...      ...      ...      ...   \n",
      "125968      False        False      False     True    False    False    False   \n",
      "125969      False        False      False    False    False    False    False   \n",
      "125970      False        False      False    False    False    False    False   \n",
      "125971      False        False      False     True    False    False    False   \n",
      "125972      False        False      False    False    False    False    False   \n",
      "\n",
      "        flag_SF  flag_SH  \n",
      "0          True    False  \n",
      "1          True    False  \n",
      "2         False    False  \n",
      "3          True    False  \n",
      "4          True    False  \n",
      "...         ...      ...  \n",
      "125968    False    False  \n",
      "125969     True    False  \n",
      "125970     True    False  \n",
      "125971    False    False  \n",
      "125972     True    False  \n",
      "\n",
      "[125973 rows x 124 columns]\n"
     ]
    }
   ],
   "source": [
    "print(encoded_train_data)"
   ]
  },
  {
   "cell_type": "code",
   "execution_count": 89,
   "id": "bd59edaa-0304-482e-b80d-616a5472cfe1",
   "metadata": {},
   "outputs": [
    {
     "name": "stdout",
     "output_type": "stream",
     "text": [
      "        protocol_type_icmp  protocol_type_tcp  protocol_type_udp  service_IRC  \\\n",
      "0                    False               True              False        False   \n",
      "1                    False              False               True        False   \n",
      "2                    False               True              False        False   \n",
      "3                    False               True              False        False   \n",
      "4                    False               True              False        False   \n",
      "...                    ...                ...                ...          ...   \n",
      "125968               False               True              False        False   \n",
      "125969               False              False               True        False   \n",
      "125970               False               True              False        False   \n",
      "125971               False               True              False        False   \n",
      "125972               False               True              False        False   \n",
      "\n",
      "        service_X11  service_Z39_50  service_aol  service_auth  service_bgp  \\\n",
      "0             False           False        False         False        False   \n",
      "1             False           False        False         False        False   \n",
      "2             False           False        False         False        False   \n",
      "3             False           False        False         False        False   \n",
      "4             False           False        False         False        False   \n",
      "...             ...             ...          ...           ...          ...   \n",
      "125968        False           False        False         False        False   \n",
      "125969        False           False        False         False        False   \n",
      "125970        False           False        False         False        False   \n",
      "125971        False           False        False         False        False   \n",
      "125972        False           False        False         False        False   \n",
      "\n",
      "        service_courier  ...  flag_REJ  flag_RSTO  flag_RSTOS0  flag_RSTR  \\\n",
      "0                 False  ...     False      False        False      False   \n",
      "1                 False  ...     False      False        False      False   \n",
      "2                 False  ...     False      False        False      False   \n",
      "3                 False  ...     False      False        False      False   \n",
      "4                 False  ...     False      False        False      False   \n",
      "...                 ...  ...       ...        ...          ...        ...   \n",
      "125968            False  ...     False      False        False      False   \n",
      "125969            False  ...     False      False        False      False   \n",
      "125970            False  ...     False      False        False      False   \n",
      "125971            False  ...     False      False        False      False   \n",
      "125972            False  ...     False      False        False      False   \n",
      "\n",
      "        flag_S0  flag_S1  flag_S2  flag_S3  flag_SF  flag_SH  \n",
      "0         False    False    False    False     True    False  \n",
      "1         False    False    False    False     True    False  \n",
      "2          True    False    False    False    False    False  \n",
      "3         False    False    False    False     True    False  \n",
      "4         False    False    False    False     True    False  \n",
      "...         ...      ...      ...      ...      ...      ...  \n",
      "125968     True    False    False    False    False    False  \n",
      "125969    False    False    False    False     True    False  \n",
      "125970    False    False    False    False     True    False  \n",
      "125971     True    False    False    False    False    False  \n",
      "125972    False    False    False    False     True    False  \n",
      "\n",
      "[125973 rows x 84 columns]\n"
     ]
    }
   ],
   "source": [
    "print (encoded_features)"
   ]
  },
  {
   "cell_type": "code",
   "execution_count": 90,
   "id": "893619ea-8109-44ca-a2ef-4cf82224db80",
   "metadata": {},
   "outputs": [
    {
     "name": "stdout",
     "output_type": "stream",
     "text": [
      "   duration  src_bytes  dst_bytes  land  wrong_fragment  urgent  hot  \\\n",
      "0         0        491          0     0               0       0    0   \n",
      "1         0        146          0     0               0       0    0   \n",
      "2         0          0          0     0               0       0    0   \n",
      "3         0        232       8153     0               0       0    0   \n",
      "4         0        199        420     0               0       0    0   \n",
      "\n",
      "   num_failed_logins  logged_in  num_compromised  ...  flag_REJ  flag_RSTO  \\\n",
      "0                  0          0                0  ...     False      False   \n",
      "1                  0          0                0  ...     False      False   \n",
      "2                  0          0                0  ...     False      False   \n",
      "3                  0          1                0  ...     False      False   \n",
      "4                  0          1                0  ...     False      False   \n",
      "\n",
      "   flag_RSTOS0  flag_RSTR  flag_S0  flag_S1  flag_S2  flag_S3  flag_SF  \\\n",
      "0        False      False    False    False    False    False     True   \n",
      "1        False      False    False    False    False    False     True   \n",
      "2        False      False     True    False    False    False    False   \n",
      "3        False      False    False    False    False    False     True   \n",
      "4        False      False    False    False    False    False     True   \n",
      "\n",
      "   flag_SH  \n",
      "0    False  \n",
      "1    False  \n",
      "2    False  \n",
      "3    False  \n",
      "4    False  \n",
      "\n",
      "[5 rows x 124 columns]\n"
     ]
    }
   ],
   "source": [
    "print(encoded_train_data.head())"
   ]
  },
  {
   "cell_type": "code",
   "execution_count": 92,
   "id": "d74fb485-9ea2-479d-bfa5-6ce8cf1a1d01",
   "metadata": {},
   "outputs": [],
   "source": [
    "train_data = pd.read_csv(\"train_data_headers.csv\")"
   ]
  },
  {
   "cell_type": "code",
   "execution_count": 93,
   "id": "8c1c41c9-0170-490f-b497-41fcd0a0788b",
   "metadata": {},
   "outputs": [
    {
     "name": "stdout",
     "output_type": "stream",
     "text": [
      "   duration protocol_type   service flag  src_bytes  dst_bytes  land  \\\n",
      "0         0           tcp  ftp_data   SF        491          0     0   \n",
      "1         0           udp     other   SF        146          0     0   \n",
      "2         0           tcp   private   S0          0          0     0   \n",
      "3         0           tcp      http   SF        232       8153     0   \n",
      "4         0           tcp      http   SF        199        420     0   \n",
      "\n",
      "   wrong_fragment  urgent  hot  ...  dst_host_same_srv_rate  \\\n",
      "0               0       0    0  ...                    0.17   \n",
      "1               0       0    0  ...                    0.00   \n",
      "2               0       0    0  ...                    0.10   \n",
      "3               0       0    0  ...                    1.00   \n",
      "4               0       0    0  ...                    1.00   \n",
      "\n",
      "   dst_host_diff_srv_rate  dst_host_same_src_port_rate  \\\n",
      "0                    0.03                         0.17   \n",
      "1                    0.60                         0.88   \n",
      "2                    0.05                         0.00   \n",
      "3                    0.00                         0.03   \n",
      "4                    0.00                         0.00   \n",
      "\n",
      "   dst_host_srv_diff_host_rate  dst_host_serror_rate  \\\n",
      "0                         0.00                  0.00   \n",
      "1                         0.00                  0.00   \n",
      "2                         0.00                  1.00   \n",
      "3                         0.04                  0.03   \n",
      "4                         0.00                  0.00   \n",
      "\n",
      "   dst_host_srv_serror_rate  dst_host_rerror_rate  dst_host_srv_rerror_rate  \\\n",
      "0                      0.00                  0.05                      0.00   \n",
      "1                      0.00                  0.00                      0.00   \n",
      "2                      1.00                  0.00                      0.00   \n",
      "3                      0.01                  0.00                      0.01   \n",
      "4                      0.00                  0.00                      0.00   \n",
      "\n",
      "   outcome  class  \n",
      "0   normal     20  \n",
      "1   normal     15  \n",
      "2  neptune     19  \n",
      "3   normal     21  \n",
      "4   normal     21  \n",
      "\n",
      "[5 rows x 43 columns]\n"
     ]
    }
   ],
   "source": [
    "print(train_data.head())"
   ]
  },
  {
   "cell_type": "code",
   "execution_count": 94,
   "id": "540726b4-cb04-4f03-865f-a3ebf1858eab",
   "metadata": {},
   "outputs": [],
   "source": [
    "input_features = train_data[['protocol_type','service','flag']]"
   ]
  },
  {
   "cell_type": "code",
   "execution_count": 95,
   "id": "80b89023-ee68-49fe-b1bf-fc3814b19fb3",
   "metadata": {},
   "outputs": [
    {
     "name": "stdout",
     "output_type": "stream",
     "text": [
      "  protocol_type   service flag\n",
      "0           tcp  ftp_data   SF\n",
      "1           udp     other   SF\n",
      "2           tcp   private   S0\n",
      "3           tcp      http   SF\n",
      "4           tcp      http   SF\n"
     ]
    }
   ],
   "source": [
    "print(input_features.head())"
   ]
  },
  {
   "cell_type": "code",
   "execution_count": 96,
   "id": "20325522-2a73-47ec-83a3-26e0a67a3beb",
   "metadata": {},
   "outputs": [],
   "source": [
    "encoded_features = pd.get_dummies(input_features)"
   ]
  },
  {
   "cell_type": "code",
   "execution_count": 97,
   "id": "b2a85ec2-c3c3-444f-9db6-57e9a7d4ea54",
   "metadata": {},
   "outputs": [
    {
     "name": "stdout",
     "output_type": "stream",
     "text": [
      "        protocol_type_icmp  protocol_type_tcp  protocol_type_udp  service_IRC  \\\n",
      "0                    False               True              False        False   \n",
      "1                    False              False               True        False   \n",
      "2                    False               True              False        False   \n",
      "3                    False               True              False        False   \n",
      "4                    False               True              False        False   \n",
      "...                    ...                ...                ...          ...   \n",
      "125968               False               True              False        False   \n",
      "125969               False              False               True        False   \n",
      "125970               False               True              False        False   \n",
      "125971               False               True              False        False   \n",
      "125972               False               True              False        False   \n",
      "\n",
      "        service_X11  service_Z39_50  service_aol  service_auth  service_bgp  \\\n",
      "0             False           False        False         False        False   \n",
      "1             False           False        False         False        False   \n",
      "2             False           False        False         False        False   \n",
      "3             False           False        False         False        False   \n",
      "4             False           False        False         False        False   \n",
      "...             ...             ...          ...           ...          ...   \n",
      "125968        False           False        False         False        False   \n",
      "125969        False           False        False         False        False   \n",
      "125970        False           False        False         False        False   \n",
      "125971        False           False        False         False        False   \n",
      "125972        False           False        False         False        False   \n",
      "\n",
      "        service_courier  ...  flag_REJ  flag_RSTO  flag_RSTOS0  flag_RSTR  \\\n",
      "0                 False  ...     False      False        False      False   \n",
      "1                 False  ...     False      False        False      False   \n",
      "2                 False  ...     False      False        False      False   \n",
      "3                 False  ...     False      False        False      False   \n",
      "4                 False  ...     False      False        False      False   \n",
      "...                 ...  ...       ...        ...          ...        ...   \n",
      "125968            False  ...     False      False        False      False   \n",
      "125969            False  ...     False      False        False      False   \n",
      "125970            False  ...     False      False        False      False   \n",
      "125971            False  ...     False      False        False      False   \n",
      "125972            False  ...     False      False        False      False   \n",
      "\n",
      "        flag_S0  flag_S1  flag_S2  flag_S3  flag_SF  flag_SH  \n",
      "0         False    False    False    False     True    False  \n",
      "1         False    False    False    False     True    False  \n",
      "2          True    False    False    False    False    False  \n",
      "3         False    False    False    False     True    False  \n",
      "4         False    False    False    False     True    False  \n",
      "...         ...      ...      ...      ...      ...      ...  \n",
      "125968     True    False    False    False    False    False  \n",
      "125969    False    False    False    False     True    False  \n",
      "125970    False    False    False    False     True    False  \n",
      "125971     True    False    False    False    False    False  \n",
      "125972    False    False    False    False     True    False  \n",
      "\n",
      "[125973 rows x 84 columns]\n"
     ]
    }
   ],
   "source": [
    "print (encoded_features)"
   ]
  },
  {
   "cell_type": "code",
   "execution_count": 100,
   "id": "5385ea3f-abd2-4f04-b38d-02c1a7cd8321",
   "metadata": {},
   "outputs": [],
   "source": [
    "# Lisiting column names for boolean conversion \n",
    "boolean_columns = ['protocol_type_icmp', 'protocol_type_tcp', 'protocol_type_udp']"
   ]
  },
  {
   "cell_type": "code",
   "execution_count": 101,
   "id": "7913a1fb-9860-465b-ba97-8080881c8076",
   "metadata": {},
   "outputs": [],
   "source": [
    "# Converting boolean columns to binary\n",
    "for col in boolean_columns:\n",
    "    encoded_features[col] = encoded_features[col].astype(int)"
   ]
  },
  {
   "cell_type": "code",
   "execution_count": 102,
   "id": "3bc2628e-1c50-42c0-a2f8-20dff22f2e45",
   "metadata": {},
   "outputs": [
    {
     "name": "stdout",
     "output_type": "stream",
     "text": [
      "        protocol_type_icmp  protocol_type_tcp  protocol_type_udp  service_IRC  \\\n",
      "0                        0                  1                  0        False   \n",
      "1                        0                  0                  1        False   \n",
      "2                        0                  1                  0        False   \n",
      "3                        0                  1                  0        False   \n",
      "4                        0                  1                  0        False   \n",
      "...                    ...                ...                ...          ...   \n",
      "125968                   0                  1                  0        False   \n",
      "125969                   0                  0                  1        False   \n",
      "125970                   0                  1                  0        False   \n",
      "125971                   0                  1                  0        False   \n",
      "125972                   0                  1                  0        False   \n",
      "\n",
      "        service_X11  service_Z39_50  service_aol  service_auth  service_bgp  \\\n",
      "0             False           False        False         False        False   \n",
      "1             False           False        False         False        False   \n",
      "2             False           False        False         False        False   \n",
      "3             False           False        False         False        False   \n",
      "4             False           False        False         False        False   \n",
      "...             ...             ...          ...           ...          ...   \n",
      "125968        False           False        False         False        False   \n",
      "125969        False           False        False         False        False   \n",
      "125970        False           False        False         False        False   \n",
      "125971        False           False        False         False        False   \n",
      "125972        False           False        False         False        False   \n",
      "\n",
      "        service_courier  ...  flag_REJ  flag_RSTO  flag_RSTOS0  flag_RSTR  \\\n",
      "0                 False  ...     False      False        False      False   \n",
      "1                 False  ...     False      False        False      False   \n",
      "2                 False  ...     False      False        False      False   \n",
      "3                 False  ...     False      False        False      False   \n",
      "4                 False  ...     False      False        False      False   \n",
      "...                 ...  ...       ...        ...          ...        ...   \n",
      "125968            False  ...     False      False        False      False   \n",
      "125969            False  ...     False      False        False      False   \n",
      "125970            False  ...     False      False        False      False   \n",
      "125971            False  ...     False      False        False      False   \n",
      "125972            False  ...     False      False        False      False   \n",
      "\n",
      "        flag_S0  flag_S1  flag_S2  flag_S3  flag_SF  flag_SH  \n",
      "0         False    False    False    False     True    False  \n",
      "1         False    False    False    False     True    False  \n",
      "2          True    False    False    False    False    False  \n",
      "3         False    False    False    False     True    False  \n",
      "4         False    False    False    False     True    False  \n",
      "...         ...      ...      ...      ...      ...      ...  \n",
      "125968     True    False    False    False    False    False  \n",
      "125969    False    False    False    False     True    False  \n",
      "125970    False    False    False    False     True    False  \n",
      "125971     True    False    False    False    False    False  \n",
      "125972    False    False    False    False     True    False  \n",
      "\n",
      "[125973 rows x 84 columns]\n"
     ]
    }
   ],
   "source": [
    "print (encoded_features)"
   ]
  },
  {
   "cell_type": "code",
   "execution_count": 103,
   "id": "1f30502d-3863-476c-b3a3-cc3edfe1f8f2",
   "metadata": {},
   "outputs": [
    {
     "name": "stdout",
     "output_type": "stream",
     "text": [
      "        duration protocol_type   service flag  src_bytes  dst_bytes  land  \\\n",
      "0              0           tcp  ftp_data   SF        491          0     0   \n",
      "1              0           udp     other   SF        146          0     0   \n",
      "2              0           tcp   private   S0          0          0     0   \n",
      "3              0           tcp      http   SF        232       8153     0   \n",
      "4              0           tcp      http   SF        199        420     0   \n",
      "...          ...           ...       ...  ...        ...        ...   ...   \n",
      "125968         0           tcp   private   S0          0          0     0   \n",
      "125969         8           udp   private   SF        105        145     0   \n",
      "125970         0           tcp      smtp   SF       2231        384     0   \n",
      "125971         0           tcp    klogin   S0          0          0     0   \n",
      "125972         0           tcp  ftp_data   SF        151          0     0   \n",
      "\n",
      "        wrong_fragment  urgent  hot  ...  dst_host_same_srv_rate  \\\n",
      "0                    0       0    0  ...                    0.17   \n",
      "1                    0       0    0  ...                    0.00   \n",
      "2                    0       0    0  ...                    0.10   \n",
      "3                    0       0    0  ...                    1.00   \n",
      "4                    0       0    0  ...                    1.00   \n",
      "...                ...     ...  ...  ...                     ...   \n",
      "125968               0       0    0  ...                    0.10   \n",
      "125969               0       0    0  ...                    0.96   \n",
      "125970               0       0    0  ...                    0.12   \n",
      "125971               0       0    0  ...                    0.03   \n",
      "125972               0       0    0  ...                    0.30   \n",
      "\n",
      "        dst_host_diff_srv_rate  dst_host_same_src_port_rate  \\\n",
      "0                         0.03                         0.17   \n",
      "1                         0.60                         0.88   \n",
      "2                         0.05                         0.00   \n",
      "3                         0.00                         0.03   \n",
      "4                         0.00                         0.00   \n",
      "...                        ...                          ...   \n",
      "125968                    0.06                         0.00   \n",
      "125969                    0.01                         0.01   \n",
      "125970                    0.06                         0.00   \n",
      "125971                    0.05                         0.00   \n",
      "125972                    0.03                         0.30   \n",
      "\n",
      "        dst_host_srv_diff_host_rate  dst_host_serror_rate  \\\n",
      "0                              0.00                  0.00   \n",
      "1                              0.00                  0.00   \n",
      "2                              0.00                  1.00   \n",
      "3                              0.04                  0.03   \n",
      "4                              0.00                  0.00   \n",
      "...                             ...                   ...   \n",
      "125968                         0.00                  1.00   \n",
      "125969                         0.00                  0.00   \n",
      "125970                         0.00                  0.72   \n",
      "125971                         0.00                  1.00   \n",
      "125972                         0.00                  0.00   \n",
      "\n",
      "        dst_host_srv_serror_rate  dst_host_rerror_rate  \\\n",
      "0                           0.00                  0.05   \n",
      "1                           0.00                  0.00   \n",
      "2                           1.00                  0.00   \n",
      "3                           0.01                  0.00   \n",
      "4                           0.00                  0.00   \n",
      "...                          ...                   ...   \n",
      "125968                      1.00                  0.00   \n",
      "125969                      0.00                  0.00   \n",
      "125970                      0.00                  0.01   \n",
      "125971                      1.00                  0.00   \n",
      "125972                      0.00                  0.00   \n",
      "\n",
      "        dst_host_srv_rerror_rate  outcome  class  \n",
      "0                           0.00   normal     20  \n",
      "1                           0.00   normal     15  \n",
      "2                           0.00  neptune     19  \n",
      "3                           0.01   normal     21  \n",
      "4                           0.00   normal     21  \n",
      "...                          ...      ...    ...  \n",
      "125968                      0.00  neptune     20  \n",
      "125969                      0.00   normal     21  \n",
      "125970                      0.00   normal     18  \n",
      "125971                      0.00  neptune     20  \n",
      "125972                      0.00   normal     21  \n",
      "\n",
      "[125973 rows x 43 columns]\n"
     ]
    }
   ],
   "source": [
    "print (train_data)"
   ]
  },
  {
   "cell_type": "code",
   "execution_count": 104,
   "id": "7f322dc5-9cb8-480a-bb42-1b6a99b6c1be",
   "metadata": {},
   "outputs": [
    {
     "name": "stdout",
     "output_type": "stream",
     "text": [
      "  protocol_type   service flag\n",
      "0           tcp  ftp_data   SF\n",
      "1           udp     other   SF\n",
      "2           tcp   private   S0\n",
      "3           tcp      http   SF\n",
      "4           tcp      http   SF\n"
     ]
    }
   ],
   "source": [
    "print(input_features.head())"
   ]
  },
  {
   "cell_type": "code",
   "execution_count": 105,
   "id": "2290ed92-86a8-4711-a376-bef6ae9862fb",
   "metadata": {},
   "outputs": [],
   "source": [
    "train_data = input_features"
   ]
  },
  {
   "cell_type": "code",
   "execution_count": 106,
   "id": "e8c442d2-a28c-4b22-b0bc-2e4e47e9a503",
   "metadata": {},
   "outputs": [
    {
     "name": "stdout",
     "output_type": "stream",
     "text": [
      "       protocol_type   service flag\n",
      "0                tcp  ftp_data   SF\n",
      "1                udp     other   SF\n",
      "2                tcp   private   S0\n",
      "3                tcp      http   SF\n",
      "4                tcp      http   SF\n",
      "...              ...       ...  ...\n",
      "125968           tcp   private   S0\n",
      "125969           udp   private   SF\n",
      "125970           tcp      smtp   SF\n",
      "125971           tcp    klogin   S0\n",
      "125972           tcp  ftp_data   SF\n",
      "\n",
      "[125973 rows x 3 columns]\n"
     ]
    }
   ],
   "source": [
    "print (train_data)"
   ]
  },
  {
   "cell_type": "code",
   "execution_count": 108,
   "id": "c53b4f08-0ef7-4a4c-8706-dee09cb596d1",
   "metadata": {},
   "outputs": [],
   "source": [
    "categorical_columns = ['protocol_type', 'service', 'flag']"
   ]
  },
  {
   "cell_type": "code",
   "execution_count": 109,
   "id": "bbdc8b82-2e87-468b-a35f-6b600cbf87e5",
   "metadata": {},
   "outputs": [],
   "source": [
    "encoded_columns = pd.get_dummies(train_data[categorical_columns], prefix=categorical_columns)"
   ]
  },
  {
   "cell_type": "code",
   "execution_count": 110,
   "id": "24409f6f-8f7e-418d-a940-464fc749193a",
   "metadata": {},
   "outputs": [
    {
     "name": "stdout",
     "output_type": "stream",
     "text": [
      "   protocol_type_icmp  protocol_type_tcp  protocol_type_udp  service_IRC  \\\n",
      "0               False               True              False        False   \n",
      "1               False              False               True        False   \n",
      "2               False               True              False        False   \n",
      "3               False               True              False        False   \n",
      "4               False               True              False        False   \n",
      "\n",
      "   service_X11  service_Z39_50  service_aol  service_auth  service_bgp  \\\n",
      "0        False           False        False         False        False   \n",
      "1        False           False        False         False        False   \n",
      "2        False           False        False         False        False   \n",
      "3        False           False        False         False        False   \n",
      "4        False           False        False         False        False   \n",
      "\n",
      "   service_courier  ...  flag_REJ  flag_RSTO  flag_RSTOS0  flag_RSTR  flag_S0  \\\n",
      "0            False  ...     False      False        False      False    False   \n",
      "1            False  ...     False      False        False      False    False   \n",
      "2            False  ...     False      False        False      False     True   \n",
      "3            False  ...     False      False        False      False    False   \n",
      "4            False  ...     False      False        False      False    False   \n",
      "\n",
      "   flag_S1  flag_S2  flag_S3  flag_SF  flag_SH  \n",
      "0    False    False    False     True    False  \n",
      "1    False    False    False     True    False  \n",
      "2    False    False    False    False    False  \n",
      "3    False    False    False     True    False  \n",
      "4    False    False    False     True    False  \n",
      "\n",
      "[5 rows x 84 columns]\n"
     ]
    }
   ],
   "source": [
    "print (encoded_columns.head())"
   ]
  },
  {
   "cell_type": "code",
   "execution_count": 111,
   "id": "14ac8648-cb46-433b-bac2-adc6ad1d9fbc",
   "metadata": {},
   "outputs": [
    {
     "name": "stdout",
     "output_type": "stream",
     "text": [
      "       protocol_type   service flag\n",
      "0                tcp  ftp_data   SF\n",
      "1                udp     other   SF\n",
      "2                tcp   private   S0\n",
      "3                tcp      http   SF\n",
      "4                tcp      http   SF\n",
      "...              ...       ...  ...\n",
      "125968           tcp   private   S0\n",
      "125969           udp   private   SF\n",
      "125970           tcp      smtp   SF\n",
      "125971           tcp    klogin   S0\n",
      "125972           tcp  ftp_data   SF\n",
      "\n",
      "[125973 rows x 3 columns]\n"
     ]
    }
   ],
   "source": [
    "print (train_data)"
   ]
  },
  {
   "cell_type": "code",
   "execution_count": 112,
   "id": "31c5c67e-2530-4b96-a665-8d2efca802a8",
   "metadata": {},
   "outputs": [],
   "source": [
    "# One-hot encoding for multiclass features\n",
    "multiclass_columns = ['protocol_type', 'service', 'flag']"
   ]
  },
  {
   "cell_type": "code",
   "execution_count": 113,
   "id": "e743cb57-3e2c-4b96-8195-6ef1d72e33cc",
   "metadata": {},
   "outputs": [],
   "source": [
    "encoded_df = pd.DataFrame()"
   ]
  },
  {
   "cell_type": "code",
   "execution_count": 114,
   "id": "b2ea8b7e-a75f-4548-b387-fbac9aa8803b",
   "metadata": {},
   "outputs": [],
   "source": [
    "for column in multiclass_columns:\n",
    "    unique_classes = train_data[column].unique()"
   ]
  },
  {
   "cell_type": "code",
   "execution_count": 116,
   "id": "f6a3ff64-b381-4605-b131-d7277e9f9cfd",
   "metadata": {},
   "outputs": [],
   "source": [
    "for class_label in unique_classes:\n",
    "    binary_vector = (train_data[column] == class_label).astype(int)"
   ]
  },
  {
   "cell_type": "code",
   "execution_count": 118,
   "id": "4491ba86-839f-4bf6-adff-a5e2cdf3b08a",
   "metadata": {},
   "outputs": [
    {
     "data": {
      "text/plain": [
       "0         0\n",
       "1         0\n",
       "2         0\n",
       "3         0\n",
       "4         0\n",
       "         ..\n",
       "125968    0\n",
       "125969    0\n",
       "125970    0\n",
       "125971    0\n",
       "125972    0\n",
       "Name: flag_OTH, Length: 125973, dtype: int32"
      ]
     },
     "execution_count": 118,
     "metadata": {},
     "output_type": "execute_result"
    }
   ],
   "source": [
    "binary_vector.rename(f\"{column}_{class_label}\", inplace= True)"
   ]
  },
  {
   "cell_type": "code",
   "execution_count": 119,
   "id": "44838162-a3b6-4125-95de-f7769caccd0f",
   "metadata": {},
   "outputs": [],
   "source": [
    "encoded_df[binary_vector.name] = binary_vector"
   ]
  },
  {
   "cell_type": "code",
   "execution_count": 120,
   "id": "a0e7c7f7-b2c3-4c19-946d-7c8fc0a93650",
   "metadata": {},
   "outputs": [
    {
     "name": "stdout",
     "output_type": "stream",
     "text": [
      "        flag_OTH\n",
      "0              0\n",
      "1              0\n",
      "2              0\n",
      "3              0\n",
      "4              0\n",
      "...          ...\n",
      "125968         0\n",
      "125969         0\n",
      "125970         0\n",
      "125971         0\n",
      "125972         0\n",
      "\n",
      "[125973 rows x 1 columns]\n"
     ]
    }
   ],
   "source": [
    "print (encoded_df)"
   ]
  },
  {
   "cell_type": "code",
   "execution_count": 121,
   "id": "e91d0f9e-aa36-463e-8b33-28e2bbad6d67",
   "metadata": {},
   "outputs": [],
   "source": [
    "encoded_train_data = pd.concat([train_data, encoded_df], axis = 1)"
   ]
  },
  {
   "cell_type": "code",
   "execution_count": 122,
   "id": "c6db6cce-75e9-4543-92f3-67b6bc99b57b",
   "metadata": {},
   "outputs": [
    {
     "name": "stdout",
     "output_type": "stream",
     "text": [
      "       protocol_type   service flag  flag_OTH\n",
      "0                tcp  ftp_data   SF         0\n",
      "1                udp     other   SF         0\n",
      "2                tcp   private   S0         0\n",
      "3                tcp      http   SF         0\n",
      "4                tcp      http   SF         0\n",
      "...              ...       ...  ...       ...\n",
      "125968           tcp   private   S0         0\n",
      "125969           udp   private   SF         0\n",
      "125970           tcp      smtp   SF         0\n",
      "125971           tcp    klogin   S0         0\n",
      "125972           tcp  ftp_data   SF         0\n",
      "\n",
      "[125973 rows x 4 columns]\n"
     ]
    }
   ],
   "source": [
    "print (encoded_train_data)"
   ]
  },
  {
   "cell_type": "code",
   "execution_count": 123,
   "id": "aff09e86-e144-423d-9d8a-78a69edcd651",
   "metadata": {},
   "outputs": [
    {
     "name": "stdout",
     "output_type": "stream",
     "text": [
      "        protocol_type_icmp  protocol_type_tcp  protocol_type_udp  service_IRC  \\\n",
      "0                    False               True              False        False   \n",
      "1                    False              False               True        False   \n",
      "2                    False               True              False        False   \n",
      "3                    False               True              False        False   \n",
      "4                    False               True              False        False   \n",
      "...                    ...                ...                ...          ...   \n",
      "125968               False               True              False        False   \n",
      "125969               False              False               True        False   \n",
      "125970               False               True              False        False   \n",
      "125971               False               True              False        False   \n",
      "125972               False               True              False        False   \n",
      "\n",
      "        service_X11  service_Z39_50  service_aol  service_auth  service_bgp  \\\n",
      "0             False           False        False         False        False   \n",
      "1             False           False        False         False        False   \n",
      "2             False           False        False         False        False   \n",
      "3             False           False        False         False        False   \n",
      "4             False           False        False         False        False   \n",
      "...             ...             ...          ...           ...          ...   \n",
      "125968        False           False        False         False        False   \n",
      "125969        False           False        False         False        False   \n",
      "125970        False           False        False         False        False   \n",
      "125971        False           False        False         False        False   \n",
      "125972        False           False        False         False        False   \n",
      "\n",
      "        service_courier  ...  flag_REJ  flag_RSTO  flag_RSTOS0  flag_RSTR  \\\n",
      "0                 False  ...     False      False        False      False   \n",
      "1                 False  ...     False      False        False      False   \n",
      "2                 False  ...     False      False        False      False   \n",
      "3                 False  ...     False      False        False      False   \n",
      "4                 False  ...     False      False        False      False   \n",
      "...                 ...  ...       ...        ...          ...        ...   \n",
      "125968            False  ...     False      False        False      False   \n",
      "125969            False  ...     False      False        False      False   \n",
      "125970            False  ...     False      False        False      False   \n",
      "125971            False  ...     False      False        False      False   \n",
      "125972            False  ...     False      False        False      False   \n",
      "\n",
      "        flag_S0  flag_S1  flag_S2  flag_S3  flag_SF  flag_SH  \n",
      "0         False    False    False    False     True    False  \n",
      "1         False    False    False    False     True    False  \n",
      "2          True    False    False    False    False    False  \n",
      "3         False    False    False    False     True    False  \n",
      "4         False    False    False    False     True    False  \n",
      "...         ...      ...      ...      ...      ...      ...  \n",
      "125968     True    False    False    False    False    False  \n",
      "125969    False    False    False    False     True    False  \n",
      "125970    False    False    False    False     True    False  \n",
      "125971     True    False    False    False    False    False  \n",
      "125972    False    False    False    False     True    False  \n",
      "\n",
      "[125973 rows x 84 columns]\n"
     ]
    }
   ],
   "source": [
    "print (encoded_columns)"
   ]
  },
  {
   "cell_type": "code",
   "execution_count": 124,
   "id": "6ba82da0-3254-4b0a-b3fa-6e275b94cbf2",
   "metadata": {},
   "outputs": [],
   "source": [
    "encoded_columns_binary = encoded_columns.astype(int) "
   ]
  },
  {
   "cell_type": "code",
   "execution_count": 126,
   "id": "0c834790-2631-4f59-ac0c-95d0b64b6874",
   "metadata": {},
   "outputs": [
    {
     "name": "stdout",
     "output_type": "stream",
     "text": [
      "        protocol_type_icmp  protocol_type_tcp  protocol_type_udp  service_IRC  \\\n",
      "0                        0                  1                  0            0   \n",
      "1                        0                  0                  1            0   \n",
      "2                        0                  1                  0            0   \n",
      "3                        0                  1                  0            0   \n",
      "4                        0                  1                  0            0   \n",
      "...                    ...                ...                ...          ...   \n",
      "125968                   0                  1                  0            0   \n",
      "125969                   0                  0                  1            0   \n",
      "125970                   0                  1                  0            0   \n",
      "125971                   0                  1                  0            0   \n",
      "125972                   0                  1                  0            0   \n",
      "\n",
      "        service_X11  service_Z39_50  service_aol  service_auth  service_bgp  \\\n",
      "0                 0               0            0             0            0   \n",
      "1                 0               0            0             0            0   \n",
      "2                 0               0            0             0            0   \n",
      "3                 0               0            0             0            0   \n",
      "4                 0               0            0             0            0   \n",
      "...             ...             ...          ...           ...          ...   \n",
      "125968            0               0            0             0            0   \n",
      "125969            0               0            0             0            0   \n",
      "125970            0               0            0             0            0   \n",
      "125971            0               0            0             0            0   \n",
      "125972            0               0            0             0            0   \n",
      "\n",
      "        service_courier  ...  flag_REJ  flag_RSTO  flag_RSTOS0  flag_RSTR  \\\n",
      "0                     0  ...         0          0            0          0   \n",
      "1                     0  ...         0          0            0          0   \n",
      "2                     0  ...         0          0            0          0   \n",
      "3                     0  ...         0          0            0          0   \n",
      "4                     0  ...         0          0            0          0   \n",
      "...                 ...  ...       ...        ...          ...        ...   \n",
      "125968                0  ...         0          0            0          0   \n",
      "125969                0  ...         0          0            0          0   \n",
      "125970                0  ...         0          0            0          0   \n",
      "125971                0  ...         0          0            0          0   \n",
      "125972                0  ...         0          0            0          0   \n",
      "\n",
      "        flag_S0  flag_S1  flag_S2  flag_S3  flag_SF  flag_SH  \n",
      "0             0        0        0        0        1        0  \n",
      "1             0        0        0        0        1        0  \n",
      "2             1        0        0        0        0        0  \n",
      "3             0        0        0        0        1        0  \n",
      "4             0        0        0        0        1        0  \n",
      "...         ...      ...      ...      ...      ...      ...  \n",
      "125968        1        0        0        0        0        0  \n",
      "125969        0        0        0        0        1        0  \n",
      "125970        0        0        0        0        1        0  \n",
      "125971        1        0        0        0        0        0  \n",
      "125972        0        0        0        0        1        0  \n",
      "\n",
      "[125973 rows x 84 columns]\n"
     ]
    }
   ],
   "source": [
    "print(encoded_columns_binary)"
   ]
  },
  {
   "cell_type": "code",
   "execution_count": 128,
   "id": "3436270c-519d-4f4f-b0ea-527d6448aeb0",
   "metadata": {},
   "outputs": [],
   "source": [
    "encoded_columns_binary.to_csv(\"KDDTrain_encoded.csv\")"
   ]
  },
  {
   "cell_type": "code",
   "execution_count": 130,
   "id": "7b6503ef-9e98-4cc3-8cae-7fc28be37724",
   "metadata": {},
   "outputs": [],
   "source": [
    "test_data = pd.read_csv(\"test_data_headers.csv\")"
   ]
  },
  {
   "cell_type": "code",
   "execution_count": 131,
   "id": "bc610e3f-9e99-47f5-adac-8a73808b20eb",
   "metadata": {},
   "outputs": [
    {
     "name": "stdout",
     "output_type": "stream",
     "text": [
      "       duration protocol_type   service  flag  src_bytes  dst_bytes  land  \\\n",
      "0             0           tcp   private   REJ          0          0     0   \n",
      "1             2           tcp  ftp_data    SF      12983          0     0   \n",
      "2             0          icmp     eco_i    SF         20          0     0   \n",
      "3             1           tcp    telnet  RSTO          0         15     0   \n",
      "4             0           tcp      http    SF        267      14515     0   \n",
      "...         ...           ...       ...   ...        ...        ...   ...   \n",
      "22538         0           tcp      smtp    SF        794        333     0   \n",
      "22539         0           tcp      http    SF        317        938     0   \n",
      "22540         0           tcp      http    SF      54540       8314     0   \n",
      "22541         0           udp  domain_u    SF         42         42     0   \n",
      "22542         0           tcp    sunrpc   REJ          0          0     0   \n",
      "\n",
      "       wrong_fragment  urgent  hot  ...  dst_host_same_srv_rate  \\\n",
      "0                   0       0    0  ...                    0.00   \n",
      "1                   0       0    0  ...                    0.61   \n",
      "2                   0       0    0  ...                    1.00   \n",
      "3                   0       0    0  ...                    0.31   \n",
      "4                   0       0    0  ...                    1.00   \n",
      "...               ...     ...  ...  ...                     ...   \n",
      "22538               0       0    0  ...                    0.72   \n",
      "22539               0       0    0  ...                    1.00   \n",
      "22540               0       0    2  ...                    1.00   \n",
      "22541               0       0    0  ...                    0.99   \n",
      "22542               0       0    0  ...                    0.08   \n",
      "\n",
      "       dst_host_diff_srv_rate  dst_host_same_src_port_rate  \\\n",
      "0                        0.06                         0.00   \n",
      "1                        0.04                         0.61   \n",
      "2                        0.00                         1.00   \n",
      "3                        0.17                         0.03   \n",
      "4                        0.00                         0.01   \n",
      "...                       ...                          ...   \n",
      "22538                    0.06                         0.01   \n",
      "22539                    0.00                         0.01   \n",
      "22540                    0.00                         0.00   \n",
      "22541                    0.01                         0.00   \n",
      "22542                    0.03                         0.00   \n",
      "\n",
      "       dst_host_srv_diff_host_rate  dst_host_serror_rate  \\\n",
      "0                             0.00                  0.00   \n",
      "1                             0.02                  0.00   \n",
      "2                             0.28                  0.00   \n",
      "3                             0.02                  0.00   \n",
      "4                             0.03                  0.01   \n",
      "...                            ...                   ...   \n",
      "22538                         0.01                  0.01   \n",
      "22539                         0.01                  0.01   \n",
      "22540                         0.00                  0.00   \n",
      "22541                         0.00                  0.00   \n",
      "22542                         0.00                  0.00   \n",
      "\n",
      "       dst_host_srv_serror_rate  dst_host_rerror_rate  \\\n",
      "0                           0.0                  1.00   \n",
      "1                           0.0                  0.00   \n",
      "2                           0.0                  0.00   \n",
      "3                           0.0                  0.83   \n",
      "4                           0.0                  0.00   \n",
      "...                         ...                   ...   \n",
      "22538                       0.0                  0.00   \n",
      "22539                       0.0                  0.00   \n",
      "22540                       0.0                  0.07   \n",
      "22541                       0.0                  0.00   \n",
      "22542                       0.0                  0.44   \n",
      "\n",
      "       dst_host_srv_rerror_rate  outcome  class  \n",
      "0                          1.00  neptune     21  \n",
      "1                          0.00   normal     21  \n",
      "2                          0.00    saint     15  \n",
      "3                          0.71    mscan     11  \n",
      "4                          0.00   normal     21  \n",
      "...                         ...      ...    ...  \n",
      "22538                      0.00   normal     21  \n",
      "22539                      0.00   normal     21  \n",
      "22540                      0.07     back     15  \n",
      "22541                      0.00   normal     21  \n",
      "22542                      1.00    mscan     14  \n",
      "\n",
      "[22543 rows x 43 columns]\n"
     ]
    }
   ],
   "source": [
    "print (test_data)"
   ]
  },
  {
   "cell_type": "code",
   "execution_count": 132,
   "id": "b179bbcb-c2ed-446a-ba57-5905a9de8ff7",
   "metadata": {},
   "outputs": [],
   "source": [
    "train_data = pd.read_csv(\"train_data_headers.csv\")"
   ]
  },
  {
   "cell_type": "code",
   "execution_count": 133,
   "id": "ec8a07e4-5993-4306-967d-b4ae75a250bd",
   "metadata": {},
   "outputs": [
    {
     "name": "stdout",
     "output_type": "stream",
     "text": [
      "   duration protocol_type   service flag  src_bytes  dst_bytes  land  \\\n",
      "0         0           tcp  ftp_data   SF        491          0     0   \n",
      "1         0           udp     other   SF        146          0     0   \n",
      "2         0           tcp   private   S0          0          0     0   \n",
      "3         0           tcp      http   SF        232       8153     0   \n",
      "4         0           tcp      http   SF        199        420     0   \n",
      "\n",
      "   wrong_fragment  urgent  hot  ...  dst_host_same_srv_rate  \\\n",
      "0               0       0    0  ...                    0.17   \n",
      "1               0       0    0  ...                    0.00   \n",
      "2               0       0    0  ...                    0.10   \n",
      "3               0       0    0  ...                    1.00   \n",
      "4               0       0    0  ...                    1.00   \n",
      "\n",
      "   dst_host_diff_srv_rate  dst_host_same_src_port_rate  \\\n",
      "0                    0.03                         0.17   \n",
      "1                    0.60                         0.88   \n",
      "2                    0.05                         0.00   \n",
      "3                    0.00                         0.03   \n",
      "4                    0.00                         0.00   \n",
      "\n",
      "   dst_host_srv_diff_host_rate  dst_host_serror_rate  \\\n",
      "0                         0.00                  0.00   \n",
      "1                         0.00                  0.00   \n",
      "2                         0.00                  1.00   \n",
      "3                         0.04                  0.03   \n",
      "4                         0.00                  0.00   \n",
      "\n",
      "   dst_host_srv_serror_rate  dst_host_rerror_rate  dst_host_srv_rerror_rate  \\\n",
      "0                      0.00                  0.05                      0.00   \n",
      "1                      0.00                  0.00                      0.00   \n",
      "2                      1.00                  0.00                      0.00   \n",
      "3                      0.01                  0.00                      0.01   \n",
      "4                      0.00                  0.00                      0.00   \n",
      "\n",
      "   outcome  class  \n",
      "0   normal     20  \n",
      "1   normal     15  \n",
      "2  neptune     19  \n",
      "3   normal     21  \n",
      "4   normal     21  \n",
      "\n",
      "[5 rows x 43 columns]\n"
     ]
    }
   ],
   "source": [
    "print (train_data.head())"
   ]
  },
  {
   "cell_type": "code",
   "execution_count": 134,
   "id": "cbc8dae9-04b5-4149-b141-db8f14704640",
   "metadata": {},
   "outputs": [
    {
     "name": "stdout",
     "output_type": "stream",
     "text": [
      "duration                         int64\n",
      "protocol_type                   object\n",
      "service                         object\n",
      "flag                            object\n",
      "src_bytes                        int64\n",
      "dst_bytes                        int64\n",
      "land                             int64\n",
      "wrong_fragment                   int64\n",
      "urgent                           int64\n",
      "hot                              int64\n",
      "num_failed_logins                int64\n",
      "logged_in                        int64\n",
      "num_compromised                  int64\n",
      "root_shell                       int64\n",
      "su_attempted                     int64\n",
      "num_root                         int64\n",
      "num_file_creations               int64\n",
      "num_shells                       int64\n",
      "num_access_files                 int64\n",
      "num_outbound_cmds                int64\n",
      "is_host_login                    int64\n",
      "is_guest_login                   int64\n",
      "count                            int64\n",
      "srv_count                        int64\n",
      "serror_rate                    float64\n",
      "srv_serror_rate                float64\n",
      "rerror_rate                    float64\n",
      "srv_rerror_rate                float64\n",
      "same_srv_rate                  float64\n",
      "diff_srv_rate                  float64\n",
      "srv_diff_host_rate             float64\n",
      "dst_host_count                   int64\n",
      "dst_host_srv_count               int64\n",
      "dst_host_same_srv_rate         float64\n",
      "dst_host_diff_srv_rate         float64\n",
      "dst_host_same_src_port_rate    float64\n",
      "dst_host_srv_diff_host_rate    float64\n",
      "dst_host_serror_rate           float64\n",
      "dst_host_srv_serror_rate       float64\n",
      "dst_host_rerror_rate           float64\n",
      "dst_host_srv_rerror_rate       float64\n",
      "outcome                         object\n",
      "class                            int64\n",
      "dtype: object\n"
     ]
    }
   ],
   "source": [
    "print(train_data.dtypes)"
   ]
  },
  {
   "cell_type": "code",
   "execution_count": 135,
   "id": "6f1f178f-df93-4686-927c-9902b7ac42c9",
   "metadata": {},
   "outputs": [],
   "source": [
    "import pandas as pd\n",
    "import os\n",
    "import numpy as np\n",
    "from sklearn import metrics\n",
    "from scipy.stats import zscore\n",
    "\n",
    "def expand_categories(values):\n",
    "    result = []\n",
    "    s = values.value_counts()\n",
    "    t = float(len(values))\n",
    "    for v in s.index:\n",
    "        result.append(\"{}:{}%\".format(v,round(100*(s[v]/t),2)))\n",
    "    return \"[{}]\".format(\",\".join(result))\n",
    "        \n",
    "def analyze(df):\n",
    "    print()\n",
    "    cols = df.columns.values\n",
    "    total = float(len(df))\n",
    "\n",
    "    print(\"{} rows\".format(int(total)))\n",
    "    for col in cols:\n",
    "        uniques = df[col].unique()\n",
    "        unique_count = len(uniques)\n",
    "        if unique_count>100:\n",
    "            print(\"** {}:{} ({}%)\".format(col,unique_count,\\\n",
    "                int(((unique_count)/total)*100)))\n",
    "        else:\n",
    "            print(\"** {}:{}\".format(col,expand_categories(df[col])))\n",
    "            expand_categories(df[col])"
   ]
  },
  {
   "cell_type": "code",
   "execution_count": 136,
   "id": "9237af1a-3179-4fce-be58-c597d107421b",
   "metadata": {},
   "outputs": [
    {
     "name": "stdout",
     "output_type": "stream",
     "text": [
      "\n",
      "125973 rows\n",
      "** duration:2981 (2%)\n",
      "** protocol_type:[tcp:81.52%,udp:11.9%,icmp:6.58%]\n",
      "** service:[http:32.02%,private:17.35%,domain_u:7.18%,smtp:5.81%,ftp_data:5.45%,eco_i:3.64%,other:3.46%,ecr_i:2.44%,telnet:1.87%,finger:1.4%,ftp:1.39%,auth:0.76%,Z39_50:0.68%,uucp:0.62%,courier:0.58%,bgp:0.56%,whois:0.55%,uucp_path:0.55%,iso_tsap:0.55%,time:0.52%,imap4:0.51%,nnsp:0.5%,vmnet:0.49%,urp_i:0.48%,domain:0.45%,ctf:0.45%,csnet_ns:0.43%,supdup:0.43%,discard:0.43%,http_443:0.42%,daytime:0.41%,gopher:0.41%,efs:0.39%,systat:0.38%,link:0.38%,exec:0.38%,hostnames:0.37%,name:0.36%,mtp:0.35%,echo:0.34%,klogin:0.34%,login:0.34%,ldap:0.33%,netbios_dgm:0.32%,sunrpc:0.3%,netbios_ssn:0.29%,netstat:0.29%,netbios_ns:0.28%,ssh:0.25%,kshell:0.24%,nntp:0.23%,pop_3:0.21%,sql_net:0.19%,IRC:0.15%,ntp_u:0.13%,rje:0.07%,remote_job:0.06%,pop_2:0.06%,X11:0.06%,printer:0.05%,shell:0.05%,urh_i:0.01%,tim_i:0.01%,red_i:0.01%,pm_dump:0.0%,tftp_u:0.0%,http_8001:0.0%,aol:0.0%,harvest:0.0%,http_2784:0.0%]\n",
      "** flag:[SF:59.49%,S0:27.67%,REJ:8.92%,RSTR:1.92%,RSTO:1.24%,S1:0.29%,SH:0.22%,S2:0.1%,RSTOS0:0.08%,S3:0.04%,OTH:0.04%]\n",
      "** src_bytes:3341 (2%)\n",
      "** dst_bytes:9326 (7%)\n",
      "** land:[0:99.98%,1:0.02%]\n",
      "** wrong_fragment:[0:99.13%,3:0.7%,1:0.16%]\n",
      "** urgent:[0:99.99%,1:0.0%,2:0.0%,3:0.0%]\n",
      "** hot:[0:97.88%,2:0.82%,1:0.29%,28:0.22%,30:0.2%,4:0.14%,6:0.11%,5:0.06%,24:0.05%,19:0.05%,22:0.04%,3:0.04%,18:0.04%,14:0.02%,20:0.01%,7:0.0%,15:0.0%,11:0.0%,25:0.0%,9:0.0%,44:0.0%,77:0.0%,17:0.0%,12:0.0%,10:0.0%,8:0.0%,21:0.0%,33:0.0%]\n",
      "** num_failed_logins:[0:99.9%,1:0.08%,2:0.01%,3:0.0%,4:0.0%,5:0.0%]\n",
      "** logged_in:[0:60.43%,1:39.57%]\n",
      "** num_compromised:[0:98.98%,1:0.77%,2:0.08%,4:0.03%,3:0.03%,6:0.02%,5:0.01%,7:0.0%,8:0.0%,9:0.0%,13:0.0%,23:0.0%,10:0.0%,21:0.0%,371:0.0%,12:0.0%,884:0.0%,31:0.0%,151:0.0%,407:0.0%,452:0.0%,46:0.0%,174:0.0%,1739:0.0%,16:0.0%,378:0.0%,75:0.0%,37:0.0%,375:0.0%,543:0.0%,198:0.0%,809:0.0%,22:0.0%,456:0.0%,237:0.0%,74:0.0%,691:0.0%,187:0.0%,94:0.0%,349:0.0%,676:0.0%,568:0.0%,258:0.0%,175:0.0%,373:0.0%,14:0.0%,761:0.0%,78:0.0%,1043:0.0%,177:0.0%,247:0.0%,538:0.0%,102:0.0%,17:0.0%,54:0.0%,217:0.0%,767:0.0%,457:0.0%,520:0.0%,789:0.0%,193:0.0%,83:0.0%,558:0.0%,751:0.0%,157:0.0%,110:0.0%,462:0.0%,107:0.0%,38:0.0%,19:0.0%,756:0.0%,281:0.0%,44:0.0%,622:0.0%,18:0.0%,15:0.0%,716:0.0%,202:0.0%,121:0.0%,682:0.0%,537:0.0%,345:0.0%,166:0.0%,7479:0.0%,307:0.0%,40:0.0%,405:0.0%,11:0.0%]\n",
      "** root_shell:[0:99.87%,1:0.13%]\n",
      "** su_attempted:[0:99.94%,2:0.05%,1:0.02%]\n",
      "** num_root:[0:99.48%,1:0.22%,9:0.1%,6:0.08%,2:0.03%,5:0.02%,4:0.01%,3:0.01%,7:0.0%,857:0.0%,39:0.0%,421:0.0%,10:0.0%,36:0.0%,204:0.0%,1743:0.0%,55:0.0%,16:0.0%,889:0.0%,74:0.0%,218:0.0%,502:0.0%,261:0.0%,119:0.0%,8:0.0%,849:0.0%,77:0.0%,754:0.0%,610:0.0%,766:0.0%,505:0.0%,387:0.0%,626:0.0%,287:0.0%,446:0.0%,187:0.0%,605:0.0%,402:0.0%,190:0.0%,1045:0.0%,71:0.0%,22:0.0%,206:0.0%,17:0.0%,104:0.0%,993:0.0%,7468:0.0%,841:0.0%,179:0.0%,191:0.0%,91:0.0%,247:0.0%,146:0.0%,417:0.0%,629:0.0%,38:0.0%,572:0.0%,151:0.0%,121:0.0%,512:0.0%,100:0.0%,14:0.0%,54:0.0%,867:0.0%,975:0.0%,450:0.0%,749:0.0%,40:0.0%,338:0.0%,416:0.0%,184:0.0%,390:0.0%,611:0.0%,123:0.0%,508:0.0%,222:0.0%,789:0.0%,684:0.0%,47:0.0%,278:0.0%,12:0.0%,425:0.0%]\n",
      "** num_file_creations:[0:99.77%,1:0.12%,2:0.03%,4:0.01%,3:0.0%,8:0.0%,15:0.0%,10:0.0%,5:0.0%,17:0.0%,7:0.0%,12:0.0%,18:0.0%,11:0.0%,26:0.0%,25:0.0%,20:0.0%,40:0.0%,14:0.0%,6:0.0%,13:0.0%,23:0.0%,9:0.0%,36:0.0%,43:0.0%,22:0.0%,33:0.0%,28:0.0%,29:0.0%,21:0.0%,16:0.0%,19:0.0%,27:0.0%,38:0.0%,34:0.0%]\n",
      "** num_shells:[0:99.96%,1:0.03%,2:0.0%]\n",
      "** num_access_files:[0:99.71%,1:0.25%,2:0.02%,3:0.01%,5:0.0%,4:0.0%,6:0.0%,8:0.0%,7:0.0%,9:0.0%]\n",
      "** num_outbound_cmds:[0:100.0%]\n",
      "** is_host_login:[0:100.0%,1:0.0%]\n",
      "** is_guest_login:[0:99.06%,1:0.94%]\n",
      "** count:512 (0%)\n",
      "** srv_count:509 (0%)\n",
      "** serror_rate:[0.0:68.93%,1.0:27.34%,0.5:0.39%,0.33:0.25%,0.07:0.24%,0.06:0.24%,0.08:0.2%,0.99:0.2%,0.01:0.17%,0.25:0.17%,0.05:0.15%,0.09:0.15%,0.1:0.14%,0.2:0.12%,0.03:0.12%,0.04:0.1%,0.17:0.09%,0.11:0.09%,0.14:0.08%,0.02:0.07%,0.97:0.06%,0.12:0.06%,0.98:0.05%,0.16:0.04%,0.96:0.03%,0.13:0.03%,0.21:0.03%,0.23:0.03%,0.18:0.03%,0.22:0.03%,0.95:0.02%,0.15:0.02%,0.94:0.02%,0.19:0.02%,0.93:0.01%,0.64:0.01%,0.75:0.01%,0.83:0.01%,0.67:0.01%,0.92:0.01%,0.79:0.01%,0.65:0.01%,0.8:0.01%,0.63:0.01%,0.78:0.01%,0.86:0.01%,0.24:0.01%,0.85:0.01%,0.66:0.01%,0.68:0.01%,0.74:0.01%,0.69:0.01%,0.91:0.01%,0.62:0.01%,0.59:0.01%,0.6:0.01%,0.29:0.01%,0.58:0.01%,0.81:0.01%,0.7:0.01%,0.73:0.0%,0.4:0.0%,0.89:0.0%,0.9:0.0%,0.72:0.0%,0.88:0.0%,0.71:0.0%,0.76:0.0%,0.77:0.0%,0.84:0.0%,0.51:0.0%,0.27:0.0%,0.61:0.0%,0.52:0.0%,0.53:0.0%,0.44:0.0%,0.56:0.0%,0.54:0.0%,0.55:0.0%,0.57:0.0%,0.28:0.0%,0.82:0.0%,0.43:0.0%,0.26:0.0%,0.37:0.0%,0.3:0.0%,0.35:0.0%,0.87:0.0%,0.36:0.0%]\n",
      "** srv_serror_rate:[0.0:70.45%,1.0:27.68%,0.5:0.34%,0.33:0.22%,0.25:0.18%,0.2:0.1%,0.17:0.09%,0.05:0.07%,0.03:0.07%,0.04:0.07%,0.07:0.05%,0.06:0.05%,0.08:0.05%,0.02:0.05%,0.14:0.05%,0.67:0.04%,0.12:0.04%,0.1:0.03%,0.09:0.03%,0.95:0.03%,0.11:0.03%,0.22:0.02%,0.29:0.02%,0.4:0.01%,0.91:0.01%,0.94:0.01%,0.75:0.01%,0.89:0.01%,0.92:0.01%,0.88:0.01%,0.8:0.01%,0.18:0.01%,0.9:0.01%,0.83:0.01%,0.93:0.01%,0.86:0.01%,0.13:0.01%,0.01:0.0%,0.15:0.0%,0.58:0.0%,0.23:0.0%,0.6:0.0%,0.27:0.0%,0.43:0.0%,0.3:0.0%,0.41:0.0%,0.35:0.0%,0.71:0.0%,0.56:0.0%,0.37:0.0%,0.39:0.0%,0.59:0.0%,0.26:0.0%,0.76:0.0%,0.32:0.0%,0.34:0.0%,0.36:0.0%,0.87:0.0%,0.53:0.0%,0.85:0.0%,0.78:0.0%,0.38:0.0%,0.45:0.0%,0.7:0.0%,0.48:0.0%,0.82:0.0%,0.72:0.0%,0.55:0.0%,0.63:0.0%,0.61:0.0%,0.51:0.0%,0.68:0.0%,0.42:0.0%,0.19:0.0%,0.96:0.0%,0.54:0.0%,0.24:0.0%,0.21:0.0%,0.73:0.0%,0.47:0.0%,0.44:0.0%,0.57:0.0%,0.74:0.0%,0.65:0.0%,0.46:0.0%,0.28:0.0%]\n",
      "** rerror_rate:[0.0:87.15%,1.0:10.22%,0.9:0.21%,0.92:0.17%,0.93:0.17%,0.89:0.16%,0.91:0.15%,0.5:0.13%,0.88:0.11%,0.95:0.11%,0.94:0.1%,0.03:0.08%,0.25:0.07%,0.87:0.07%,0.33:0.07%,0.02:0.06%,0.86:0.06%,0.96:0.06%,0.01:0.05%,0.2:0.05%,0.04:0.04%,0.82:0.04%,0.85:0.04%,0.84:0.03%,0.78:0.03%,0.67:0.03%,0.05:0.03%,0.8:0.03%,0.76:0.03%,0.75:0.03%,0.79:0.03%,0.17:0.03%,0.77:0.03%,0.97:0.03%,0.81:0.02%,0.83:0.02%,0.06:0.02%,0.08:0.02%,0.07:0.02%,0.99:0.02%,0.98:0.01%,0.14:0.01%,0.12:0.01%,0.71:0.01%,0.36:0.01%,0.1:0.01%,0.11:0.01%,0.4:0.01%,0.21:0.01%,0.09:0.01%,0.35:0.01%,0.22:0.01%,0.73:0.01%,0.37:0.01%,0.64:0.01%,0.62:0.0%,0.34:0.0%,0.31:0.0%,0.26:0.0%,0.29:0.0%,0.69:0.0%,0.32:0.0%,0.56:0.0%,0.27:0.0%,0.43:0.0%,0.3:0.0%,0.57:0.0%,0.6:0.0%,0.23:0.0%,0.28:0.0%,0.74:0.0%,0.38:0.0%,0.19:0.0%,0.72:0.0%,0.24:0.0%,0.7:0.0%,0.44:0.0%,0.65:0.0%,0.63:0.0%,0.18:0.0%,0.55:0.0%,0.58:0.0%]\n",
      "** srv_rerror_rate:[0.0:87.14%,1.0:11.77%,0.5:0.19%,0.33:0.13%,0.25:0.09%,0.2:0.07%,0.17:0.06%,0.04:0.04%,0.03:0.04%,0.14:0.04%,0.05:0.03%,0.67:0.03%,0.08:0.03%,0.02:0.03%,0.06:0.03%,0.12:0.03%,0.07:0.02%,0.1:0.02%,0.09:0.02%,0.11:0.02%,0.4:0.02%,0.29:0.01%,0.75:0.01%,0.83:0.01%,0.8:0.01%,0.85:0.01%,0.6:0.01%,0.71:0.01%,0.82:0.01%,0.79:0.01%,0.69:0.0%,0.81:0.0%,0.73:0.0%,0.62:0.0%,0.84:0.0%,0.64:0.0%,0.22:0.0%,0.43:0.0%,0.78:0.0%,0.86:0.0%,0.88:0.0%,0.57:0.0%,0.76:0.0%,0.87:0.0%,0.56:0.0%,0.01:0.0%,0.89:0.0%,0.38:0.0%,0.74:0.0%,0.77:0.0%,0.96:0.0%,0.7:0.0%,0.92:0.0%,0.72:0.0%,0.58:0.0%,0.13:0.0%,0.95:0.0%,0.9:0.0%,0.55:0.0%,0.18:0.0%,0.15:0.0%,0.3:0.0%]\n",
      "** same_srv_rate:101 (0%)\n",
      "** diff_srv_rate:[0.0:60.5%,0.06:15.08%,0.07:7.55%,0.05:5.47%,1.0:2.73%,0.08:1.49%,0.01:0.8%,0.09:0.51%,0.04:0.5%,0.5:0.44%,0.67:0.36%,0.1:0.35%,0.12:0.31%,0.11:0.3%,0.03:0.22%,0.6:0.21%,0.02:0.21%,0.29:0.18%,0.14:0.18%,0.33:0.17%,0.13:0.17%,0.15:0.15%,0.17:0.15%,0.25:0.15%,0.4:0.15%,0.52:0.12%,0.18:0.11%,0.2:0.11%,0.22:0.1%,0.19:0.08%,0.16:0.08%,0.38:0.07%,0.21:0.06%,0.75:0.06%,0.27:0.06%,0.24:0.04%,0.36:0.04%,0.53:0.04%,0.57:0.04%,0.31:0.03%,0.54:0.03%,0.23:0.03%,0.99:0.03%,0.95:0.03%,0.43:0.03%,0.42:0.03%,0.44:0.03%,0.3:0.03%,0.96:0.02%,0.55:0.02%,0.41:0.02%,0.8:0.02%,0.28:0.02%,0.37:0.02%,0.26:0.02%,0.56:0.02%,0.58:0.01%,0.39:0.01%,0.32:0.01%,0.45:0.01%,0.71:0.01%,0.64:0.01%,0.51:0.01%,0.62:0.01%,0.69:0.01%,0.46:0.01%,0.83:0.01%,0.73:0.01%,0.35:0.01%,0.82:0.01%,0.47:0.01%,0.78:0.01%,0.97:0.01%,0.98:0.0%,0.59:0.0%,0.77:0.0%,0.7:0.0%,0.61:0.0%,0.74:0.0%,0.72:0.0%,0.88:0.0%,0.86:0.0%,0.92:0.0%,0.76:0.0%,0.79:0.0%,0.9:0.0%,0.65:0.0%,0.63:0.0%,0.87:0.0%,0.85:0.0%,0.91:0.0%,0.89:0.0%,0.68:0.0%,0.81:0.0%,0.48:0.0%]\n",
      "** srv_diff_host_rate:[0.0:77.46%,1.0:6.46%,0.01:2.27%,0.5:0.78%,0.67:0.77%,0.12:0.72%,0.33:0.63%,0.02:0.61%,0.11:0.58%,0.25:0.57%,0.1:0.57%,0.14:0.53%,0.08:0.52%,0.15:0.49%,0.4:0.49%,0.09:0.49%,0.17:0.49%,0.29:0.47%,0.2:0.46%,0.18:0.46%,0.22:0.42%,0.06:0.41%,0.07:0.41%,0.13:0.37%,0.05:0.26%,0.19:0.2%,0.75:0.19%,0.27:0.18%,0.21:0.17%,0.03:0.17%,0.16:0.15%,0.04:0.15%,0.6:0.14%,0.43:0.14%,0.3:0.13%,0.38:0.13%,0.23:0.13%,0.24:0.07%,0.31:0.06%,0.36:0.06%,0.8:0.05%,0.44:0.04%,0.57:0.03%,0.28:0.02%,0.26:0.01%,0.45:0.01%,0.56:0.01%,0.42:0.01%,0.71:0.01%,0.32:0.01%,0.35:0.01%,0.83:0.01%,0.62:0.01%,0.47:0.0%,0.37:0.0%,0.46:0.0%,0.54:0.0%,0.55:0.0%,0.88:0.0%,0.41:0.0%]\n",
      "** dst_host_count:256 (0%)\n",
      "** dst_host_srv_count:256 (0%)\n",
      "** dst_host_same_srv_rate:101 (0%)\n",
      "** dst_host_diff_srv_rate:101 (0%)\n",
      "** dst_host_same_src_port_rate:101 (0%)\n",
      "** dst_host_srv_diff_host_rate:[0.0:68.99%,0.02:6.31%,0.01:5.67%,0.03:3.75%,0.04:3.59%,0.05:2.42%,0.5:1.23%,0.06:1.06%,0.07:0.82%,0.25:0.75%,1.0:0.55%,0.51:0.49%,0.08:0.39%,0.09:0.33%,0.26:0.26%,0.11:0.22%,0.15:0.2%,0.52:0.19%,0.13:0.19%,0.1:0.19%,0.12:0.19%,0.14:0.19%,0.16:0.18%,0.2:0.17%,0.17:0.17%,0.18:0.16%,0.22:0.14%,0.21:0.12%,0.19:0.11%,0.29:0.1%,0.27:0.09%,0.33:0.08%,0.4:0.08%,0.67:0.08%,0.24:0.06%,0.53:0.06%,0.23:0.05%,0.54:0.04%,0.3:0.03%,0.28:0.03%,0.56:0.03%,0.6:0.03%,0.31:0.03%,0.57:0.02%,0.55:0.02%,0.38:0.02%,0.43:0.02%,0.75:0.01%,0.32:0.01%,0.34:0.01%,0.35:0.01%,0.44:0.01%,0.37:0.01%,0.45:0.01%,0.62:0.0%,0.39:0.0%,0.47:0.0%,0.46:0.0%,0.36:0.0%,0.42:0.0%,0.41:0.0%,0.8:0.0%,0.49:0.0%,0.48:0.0%,0.58:0.0%,0.86:0.0%,0.73:0.0%,0.64:0.0%,0.97:0.0%,0.83:0.0%,0.93:0.0%,0.71:0.0%,0.88:0.0%,0.7:0.0%,0.78:0.0%]\n",
      "** dst_host_serror_rate:101 (0%)\n",
      "** dst_host_srv_serror_rate:[0.0:67.76%,1.0:27.19%,0.01:2.99%,0.02:0.51%,0.03:0.13%,0.04:0.09%,0.5:0.08%,0.05:0.06%,0.08:0.06%,0.07:0.06%,0.09:0.05%,0.97:0.04%,0.06:0.04%,0.98:0.04%,0.67:0.04%,0.11:0.04%,0.12:0.04%,0.33:0.04%,0.96:0.03%,0.1:0.03%,0.17:0.03%,0.25:0.03%,0.14:0.02%,0.2:0.02%,0.95:0.02%,0.92:0.02%,0.94:0.02%,0.75:0.02%,0.91:0.02%,0.93:0.02%,0.78:0.02%,0.88:0.02%,0.16:0.01%,0.9:0.01%,0.62:0.01%,0.79:0.01%,0.73:0.01%,0.27:0.01%,0.6:0.01%,0.18:0.01%,0.65:0.01%,0.13:0.01%,0.56:0.01%,0.22:0.01%,0.4:0.01%,0.15:0.01%,0.89:0.01%,0.85:0.01%,0.43:0.01%,0.29:0.01%,0.87:0.01%,0.48:0.01%,0.86:0.01%,0.8:0.01%,0.83:0.01%,0.69:0.01%,0.7:0.01%,0.81:0.01%,0.57:0.01%,0.34:0.01%,0.51:0.01%,0.71:0.01%,0.31:0.01%,0.3:0.01%,0.49:0.01%,0.76:0.01%,0.66:0.01%,0.36:0.01%,0.82:0.01%,0.21:0.01%,0.41:0.01%,0.38:0.01%,0.26:0.01%,0.63:0.01%,0.47:0.01%,0.39:0.01%,0.19:0.01%,0.64:0.01%,0.54:0.0%,0.84:0.0%,0.45:0.0%,0.77:0.0%,0.58:0.0%,0.74:0.0%,0.52:0.0%,0.24:0.0%,0.61:0.0%,0.68:0.0%,0.42:0.0%,0.32:0.0%,0.55:0.0%,0.28:0.0%,0.72:0.0%,0.37:0.0%,0.23:0.0%,0.35:0.0%,0.44:0.0%,0.53:0.0%,0.46:0.0%,0.59:0.0%]\n",
      "** dst_host_rerror_rate:101 (0%)\n",
      "** dst_host_srv_rerror_rate:101 (0%)\n",
      "** outcome:[normal:53.46%,neptune:32.72%,satan:2.88%,ipsweep:2.86%,portsweep:2.33%,smurf:2.1%,nmap:1.19%,back:0.76%,teardrop:0.71%,warezclient:0.71%,pod:0.16%,guess_passwd:0.04%,buffer_overflow:0.02%,warezmaster:0.02%,land:0.01%,imap:0.01%,rootkit:0.01%,loadmodule:0.01%,ftp_write:0.01%,multihop:0.01%,phf:0.0%,perl:0.0%,spy:0.0%]\n",
      "** class:[21:49.66%,18:16.41%,20:15.35%,19:8.16%,15:3.17%,17:2.44%,16:1.9%,12:0.58%,14:0.54%,11:0.51%,13:0.36%,10:0.2%,9:0.15%,7:0.09%,8:0.08%,6:0.08%,5:0.06%,4:0.06%,0:0.05%,3:0.05%,1:0.05%,2:0.04%]\n"
     ]
    }
   ],
   "source": [
    "analyze(train_data)"
   ]
  },
  {
   "cell_type": "code",
   "execution_count": 138,
   "id": "0dc3f3d9-c4a6-4981-b044-1a96f4d83aee",
   "metadata": {},
   "outputs": [
    {
     "name": "stdout",
     "output_type": "stream",
     "text": [
      "        duration protocol_type   service flag  src_bytes  dst_bytes  land  \\\n",
      "0              0           tcp  ftp_data   SF        491          0     0   \n",
      "1              0           udp     other   SF        146          0     0   \n",
      "2              0           tcp   private   S0          0          0     0   \n",
      "3              0           tcp      http   SF        232       8153     0   \n",
      "4              0           tcp      http   SF        199        420     0   \n",
      "...          ...           ...       ...  ...        ...        ...   ...   \n",
      "125968         0           tcp   private   S0          0          0     0   \n",
      "125969         8           udp   private   SF        105        145     0   \n",
      "125970         0           tcp      smtp   SF       2231        384     0   \n",
      "125971         0           tcp    klogin   S0          0          0     0   \n",
      "125972         0           tcp  ftp_data   SF        151          0     0   \n",
      "\n",
      "        wrong_fragment  urgent  hot  ...  dst_host_same_srv_rate  \\\n",
      "0                    0       0    0  ...                    0.17   \n",
      "1                    0       0    0  ...                    0.00   \n",
      "2                    0       0    0  ...                    0.10   \n",
      "3                    0       0    0  ...                    1.00   \n",
      "4                    0       0    0  ...                    1.00   \n",
      "...                ...     ...  ...  ...                     ...   \n",
      "125968               0       0    0  ...                    0.10   \n",
      "125969               0       0    0  ...                    0.96   \n",
      "125970               0       0    0  ...                    0.12   \n",
      "125971               0       0    0  ...                    0.03   \n",
      "125972               0       0    0  ...                    0.30   \n",
      "\n",
      "        dst_host_diff_srv_rate  dst_host_same_src_port_rate  \\\n",
      "0                         0.03                         0.17   \n",
      "1                         0.60                         0.88   \n",
      "2                         0.05                         0.00   \n",
      "3                         0.00                         0.03   \n",
      "4                         0.00                         0.00   \n",
      "...                        ...                          ...   \n",
      "125968                    0.06                         0.00   \n",
      "125969                    0.01                         0.01   \n",
      "125970                    0.06                         0.00   \n",
      "125971                    0.05                         0.00   \n",
      "125972                    0.03                         0.30   \n",
      "\n",
      "        dst_host_srv_diff_host_rate  dst_host_serror_rate  \\\n",
      "0                              0.00                  0.00   \n",
      "1                              0.00                  0.00   \n",
      "2                              0.00                  1.00   \n",
      "3                              0.04                  0.03   \n",
      "4                              0.00                  0.00   \n",
      "...                             ...                   ...   \n",
      "125968                         0.00                  1.00   \n",
      "125969                         0.00                  0.00   \n",
      "125970                         0.00                  0.72   \n",
      "125971                         0.00                  1.00   \n",
      "125972                         0.00                  0.00   \n",
      "\n",
      "        dst_host_srv_serror_rate  dst_host_rerror_rate  \\\n",
      "0                           0.00                  0.05   \n",
      "1                           0.00                  0.00   \n",
      "2                           1.00                  0.00   \n",
      "3                           0.01                  0.00   \n",
      "4                           0.00                  0.00   \n",
      "...                          ...                   ...   \n",
      "125968                      1.00                  0.00   \n",
      "125969                      0.00                  0.00   \n",
      "125970                      0.00                  0.01   \n",
      "125971                      1.00                  0.00   \n",
      "125972                      0.00                  0.00   \n",
      "\n",
      "        dst_host_srv_rerror_rate  outcome  class  \n",
      "0                           0.00   normal     20  \n",
      "1                           0.00   normal     15  \n",
      "2                           0.00  neptune     19  \n",
      "3                           0.01   normal     21  \n",
      "4                           0.00   normal     21  \n",
      "...                          ...      ...    ...  \n",
      "125968                      0.00  neptune     20  \n",
      "125969                      0.00   normal     21  \n",
      "125970                      0.00   normal     18  \n",
      "125971                      0.00  neptune     20  \n",
      "125972                      0.00   normal     21  \n",
      "\n",
      "[125973 rows x 43 columns]\n"
     ]
    }
   ],
   "source": [
    "print (train_data)"
   ]
  },
  {
   "cell_type": "code",
   "execution_count": 139,
   "id": "54862d7c-cff5-4ec3-b16a-d24cfc18503b",
   "metadata": {},
   "outputs": [
    {
     "name": "stdout",
     "output_type": "stream",
     "text": [
      "duration                         int64\n",
      "protocol_type                   object\n",
      "service                         object\n",
      "flag                            object\n",
      "src_bytes                        int64\n",
      "dst_bytes                        int64\n",
      "land                             int64\n",
      "wrong_fragment                   int64\n",
      "urgent                           int64\n",
      "hot                              int64\n",
      "num_failed_logins                int64\n",
      "logged_in                        int64\n",
      "num_compromised                  int64\n",
      "root_shell                       int64\n",
      "su_attempted                     int64\n",
      "num_root                         int64\n",
      "num_file_creations               int64\n",
      "num_shells                       int64\n",
      "num_access_files                 int64\n",
      "num_outbound_cmds                int64\n",
      "is_host_login                    int64\n",
      "is_guest_login                   int64\n",
      "count                            int64\n",
      "srv_count                        int64\n",
      "serror_rate                    float64\n",
      "srv_serror_rate                float64\n",
      "rerror_rate                    float64\n",
      "srv_rerror_rate                float64\n",
      "same_srv_rate                  float64\n",
      "diff_srv_rate                  float64\n",
      "srv_diff_host_rate             float64\n",
      "dst_host_count                   int64\n",
      "dst_host_srv_count               int64\n",
      "dst_host_same_srv_rate         float64\n",
      "dst_host_diff_srv_rate         float64\n",
      "dst_host_same_src_port_rate    float64\n",
      "dst_host_srv_diff_host_rate    float64\n",
      "dst_host_serror_rate           float64\n",
      "dst_host_srv_serror_rate       float64\n",
      "dst_host_rerror_rate           float64\n",
      "dst_host_srv_rerror_rate       float64\n",
      "outcome                         object\n",
      "class                            int64\n",
      "dtype: object\n"
     ]
    }
   ],
   "source": [
    "print (train_data.dtypes)"
   ]
  },
  {
   "cell_type": "code",
   "execution_count": 609,
   "id": "8f5402ec-1c4e-4b09-b7c5-735e61d46e27",
   "metadata": {},
   "outputs": [],
   "source": [
    "categorical_columns = ['protocol_type', 'service', 'flag']"
   ]
  },
  {
   "cell_type": "code",
   "execution_count": 629,
   "id": "965e0d12-6caa-4e82-8d6f-496e3232bccb",
   "metadata": {},
   "outputs": [],
   "source": [
    "encoded_columns = pd.get_dummies(nsl_kdd_data[categorical_columns], prefix=categorical_columns)"
   ]
  },
  {
   "cell_type": "code",
   "execution_count": 630,
   "id": "440df91b-a24a-4b53-8a7b-9cbe6d25cdfe",
   "metadata": {},
   "outputs": [
    {
     "name": "stdout",
     "output_type": "stream",
     "text": [
      "(125973, 84)\n"
     ]
    }
   ],
   "source": [
    "print(encoded_columns.shape)"
   ]
  },
  {
   "cell_type": "code",
   "execution_count": 631,
   "id": "86bd5ca2-46e8-4fec-b0ff-3cc8c2e5d4b4",
   "metadata": {},
   "outputs": [],
   "source": [
    "encoded_columns_binary = encoded_columns.astype(int)"
   ]
  },
  {
   "cell_type": "code",
   "execution_count": 632,
   "id": "ef0584ef-bd40-4d1b-b260-fe7f45064853",
   "metadata": {},
   "outputs": [
    {
     "name": "stdout",
     "output_type": "stream",
     "text": [
      "        protocol_type_icmp  protocol_type_tcp  protocol_type_udp  service_IRC  \\\n",
      "0                        0                  1                  0            0   \n",
      "1                        0                  0                  1            0   \n",
      "2                        0                  1                  0            0   \n",
      "3                        0                  1                  0            0   \n",
      "4                        0                  1                  0            0   \n",
      "...                    ...                ...                ...          ...   \n",
      "125968                   0                  1                  0            0   \n",
      "125969                   0                  0                  1            0   \n",
      "125970                   0                  1                  0            0   \n",
      "125971                   0                  1                  0            0   \n",
      "125972                   0                  1                  0            0   \n",
      "\n",
      "        service_X11  service_Z39_50  service_aol  service_auth  service_bgp  \\\n",
      "0                 0               0            0             0            0   \n",
      "1                 0               0            0             0            0   \n",
      "2                 0               0            0             0            0   \n",
      "3                 0               0            0             0            0   \n",
      "4                 0               0            0             0            0   \n",
      "...             ...             ...          ...           ...          ...   \n",
      "125968            0               0            0             0            0   \n",
      "125969            0               0            0             0            0   \n",
      "125970            0               0            0             0            0   \n",
      "125971            0               0            0             0            0   \n",
      "125972            0               0            0             0            0   \n",
      "\n",
      "        service_courier  ...  flag_REJ  flag_RSTO  flag_RSTOS0  flag_RSTR  \\\n",
      "0                     0  ...         0          0            0          0   \n",
      "1                     0  ...         0          0            0          0   \n",
      "2                     0  ...         0          0            0          0   \n",
      "3                     0  ...         0          0            0          0   \n",
      "4                     0  ...         0          0            0          0   \n",
      "...                 ...  ...       ...        ...          ...        ...   \n",
      "125968                0  ...         0          0            0          0   \n",
      "125969                0  ...         0          0            0          0   \n",
      "125970                0  ...         0          0            0          0   \n",
      "125971                0  ...         0          0            0          0   \n",
      "125972                0  ...         0          0            0          0   \n",
      "\n",
      "        flag_S0  flag_S1  flag_S2  flag_S3  flag_SF  flag_SH  \n",
      "0             0        0        0        0        1        0  \n",
      "1             0        0        0        0        1        0  \n",
      "2             1        0        0        0        0        0  \n",
      "3             0        0        0        0        1        0  \n",
      "4             0        0        0        0        1        0  \n",
      "...         ...      ...      ...      ...      ...      ...  \n",
      "125968        1        0        0        0        0        0  \n",
      "125969        0        0        0        0        1        0  \n",
      "125970        0        0        0        0        1        0  \n",
      "125971        1        0        0        0        0        0  \n",
      "125972        0        0        0        0        1        0  \n",
      "\n",
      "[125973 rows x 84 columns]\n"
     ]
    }
   ],
   "source": [
    "print(encoded_columns_binary)"
   ]
  },
  {
   "cell_type": "code",
   "execution_count": 633,
   "id": "5ca69ea6-8ba5-46d1-b804-78486d22968c",
   "metadata": {},
   "outputs": [],
   "source": [
    "encoded_columns_binary.to_csv(\"train_data_encoded.csv\")"
   ]
  },
  {
   "cell_type": "code",
   "execution_count": 147,
   "id": "febca7ca-f717-4630-9992-2e0e01c04879",
   "metadata": {},
   "outputs": [
    {
     "name": "stdout",
     "output_type": "stream",
     "text": [
      "   duration protocol_type   service  flag  src_bytes  dst_bytes  land  \\\n",
      "0         0           tcp   private   REJ          0          0     0   \n",
      "1         2           tcp  ftp_data    SF      12983          0     0   \n",
      "2         0          icmp     eco_i    SF         20          0     0   \n",
      "3         1           tcp    telnet  RSTO          0         15     0   \n",
      "4         0           tcp      http    SF        267      14515     0   \n",
      "\n",
      "   wrong_fragment  urgent  hot  ...  dst_host_same_srv_rate  \\\n",
      "0               0       0    0  ...                    0.00   \n",
      "1               0       0    0  ...                    0.61   \n",
      "2               0       0    0  ...                    1.00   \n",
      "3               0       0    0  ...                    0.31   \n",
      "4               0       0    0  ...                    1.00   \n",
      "\n",
      "   dst_host_diff_srv_rate  dst_host_same_src_port_rate  \\\n",
      "0                    0.06                         0.00   \n",
      "1                    0.04                         0.61   \n",
      "2                    0.00                         1.00   \n",
      "3                    0.17                         0.03   \n",
      "4                    0.00                         0.01   \n",
      "\n",
      "   dst_host_srv_diff_host_rate  dst_host_serror_rate  \\\n",
      "0                         0.00                  0.00   \n",
      "1                         0.02                  0.00   \n",
      "2                         0.28                  0.00   \n",
      "3                         0.02                  0.00   \n",
      "4                         0.03                  0.01   \n",
      "\n",
      "   dst_host_srv_serror_rate  dst_host_rerror_rate  dst_host_srv_rerror_rate  \\\n",
      "0                       0.0                  1.00                      1.00   \n",
      "1                       0.0                  0.00                      0.00   \n",
      "2                       0.0                  0.00                      0.00   \n",
      "3                       0.0                  0.83                      0.71   \n",
      "4                       0.0                  0.00                      0.00   \n",
      "\n",
      "   outcome  class  \n",
      "0  neptune     21  \n",
      "1   normal     21  \n",
      "2    saint     15  \n",
      "3    mscan     11  \n",
      "4   normal     21  \n",
      "\n",
      "[5 rows x 43 columns]\n"
     ]
    }
   ],
   "source": [
    "print(test_data.head())"
   ]
  },
  {
   "cell_type": "code",
   "execution_count": 148,
   "id": "9ebef484-8296-414b-ae68-78e2040d11e2",
   "metadata": {},
   "outputs": [],
   "source": [
    "categorical_columns = ['protocol_type', 'service', 'flag',]"
   ]
  },
  {
   "cell_type": "code",
   "execution_count": 149,
   "id": "1dcdae5b-d7dc-4b26-90fc-fe425d63a162",
   "metadata": {},
   "outputs": [],
   "source": [
    "encoded_columns = pd.get_dummies(test_data[categorical_columns], prefix=categorical_columns)"
   ]
  },
  {
   "cell_type": "code",
   "execution_count": 150,
   "id": "d62179d3-ed96-42bb-b5c2-897d8c3748a7",
   "metadata": {},
   "outputs": [
    {
     "name": "stdout",
     "output_type": "stream",
     "text": [
      "   protocol_type_icmp  protocol_type_tcp  protocol_type_udp  service_IRC  \\\n",
      "0               False               True              False        False   \n",
      "1               False               True              False        False   \n",
      "2                True              False              False        False   \n",
      "3               False               True              False        False   \n",
      "4               False               True              False        False   \n",
      "\n",
      "   service_X11  service_Z39_50  service_auth  service_bgp  service_courier  \\\n",
      "0        False           False         False        False            False   \n",
      "1        False           False         False        False            False   \n",
      "2        False           False         False        False            False   \n",
      "3        False           False         False        False            False   \n",
      "4        False           False         False        False            False   \n",
      "\n",
      "   service_csnet_ns  ...  outcome_snmpgetattack  outcome_snmpguess  \\\n",
      "0             False  ...                  False              False   \n",
      "1             False  ...                  False              False   \n",
      "2             False  ...                  False              False   \n",
      "3             False  ...                  False              False   \n",
      "4             False  ...                  False              False   \n",
      "\n",
      "   outcome_sqlattack  outcome_teardrop  outcome_udpstorm  outcome_warezmaster  \\\n",
      "0              False             False             False                False   \n",
      "1              False             False             False                False   \n",
      "2              False             False             False                False   \n",
      "3              False             False             False                False   \n",
      "4              False             False             False                False   \n",
      "\n",
      "   outcome_worm  outcome_xlock  outcome_xsnoop  outcome_xterm  \n",
      "0         False          False           False          False  \n",
      "1         False          False           False          False  \n",
      "2         False          False           False          False  \n",
      "3         False          False           False          False  \n",
      "4         False          False           False          False  \n",
      "\n",
      "[5 rows x 116 columns]\n"
     ]
    }
   ],
   "source": [
    "print(encoded_columns.head())"
   ]
  },
  {
   "cell_type": "code",
   "execution_count": 151,
   "id": "fe860854-450e-4d84-bfe1-ed5c3153e64e",
   "metadata": {},
   "outputs": [],
   "source": [
    "encoded_columns_binary = encoded_columns.astype(int)"
   ]
  },
  {
   "cell_type": "code",
   "execution_count": 152,
   "id": "e052dacd-2d36-472b-ac99-61f54956c5b5",
   "metadata": {},
   "outputs": [
    {
     "name": "stdout",
     "output_type": "stream",
     "text": [
      "   protocol_type_icmp  protocol_type_tcp  protocol_type_udp  service_IRC  \\\n",
      "0                   0                  1                  0            0   \n",
      "1                   0                  1                  0            0   \n",
      "2                   1                  0                  0            0   \n",
      "3                   0                  1                  0            0   \n",
      "4                   0                  1                  0            0   \n",
      "\n",
      "   service_X11  service_Z39_50  service_auth  service_bgp  service_courier  \\\n",
      "0            0               0             0            0                0   \n",
      "1            0               0             0            0                0   \n",
      "2            0               0             0            0                0   \n",
      "3            0               0             0            0                0   \n",
      "4            0               0             0            0                0   \n",
      "\n",
      "   service_csnet_ns  ...  outcome_snmpgetattack  outcome_snmpguess  \\\n",
      "0                 0  ...                      0                  0   \n",
      "1                 0  ...                      0                  0   \n",
      "2                 0  ...                      0                  0   \n",
      "3                 0  ...                      0                  0   \n",
      "4                 0  ...                      0                  0   \n",
      "\n",
      "   outcome_sqlattack  outcome_teardrop  outcome_udpstorm  outcome_warezmaster  \\\n",
      "0                  0                 0                 0                    0   \n",
      "1                  0                 0                 0                    0   \n",
      "2                  0                 0                 0                    0   \n",
      "3                  0                 0                 0                    0   \n",
      "4                  0                 0                 0                    0   \n",
      "\n",
      "   outcome_worm  outcome_xlock  outcome_xsnoop  outcome_xterm  \n",
      "0             0              0               0              0  \n",
      "1             0              0               0              0  \n",
      "2             0              0               0              0  \n",
      "3             0              0               0              0  \n",
      "4             0              0               0              0  \n",
      "\n",
      "[5 rows x 116 columns]\n"
     ]
    }
   ],
   "source": [
    "print(encoded_columns_binary.head())"
   ]
  },
  {
   "cell_type": "code",
   "execution_count": 153,
   "id": "2f167979-2c3b-44a5-aa9b-75d098afd528",
   "metadata": {},
   "outputs": [],
   "source": [
    "encoded_columns_binary.to_csv(\"KDDTest_encoded.csv\")"
   ]
  },
  {
   "cell_type": "code",
   "execution_count": 155,
   "id": "28de3a54-aa1b-4b07-adfc-daa5982d34b8",
   "metadata": {},
   "outputs": [],
   "source": [
    "train_data = pd.read_csv(\"KDDTrain_encoded.csv\")"
   ]
  },
  {
   "cell_type": "code",
   "execution_count": 156,
   "id": "fdc35776-898c-4062-9a03-3e1e13058856",
   "metadata": {},
   "outputs": [],
   "source": [
    "test_data = pd.read_csv(\"KDDTest_encoded.csv\")"
   ]
  },
  {
   "cell_type": "code",
   "execution_count": 157,
   "id": "7f9536eb-ed8e-47be-be3f-109dc2ece7d7",
   "metadata": {},
   "outputs": [
    {
     "name": "stdout",
     "output_type": "stream",
     "text": [
      "        Unnamed: 0  protocol_type_icmp  protocol_type_tcp  protocol_type_udp  \\\n",
      "0                0                   0                  1                  0   \n",
      "1                1                   0                  0                  1   \n",
      "2                2                   0                  1                  0   \n",
      "3                3                   0                  1                  0   \n",
      "4                4                   0                  1                  0   \n",
      "...            ...                 ...                ...                ...   \n",
      "125968      125968                   0                  1                  0   \n",
      "125969      125969                   0                  0                  1   \n",
      "125970      125970                   0                  1                  0   \n",
      "125971      125971                   0                  1                  0   \n",
      "125972      125972                   0                  1                  0   \n",
      "\n",
      "        service_IRC  service_X11  service_Z39_50  service_aol  service_auth  \\\n",
      "0                 0            0               0            0             0   \n",
      "1                 0            0               0            0             0   \n",
      "2                 0            0               0            0             0   \n",
      "3                 0            0               0            0             0   \n",
      "4                 0            0               0            0             0   \n",
      "...             ...          ...             ...          ...           ...   \n",
      "125968            0            0               0            0             0   \n",
      "125969            0            0               0            0             0   \n",
      "125970            0            0               0            0             0   \n",
      "125971            0            0               0            0             0   \n",
      "125972            0            0               0            0             0   \n",
      "\n",
      "        service_bgp  ...  outcome_phf  outcome_pod  outcome_portsweep  \\\n",
      "0                 0  ...            0            0                  0   \n",
      "1                 0  ...            0            0                  0   \n",
      "2                 0  ...            0            0                  0   \n",
      "3                 0  ...            0            0                  0   \n",
      "4                 0  ...            0            0                  0   \n",
      "...             ...  ...          ...          ...                ...   \n",
      "125968            0  ...            0            0                  0   \n",
      "125969            0  ...            0            0                  0   \n",
      "125970            0  ...            0            0                  0   \n",
      "125971            0  ...            0            0                  0   \n",
      "125972            0  ...            0            0                  0   \n",
      "\n",
      "        outcome_rootkit  outcome_satan  outcome_smurf  outcome_spy  \\\n",
      "0                     0              0              0            0   \n",
      "1                     0              0              0            0   \n",
      "2                     0              0              0            0   \n",
      "3                     0              0              0            0   \n",
      "4                     0              0              0            0   \n",
      "...                 ...            ...            ...          ...   \n",
      "125968                0              0              0            0   \n",
      "125969                0              0              0            0   \n",
      "125970                0              0              0            0   \n",
      "125971                0              0              0            0   \n",
      "125972                0              0              0            0   \n",
      "\n",
      "        outcome_teardrop  outcome_warezclient  outcome_warezmaster  \n",
      "0                      0                    0                    0  \n",
      "1                      0                    0                    0  \n",
      "2                      0                    0                    0  \n",
      "3                      0                    0                    0  \n",
      "4                      0                    0                    0  \n",
      "...                  ...                  ...                  ...  \n",
      "125968                 0                    0                    0  \n",
      "125969                 0                    0                    0  \n",
      "125970                 0                    0                    0  \n",
      "125971                 0                    0                    0  \n",
      "125972                 0                    0                    0  \n",
      "\n",
      "[125973 rows x 108 columns]\n"
     ]
    }
   ],
   "source": [
    "print(train_data)"
   ]
  },
  {
   "cell_type": "code",
   "execution_count": 303,
   "id": "1689e0d2-5eeb-4710-88f7-7c72b04ae2b6",
   "metadata": {},
   "outputs": [],
   "source": [
    "normal_train_data = pd.DataFrame(train_data_scaled).add_prefix('c').query('c96 == 1').values[:,0:]\n",
    "anomaly_train_data = pd.DataFrame(train_data_scaled).add_prefix('c').query('c96 == 0').values[:,0:]"
   ]
  },
  {
   "cell_type": "code",
   "execution_count": 305,
   "id": "76a2aae7-2048-47f6-a191-65d1b2113d1d",
   "metadata": {},
   "outputs": [],
   "source": [
    "normal_test_data = pd.DataFrame(test_data_scaled).add_prefix('c').query(\"c95 == 1\").values[:,0:]\n",
    "anomaly_test_data = pd.DataFrame(test_data_scaled).add_prefix('c').query(\"c95 > 0\").values[:,0:]"
   ]
  },
  {
   "cell_type": "code",
   "execution_count": 306,
   "id": "443a6635-f098-4ee1-ab7c-30966f752566",
   "metadata": {},
   "outputs": [
    {
     "name": "stdout",
     "output_type": "stream",
     "text": [
      "(67343, 108)\n",
      "(9711, 117)\n"
     ]
    }
   ],
   "source": [
    "print(normal_train_data.shape)\n",
    "print(normal_test_data.shape)"
   ]
  },
  {
   "cell_type": "code",
   "execution_count": 307,
   "id": "93e18a24-af4f-4145-961d-96b3efb42ee7",
   "metadata": {},
   "outputs": [
    {
     "name": "stdout",
     "output_type": "stream",
     "text": [
      "(58630, 108)\n",
      "(9711, 117)\n"
     ]
    }
   ],
   "source": [
    "print(anomaly_train_data.shape)\n",
    "print(anomaly_test_data.shape)"
   ]
  },
  {
   "cell_type": "code",
   "execution_count": 309,
   "id": "716fd382-aba1-45d0-bfe9-9f0b79c1a9a2",
   "metadata": {},
   "outputs": [
    {
     "data": {
      "text/plain": [
       "[<matplotlib.lines.Line2D at 0x1a893f030b0>]"
      ]
     },
     "execution_count": 309,
     "metadata": {},
     "output_type": "execute_result"
    },
    {
     "data": {
      "image/png": "[encoded data removed]",
      "text/plain": [
       "<Figure size 640x480 with 1 Axes>"
      ]
     },
     "metadata": {},
     "output_type": "display_data"
    }
   ],
   "source": [
    "plt.plot(normal_train_data[0])\n",
    "plt.plot(normal_train_data[1])\n",
    "plt.plot(normal_train_data[2])"
   ]
  },
  {
   "cell_type": "code",
   "execution_count": 219,
   "id": "e3866293-ed8b-4f0c-bfa2-5d58c8a533c7",
   "metadata": {},
   "outputs": [
    {
     "name": "stdout",
     "output_type": "stream",
     "text": [
      "[[0 1 0 ... 0 0 0]\n",
      " [0 0 1 ... 0 0 0]\n",
      " [0 1 0 ... 0 0 0]\n",
      " ...\n",
      " [0 0 1 ... 0 0 0]\n",
      " [0 1 0 ... 0 0 0]\n",
      " [0 1 0 ... 0 0 0]]\n"
     ]
    }
   ],
   "source": [
    "print (normal_train_data)"
   ]
  },
  {
   "cell_type": "code",
   "execution_count": 220,
   "id": "624baad5-f4af-46f9-a23b-159dbe7648c2",
   "metadata": {},
   "outputs": [
    {
     "name": "stdout",
     "output_type": "stream",
     "text": [
      "[[0 1 0 ... 0 0 0]\n",
      " [0 1 0 ... 0 0 0]\n",
      " [0 1 0 ... 0 0 0]\n",
      " ...\n",
      " [0 1 0 ... 0 0 0]\n",
      " [0 1 0 ... 0 0 0]\n",
      " [0 1 0 ... 0 0 0]]\n"
     ]
    }
   ],
   "source": [
    "print (anomaly_train_data)"
   ]
  },
  {
   "cell_type": "raw",
   "id": "30a2ffa9-b78a-419f-8e2a-3d001af51576",
   "metadata": {},
   "source": []
  },
  {
   "cell_type": "code",
   "execution_count": 184,
   "id": "7426b0fd-b9f8-44b3-977c-c38a503840f0",
   "metadata": {},
   "outputs": [
    {
     "name": "stdout",
     "output_type": "stream",
     "text": [
      "[[0 1 0 ... 0 0 0]\n",
      " [0 0 1 ... 0 0 0]\n",
      " [0 1 0 ... 0 0 0]\n",
      " ...\n",
      " [0 0 1 ... 0 0 0]\n",
      " [0 1 0 ... 0 0 0]\n",
      " [0 1 0 ... 0 0 0]]\n"
     ]
    }
   ],
   "source": [
    "print (normal_train_data)"
   ]
  },
  {
   "cell_type": "code",
   "execution_count": 541,
   "id": "360bb29c-0ff4-4405-a917-8112729ece53",
   "metadata": {},
   "outputs": [],
   "source": [
    "test_data_encoded = pd.read_csv(\"KDDTest_encoded.csv\")"
   ]
  },
  {
   "cell_type": "code",
   "execution_count": 12,
   "id": "e3e8b31d-309d-407e-b02a-91c954b35602",
   "metadata": {},
   "outputs": [],
   "source": [
    "normal_train_data = pd.DataFrame(train_data).query(\"outcome_normal == 1\").values[:,1:]\n",
    "anomaly_train_data = pd.DataFrame(train_data).query(\"outcome_normal == 0\").values[:,1:]"
   ]
  },
  {
   "cell_type": "code",
   "execution_count": 288,
   "id": "73011ade-2bd8-429c-803f-7e0017396816",
   "metadata": {},
   "outputs": [],
   "source": [
    "train_data = pd.read_csv(\"KDDTrain_encoded.csv\")"
   ]
  },
  {
   "cell_type": "code",
   "execution_count": 542,
   "id": "6142aa61-90e2-48a3-ae8a-77ce48cbce02",
   "metadata": {},
   "outputs": [],
   "source": [
    "normal_test_data = pd.DataFrame(test_data_encoded).query(\"outcome_normal == 1\").values[:,0:]\n",
    "anomaly_test_data = pd.DataFrame(test_data_encoded).query(\"outcome_normal == 0\").values[:,0:]"
   ]
  },
  {
   "cell_type": "code",
   "execution_count": 51,
   "id": "b224df2d-37c4-492c-b17b-7a8644c08dd3",
   "metadata": {},
   "outputs": [],
   "source": [
    "from sklearn.preprocessing import MinMaxScaler"
   ]
  },
  {
   "cell_type": "code",
   "execution_count": 52,
   "id": "2c0f8964-af4c-4bc5-90c3-ad429a04c264",
   "metadata": {},
   "outputs": [],
   "source": [
    "scaler = MinMaxScaler()"
   ]
  },
  {
   "cell_type": "code",
   "execution_count": 290,
   "id": "4fe32708-f820-456f-bcfa-06a2771954bd",
   "metadata": {},
   "outputs": [],
   "source": [
    "train_data_scaled = scaler.fit_transform(train_data)"
   ]
  },
  {
   "cell_type": "code",
   "execution_count": 289,
   "id": "5f7b2301-e16b-4633-8e1e-f60b1b57f69b",
   "metadata": {},
   "outputs": [],
   "source": [
    "test_data_scaled = scaler.fit_transform(test_data_encoded)"
   ]
  },
  {
   "cell_type": "code",
   "execution_count": 64,
   "id": "d4f6a135-3084-44e3-9276-2bae36811803",
   "metadata": {},
   "outputs": [],
   "source": [
    "import matplotlib.pyplot as plt"
   ]
  },
  {
   "cell_type": "code",
   "execution_count": 81,
   "id": "47ef9281-ffc2-4c40-a235-8e1aad645c2c",
   "metadata": {},
   "outputs": [
    {
     "name": "stdout",
     "output_type": "stream",
     "text": [
      "[[1. 0. 0. ... 0. 0. 0.]\n",
      " [0. 1. 0. ... 0. 0. 0.]\n",
      " [0. 1. 0. ... 0. 0. 0.]\n",
      " ...\n",
      " [0. 0. 1. ... 0. 0. 0.]\n",
      " [1. 0. 0. ... 0. 0. 0.]\n",
      " [1. 0. 0. ... 0. 0. 0.]]\n"
     ]
    }
   ],
   "source": [
    "print(normal_train_data)"
   ]
  },
  {
   "cell_type": "code",
   "execution_count": 335,
   "id": "c8a2a17a-33c0-4e01-ab80-a6a45bce5825",
   "metadata": {},
   "outputs": [],
   "source": [
    "autoencoder.compile(optimizer='adam', loss='mse')"
   ]
  },
  {
   "cell_type": "code",
   "execution_count": 337,
   "id": "492285ec-1c72-450d-a461-27382818bf26",
   "metadata": {},
   "outputs": [
    {
     "name": "stdout",
     "output_type": "stream",
     "text": [
      "Epoch 1/20\n",
      "\u001b[1m132/132\u001b[0m \u001b[32m━━━━━━━━━━━━━━━━━━━━\u001b[0m\u001b[37m\u001b[0m \u001b[1m3s\u001b[0m 18ms/step - loss: 0.0034 - val_loss: 0.0224\n",
      "Epoch 2/20\n",
      "\u001b[1m132/132\u001b[0m \u001b[32m━━━━━━━━━━━━━━━━━━━━\u001b[0m\u001b[37m\u001b[0m \u001b[1m2s\u001b[0m 11ms/step - loss: 0.0027 - val_loss: 0.0227\n",
      "Epoch 3/20\n",
      "\u001b[1m132/132\u001b[0m \u001b[32m━━━━━━━━━━━━━━━━━━━━\u001b[0m\u001b[37m\u001b[0m \u001b[1m2s\u001b[0m 11ms/step - loss: 0.0027 - val_loss: 0.0226\n",
      "Epoch 4/20\n",
      "\u001b[1m132/132\u001b[0m \u001b[32m━━━━━━━━━━━━━━━━━━━━\u001b[0m\u001b[37m\u001b[0m \u001b[1m1s\u001b[0m 11ms/step - loss: 0.0027 - val_loss: 0.0223\n",
      "Epoch 5/20\n",
      "\u001b[1m132/132\u001b[0m \u001b[32m━━━━━━━━━━━━━━━━━━━━\u001b[0m\u001b[37m\u001b[0m \u001b[1m1s\u001b[0m 10ms/step - loss: 0.0026 - val_loss: 0.0225\n",
      "Epoch 6/20\n",
      "\u001b[1m132/132\u001b[0m \u001b[32m━━━━━━━━━━━━━━━━━━━━\u001b[0m\u001b[37m\u001b[0m \u001b[1m1s\u001b[0m 11ms/step - loss: 0.0026 - val_loss: 0.0224\n",
      "Epoch 7/20\n",
      "\u001b[1m132/132\u001b[0m \u001b[32m━━━━━━━━━━━━━━━━━━━━\u001b[0m\u001b[37m\u001b[0m \u001b[1m3s\u001b[0m 11ms/step - loss: 0.0026 - val_loss: 0.0221\n",
      "Epoch 8/20\n",
      "\u001b[1m132/132\u001b[0m \u001b[32m━━━━━━━━━━━━━━━━━━━━\u001b[0m\u001b[37m\u001b[0m \u001b[1m2s\u001b[0m 12ms/step - loss: 0.0027 - val_loss: 0.0221\n",
      "Epoch 9/20\n",
      "\u001b[1m132/132\u001b[0m \u001b[32m━━━━━━━━━━━━━━━━━━━━\u001b[0m\u001b[37m\u001b[0m \u001b[1m2s\u001b[0m 11ms/step - loss: 0.0026 - val_loss: 0.0220\n",
      "Epoch 10/20\n",
      "\u001b[1m132/132\u001b[0m \u001b[32m━━━━━━━━━━━━━━━━━━━━\u001b[0m\u001b[37m\u001b[0m \u001b[1m2s\u001b[0m 13ms/step - loss: 0.0026 - val_loss: 0.0222\n",
      "Epoch 11/20\n",
      "\u001b[1m132/132\u001b[0m \u001b[32m━━━━━━━━━━━━━━━━━━━━\u001b[0m\u001b[37m\u001b[0m \u001b[1m2s\u001b[0m 12ms/step - loss: 0.0026 - val_loss: 0.0220\n",
      "Epoch 12/20\n",
      "\u001b[1m132/132\u001b[0m \u001b[32m━━━━━━━━━━━━━━━━━━━━\u001b[0m\u001b[37m\u001b[0m \u001b[1m3s\u001b[0m 12ms/step - loss: 0.0026 - val_loss: 0.0220\n",
      "Epoch 13/20\n",
      "\u001b[1m132/132\u001b[0m \u001b[32m━━━━━━━━━━━━━━━━━━━━\u001b[0m\u001b[37m\u001b[0m \u001b[1m1s\u001b[0m 11ms/step - loss: 0.0027 - val_loss: 0.0220\n",
      "Epoch 14/20\n",
      "\u001b[1m132/132\u001b[0m \u001b[32m━━━━━━━━━━━━━━━━━━━━\u001b[0m\u001b[37m\u001b[0m \u001b[1m3s\u001b[0m 11ms/step - loss: 0.0027 - val_loss: 0.0222\n",
      "Epoch 15/20\n",
      "\u001b[1m132/132\u001b[0m \u001b[32m━━━━━━━━━━━━━━━━━━━━\u001b[0m\u001b[37m\u001b[0m \u001b[1m3s\u001b[0m 10ms/step - loss: 0.0026 - val_loss: 0.0221\n",
      "Epoch 16/20\n",
      "\u001b[1m132/132\u001b[0m \u001b[32m━━━━━━━━━━━━━━━━━━━━\u001b[0m\u001b[37m\u001b[0m \u001b[1m3s\u001b[0m 11ms/step - loss: 0.0027 - val_loss: 0.0221\n",
      "Epoch 17/20\n",
      "\u001b[1m132/132\u001b[0m \u001b[32m━━━━━━━━━━━━━━━━━━━━\u001b[0m\u001b[37m\u001b[0m \u001b[1m1s\u001b[0m 10ms/step - loss: 0.0027 - val_loss: 0.0221\n",
      "Epoch 18/20\n",
      "\u001b[1m132/132\u001b[0m \u001b[32m━━━━━━━━━━━━━━━━━━━━\u001b[0m\u001b[37m\u001b[0m \u001b[1m3s\u001b[0m 12ms/step - loss: 0.0026 - val_loss: 0.0221\n",
      "Epoch 19/20\n",
      "\u001b[1m132/132\u001b[0m \u001b[32m━━━━━━━━━━━━━━━━━━━━\u001b[0m\u001b[37m\u001b[0m \u001b[1m2s\u001b[0m 11ms/step - loss: 0.0026 - val_loss: 0.0222\n",
      "Epoch 20/20\n",
      "\u001b[1m132/132\u001b[0m \u001b[32m━━━━━━━━━━━━━━━━━━━━\u001b[0m\u001b[37m\u001b[0m \u001b[1m2s\u001b[0m 10ms/step - loss: 0.0026 - val_loss: 0.0220\n"
     ]
    }
   ],
   "source": [
    "# Training Model\n",
    "history = autoencoder.fit(normal_train_data, normal_train_data,\n",
    "                          epochs= 20,\n",
    "                          batch_size=512,\n",
    "                          validation_data = (train_data_scaled, train_data_scaled),\n",
    "                          shuffle=True)"
   ]
  },
  {
   "cell_type": "code",
   "execution_count": 324,
   "id": "17492b5f-e0ba-4024-82e0-d82a0f345253",
   "metadata": {},
   "outputs": [
    {
     "name": "stdout",
     "output_type": "stream",
     "text": [
      "(67343, 108)\n"
     ]
    }
   ],
   "source": [
    "print(normal_train_data.shape)"
   ]
  },
  {
   "cell_type": "code",
   "execution_count": 545,
   "id": "2d822d2f-6fcd-4212-97ea-a3105d4e94ee",
   "metadata": {},
   "outputs": [
    {
     "name": "stdout",
     "output_type": "stream",
     "text": [
      "(9711, 108)\n"
     ]
    }
   ],
   "source": [
    "print(normal_test_data.shape)"
   ]
  },
  {
   "cell_type": "code",
   "execution_count": 544,
   "id": "577e72ff-13d2-4296-a196-9c9f3fd8fb9c",
   "metadata": {},
   "outputs": [
    {
     "name": "stdout",
     "output_type": "stream",
     "text": [
      "(22543, 117)\n"
     ]
    }
   ],
   "source": [
    "print(test_data_scaled.shape)"
   ]
  },
  {
   "cell_type": "code",
   "execution_count": 125,
   "id": "7af51aa9-37f5-43f4-92f9-648237933794",
   "metadata": {},
   "outputs": [],
   "source": [
    "train_data_encoded = pd.read_csv(\"KDDTrain_encoded.csv\")"
   ]
  },
  {
   "cell_type": "code",
   "execution_count": 126,
   "id": "6bc957bb-3edc-4e5f-af96-780bf6b0cc50",
   "metadata": {},
   "outputs": [
    {
     "name": "stdout",
     "output_type": "stream",
     "text": [
      "(125973, 108)\n"
     ]
    }
   ],
   "source": [
    "print (train_data_encoded.shape)"
   ]
  },
  {
   "cell_type": "code",
   "execution_count": 340,
   "id": "a019276c-3b09-4a1f-b39d-a2d93a1cc2cf",
   "metadata": {},
   "outputs": [
    {
     "data": {
      "text/plain": [
       "(73, 8)"
      ]
     },
     "execution_count": 340,
     "metadata": {},
     "output_type": "execute_result"
    }
   ],
   "source": [
    "encoder_out.shape"
   ]
  },
  {
   "cell_type": "code",
   "execution_count": 341,
   "id": "cd37433f-0f99-4c8e-b6d2-e6035da08011",
   "metadata": {},
   "outputs": [
    {
     "data": {
      "text/plain": [
       "(73, 108)"
      ]
     },
     "execution_count": 341,
     "metadata": {},
     "output_type": "execute_result"
    }
   ],
   "source": [
    "decoder_out.shape"
   ]
  },
  {
   "cell_type": "code",
   "execution_count": 345,
   "id": "9df94fc5-e31c-4684-b30c-2f3c8dffed6d",
   "metadata": {},
   "outputs": [],
   "source": [
    "train_data = pd.read_csv(\"KDDTrain+.txt\")"
   ]
  },
  {
   "cell_type": "code",
   "execution_count": 346,
   "id": "0d978509-6da2-420a-b52b-8f61c885790f",
   "metadata": {},
   "outputs": [],
   "source": [
    "test_data = pd.read_csv(\"KDDTest+.txt\")"
   ]
  },
  {
   "cell_type": "code",
   "execution_count": 357,
   "id": "ccd67c92-0f9d-4a08-b1e6-98148be1e1af",
   "metadata": {},
   "outputs": [],
   "source": [
    "#Load KDD Train data\n",
    "with open ('KDDTrain+.txt', 'r') as train_data:\n",
    "    train_data_content = train_data.read()"
   ]
  },
  {
   "cell_type": "code",
   "execution_count": 358,
   "id": "8d66d9bd-d391-4c62-a29f-bae1ab81e62f",
   "metadata": {},
   "outputs": [],
   "source": [
    "#Load KDD Test data\n",
    "with open ('KDDTest+.txt', 'r') as test_data:\n",
    "    test_data_content = test_data.read()"
   ]
  },
  {
   "cell_type": "code",
   "execution_count": 359,
   "id": "d4dea42f-bf30-4447-98a9-4cc56b2ee2ab",
   "metadata": {},
   "outputs": [],
   "source": [
    "joined_content =train_data_content + '\\n' + test_data_content"
   ]
  },
  {
   "cell_type": "code",
   "execution_count": 591,
   "id": "3f10f256-3615-4850-8050-9715731473b7",
   "metadata": {},
   "outputs": [],
   "source": [
    "train_data = pd.read_csv(\"train_data_headers.csv\")"
   ]
  },
  {
   "cell_type": "code",
   "execution_count": 579,
   "id": "0b56987c-da58-4a62-9908-e728a27e74b8",
   "metadata": {},
   "outputs": [],
   "source": [
    "test_data = pd.read_csv(\"test_data_headers.csv\")"
   ]
  },
  {
   "cell_type": "code",
   "execution_count": 858,
   "id": "03e20c73-2052-412b-830d-3e8631d083c3",
   "metadata": {},
   "outputs": [],
   "source": [
    "# Feature selection to remove data not present in one another\n",
    "\n",
    "import pandas as pd\n",
    "\n",
    "common_columns = set(train_encoded_data.columns) & set(test_data_filtered.columns)\n",
    "\n",
    "\n",
    "columns_to_drop = [col for col in train_encoded_data.columns if col not in common_columns]\n",
    "train_encoded_data = train_encoded_data.drop(columns=columns_to_drop)\n",
    "\n",
    "columns_to_drop = [col for col in test_data_filtered.columns if col not in common_columns]\n",
    "test_data_filtered = test_data_filtered.drop(columns=columns_to_drop)\n"
   ]
  },
  {
   "cell_type": "code",
   "execution_count": 862,
   "id": "c9c17e6f-03e3-4476-b64e-080bca534702",
   "metadata": {},
   "outputs": [],
   "source": [
    "scaler = MinMaxScaler()\n",
    "train_data_scaled = scaler.fit_transform(train_encoded_data)\n",
    "test_data_scaled = scaler.transform(test_data_filtered)"
   ]
  },
  {
   "cell_type": "code",
   "execution_count": 853,
   "id": "6df34fa6-7218-4555-ad27-d14cafd8bd5b",
   "metadata": {},
   "outputs": [],
   "source": [
    "test_data_encoded = test_data_filtered "
   ]
  },
  {
   "cell_type": "code",
   "execution_count": 388,
   "id": "551ed8fd-bf49-4e91-877f-6703dc1e95da",
   "metadata": {},
   "outputs": [],
   "source": [
    "scaler = MinMaxScaler()\n",
    "train_data"
   ]
  },
  {
   "cell_type": "code",
   "execution_count": 389,
   "id": "4e3c08e5-49c9-4463-b97f-5352dac17f20",
   "metadata": {},
   "outputs": [],
   "source": [
    "data_scaled2 = scaler.fit(test_data)\n",
    "test_data_scaled = data_scaled2.transform(test_data)"
   ]
  },
  {
   "cell_type": "code",
   "execution_count": 594,
   "id": "f74ab1d3-6293-4282-8ee2-b55a9a6e495a",
   "metadata": {},
   "outputs": [],
   "source": [
    "# Convert normal and attack features to binary\n",
    "import pandas as pd\n",
    "\n",
    "# Load the dataset\n",
    "df = pd.read_csv('test_data_headers.csv') \n",
    "\n",
    "# Define the word to identify\n",
    "specific_word = 'normal'\n",
    "\n",
    "# Define a function to set cells containing the specific word to 0 and others to 1\n",
    "def convert_to_binary(cell_value):\n",
    "    if specific_word.lower() in str(cell_value).lower():\n",
    "        return 0\n",
    "    else:\n",
    "        return 1\n",
    "\n",
    "# Apply the function to the column\n",
    "df['outcome'] = df['outcome'].apply(convert_to_binary)\n",
    "\n",
    "# Optionally, save the modified dataset\n",
    "df.to_csv('test_data_binary.csv', index=False)  \n"
   ]
  },
  {
   "cell_type": "code",
   "execution_count": 863,
   "id": "ced6b08b-53e7-46c7-a82f-ff88f57b6d1f",
   "metadata": {},
   "outputs": [
    {
     "name": "stdout",
     "output_type": "stream",
     "text": [
      "Position of 'column_name': 38\n"
     ]
    }
   ],
   "source": [
    "# verify column position for query\n",
    "\n",
    "column_index = train_encoded_data.columns.get_loc('outcome')\n",
    "\n",
    "print(\"Position of 'column_name':\", column_index)\n"
   ]
  },
  {
   "cell_type": "code",
   "execution_count": 852,
   "id": "3e6ce894-6af0-415b-bdaa-f7beff268d4b",
   "metadata": {},
   "outputs": [],
   "source": [
    "common_columns = train_encoded_data.columns.intersection(test_encoded_data.columns)\n",
    "test_data_filtered = test_encoded_data[common_columns]"
   ]
  },
  {
   "cell_type": "code",
   "execution_count": 848,
   "id": "669cb9e9-ecb8-4a96-a86a-8f768130b281",
   "metadata": {},
   "outputs": [],
   "source": [
    "# One hot encoding\n",
    "\n",
    "data = pd.read_csv(\"test_data_binary.csv\")\n",
    "\n",
    "# Select the columns containing categorical values to be one-hot encoded\n",
    "categorical_cols = ['protocol_type', 'service', 'flag']  \n",
    "\n",
    "# Perform one-hot encoding\n",
    "test_encoded_data = pd.get_dummies(data, columns=categorical_cols)\n",
    "\n",
    "# Concatenate the one-hot encoded columns to original dataset\n",
    "#concatenated_data = pd.concat([data, one_hot_encoded_data], axis=1)\n",
    "\n",
    "# Optionally, save the one-hot encoded data to a new file\n",
    "#one_hot_encoded_data.to_csv(\"test_data_encoded.csv\", index=False)\n",
    "\n",
    "# Convert encoded boolean to binary\n",
    "#converted_to_binary = one_hot_encoded_data.astype(int)"
   ]
  },
  {
   "cell_type": "code",
   "execution_count": 866,
   "id": "0816d1a0-30e8-4d13-bfd4-609211aaa7fa",
   "metadata": {},
   "outputs": [],
   "source": [
    "normal_test_data = pd.DataFrame(test_data_scaled).add_prefix('c').query('c38 == 0').values[:,1:]\n",
    "anomaly_test_data = pd.DataFrame(test_data_scaled).add_prefix('c').query('c38 > 0').values[:,1:]"
   ]
  },
  {
   "cell_type": "code",
   "execution_count": 867,
   "id": "222154d1-aca4-49ac-b87e-daa8d2f8bbda",
   "metadata": {},
   "outputs": [
    {
     "name": "stdout",
     "output_type": "stream",
     "text": [
      "(67343, 117)\n",
      "(12832, 117)\n"
     ]
    }
   ],
   "source": [
    "print(normal_train_data.shape)\n",
    "print(anomaly_test_data.shape)\n"
   ]
  },
  {
   "cell_type": "code",
   "execution_count": 870,
   "id": "2f04cff1-8d88-4e5f-a5b2-d7e014dda13b",
   "metadata": {},
   "outputs": [
    {
     "data": {
      "text/plain": [
       "[<matplotlib.lines.Line2D at 0x1a90cd8cd40>]"
      ]
     },
     "execution_count": 870,
     "metadata": {},
     "output_type": "execute_result"
    },
    {
     "data": {
      "image/png": "[encoded data removed]",
      "text/plain": [
       "<Figure size 640x480 with 1 Axes>"
      ]
     },
     "metadata": {},
     "output_type": "display_data"
    }
   ],
   "source": [
    "plt.plot(anomaly_train_data[4])\n",
    "plt.plot(anomaly_train_data[10])\n",
    "plt.plot(anomaly_train_data[25])\n",
    "\n",
    "\n",
    "\n"
   ]
  },
  {
   "cell_type": "code",
   "execution_count": 1050,
   "id": "d4aba91c-dc35-4acf-becb-31f7a14ee8c4",
   "metadata": {},
   "outputs": [],
   "source": [
    "# Training AutoEncoder Class\n",
    "import tensorflow as tf\n",
    "from keras.saving import register_keras_serializable\n",
    "\n",
    "@register_keras_serializable()\n",
    "class AutoEncoder(Model):\n",
    "    def __init__(self):\n",
    "        super(AutoEncoder, self).__init__()\n",
    "        self.encoder = tf.keras.Sequential([\n",
    "            tf.keras.layers.Dense(117, activation=\"relu\"),\n",
    "            tf.keras.layers.Dense(64, activation=\"relu\"),\n",
    "            tf.keras.layers.Dense(32, activation=\"relu\"),\n",
    "            tf.keras.layers.Dense(4, activation=\"relu\")])\n",
    "        self.decoder = tf.keras.Sequential([\n",
    "            tf.keras.layers.Dense(16, activation=\"relu\"),\n",
    "            tf.keras.layers.Dense(32, activation=\"relu\"),\n",
    "            tf.keras.layers.Dense(64, activation=\"relu\"),  \n",
    "            tf.keras.layers.Dense(117, activation=\"sigmoid\")])\n",
    "\n",
    "    def call(self, x):\n",
    "        encoded = self.encoder(x)\n",
    "        decoded = self.decoder(encoded)\n",
    "        return decoded\n",
    "\n",
    "autoencoder = AutoEncoder()\n"
   ]
  },
  {
   "cell_type": "code",
   "execution_count": 1051,
   "id": "1716b34b-bfc1-4d64-9706-5e6569a562d0",
   "metadata": {},
   "outputs": [],
   "source": [
    "# Optimise the encoder before executing Training\n",
    "autoencoder = AutoEncoder()\n",
    "early_stopping = tf.keras.callbacks.EarlyStopping(monitor='val_loss',\n",
    "                                                  patience=2,\n",
    "                                                  mode='min')\n",
    "autoencoder.compile(optimizer='adam', loss ='mae')"
   ]
  },
  {
   "cell_type": "code",
   "execution_count": 1052,
   "id": "f90643e2-8a08-48bf-8a2c-e8848bff3428",
   "metadata": {},
   "outputs": [
    {
     "name": "stdout",
     "output_type": "stream",
     "text": [
      "Epoch 1/50\n",
      "\u001b[1m132/132\u001b[0m \u001b[32m━━━━━━━━━━━━━━━━━━━━\u001b[0m\u001b[37m\u001b[0m \u001b[1m19s\u001b[0m 47ms/step - loss: 0.2709 - val_loss: 0.0655\n",
      "Epoch 2/50\n",
      "\u001b[1m132/132\u001b[0m \u001b[32m━━━━━━━━━━━━━━━━━━━━\u001b[0m\u001b[37m\u001b[0m \u001b[1m2s\u001b[0m 15ms/step - loss: 0.0278 - val_loss: 0.0656\n",
      "Epoch 3/50\n",
      "\u001b[1m132/132\u001b[0m \u001b[32m━━━━━━━━━━━━━━━━━━━━\u001b[0m\u001b[37m\u001b[0m \u001b[1m2s\u001b[0m 13ms/step - loss: 0.0279 - val_loss: 0.0653\n",
      "Epoch 4/50\n",
      "\u001b[1m132/132\u001b[0m \u001b[32m━━━━━━━━━━━━━━━━━━━━\u001b[0m\u001b[37m\u001b[0m \u001b[1m2s\u001b[0m 13ms/step - loss: 0.0274 - val_loss: 0.0650\n",
      "Epoch 5/50\n",
      "\u001b[1m132/132\u001b[0m \u001b[32m━━━━━━━━━━━━━━━━━━━━\u001b[0m\u001b[37m\u001b[0m \u001b[1m2s\u001b[0m 13ms/step - loss: 0.0264 - val_loss: 0.0630\n",
      "Epoch 6/50\n",
      "\u001b[1m132/132\u001b[0m \u001b[32m━━━━━━━━━━━━━━━━━━━━\u001b[0m\u001b[37m\u001b[0m \u001b[1m2s\u001b[0m 14ms/step - loss: 0.0250 - val_loss: 0.0630\n",
      "Epoch 7/50\n",
      "\u001b[1m132/132\u001b[0m \u001b[32m━━━━━━━━━━━━━━━━━━━━\u001b[0m\u001b[37m\u001b[0m \u001b[1m2s\u001b[0m 16ms/step - loss: 0.0249 - val_loss: 0.0629\n",
      "Epoch 8/50\n",
      "\u001b[1m132/132\u001b[0m \u001b[32m━━━━━━━━━━━━━━━━━━━━\u001b[0m\u001b[37m\u001b[0m \u001b[1m2s\u001b[0m 13ms/step - loss: 0.0249 - val_loss: 0.0629\n",
      "Epoch 9/50\n",
      "\u001b[1m132/132\u001b[0m \u001b[32m━━━━━━━━━━━━━━━━━━━━\u001b[0m\u001b[37m\u001b[0m \u001b[1m2s\u001b[0m 12ms/step - loss: 0.0248 - val_loss: 0.0629\n",
      "Epoch 10/50\n",
      "\u001b[1m132/132\u001b[0m \u001b[32m━━━━━━━━━━━━━━━━━━━━\u001b[0m\u001b[37m\u001b[0m \u001b[1m2s\u001b[0m 12ms/step - loss: 0.0248 - val_loss: 0.0629\n",
      "Epoch 11/50\n",
      "\u001b[1m132/132\u001b[0m \u001b[32m━━━━━━━━━━━━━━━━━━━━\u001b[0m\u001b[37m\u001b[0m \u001b[1m2s\u001b[0m 12ms/step - loss: 0.0245 - val_loss: 0.0627\n",
      "Epoch 12/50\n",
      "\u001b[1m132/132\u001b[0m \u001b[32m━━━━━━━━━━━━━━━━━━━━\u001b[0m\u001b[37m\u001b[0m \u001b[1m3s\u001b[0m 12ms/step - loss: 0.0244 - val_loss: 0.0627\n",
      "Epoch 13/50\n",
      "\u001b[1m132/132\u001b[0m \u001b[32m━━━━━━━━━━━━━━━━━━━━\u001b[0m\u001b[37m\u001b[0m \u001b[1m3s\u001b[0m 13ms/step - loss: 0.0243 - val_loss: 0.0624\n",
      "Epoch 14/50\n",
      "\u001b[1m132/132\u001b[0m \u001b[32m━━━━━━━━━━━━━━━━━━━━\u001b[0m\u001b[37m\u001b[0m \u001b[1m2s\u001b[0m 12ms/step - loss: 0.0242 - val_loss: 0.0623\n",
      "Epoch 15/50\n",
      "\u001b[1m132/132\u001b[0m \u001b[32m━━━━━━━━━━━━━━━━━━━━\u001b[0m\u001b[37m\u001b[0m \u001b[1m3s\u001b[0m 12ms/step - loss: 0.0239 - val_loss: 0.0605\n",
      "Epoch 16/50\n",
      "\u001b[1m132/132\u001b[0m \u001b[32m━━━━━━━━━━━━━━━━━━━━\u001b[0m\u001b[37m\u001b[0m \u001b[1m3s\u001b[0m 12ms/step - loss: 0.0237 - val_loss: 0.0601\n",
      "Epoch 17/50\n",
      "\u001b[1m132/132\u001b[0m \u001b[32m━━━━━━━━━━━━━━━━━━━━\u001b[0m\u001b[37m\u001b[0m \u001b[1m3s\u001b[0m 12ms/step - loss: 0.0235 - val_loss: 0.0597\n",
      "Epoch 18/50\n",
      "\u001b[1m132/132\u001b[0m \u001b[32m━━━━━━━━━━━━━━━━━━━━\u001b[0m\u001b[37m\u001b[0m \u001b[1m3s\u001b[0m 12ms/step - loss: 0.0237 - val_loss: 0.0598\n",
      "Epoch 19/50\n",
      "\u001b[1m132/132\u001b[0m \u001b[32m━━━━━━━━━━━━━━━━━━━━\u001b[0m\u001b[37m\u001b[0m \u001b[1m3s\u001b[0m 13ms/step - loss: 0.0236 - val_loss: 0.0598\n",
      "Epoch 20/50\n",
      "\u001b[1m132/132\u001b[0m \u001b[32m━━━━━━━━━━━━━━━━━━━━\u001b[0m\u001b[37m\u001b[0m \u001b[1m2s\u001b[0m 14ms/step - loss: 0.0235 - val_loss: 0.0597\n",
      "Epoch 21/50\n",
      "\u001b[1m132/132\u001b[0m \u001b[32m━━━━━━━━━━━━━━━━━━━━\u001b[0m\u001b[37m\u001b[0m \u001b[1m2s\u001b[0m 13ms/step - loss: 0.0237 - val_loss: 0.0597\n",
      "Epoch 22/50\n",
      "\u001b[1m132/132\u001b[0m \u001b[32m━━━━━━━━━━━━━━━━━━━━\u001b[0m\u001b[37m\u001b[0m \u001b[1m2s\u001b[0m 15ms/step - loss: 0.0219 - val_loss: 0.0550\n",
      "Epoch 23/50\n",
      "\u001b[1m132/132\u001b[0m \u001b[32m━━━━━━━━━━━━━━━━━━━━\u001b[0m\u001b[37m\u001b[0m \u001b[1m2s\u001b[0m 14ms/step - loss: 0.0203 - val_loss: 0.0544\n",
      "Epoch 24/50\n",
      "\u001b[1m132/132\u001b[0m \u001b[32m━━━━━━━━━━━━━━━━━━━━\u001b[0m\u001b[37m\u001b[0m \u001b[1m3s\u001b[0m 19ms/step - loss: 0.0192 - val_loss: 0.0509\n",
      "Epoch 25/50\n",
      "\u001b[1m132/132\u001b[0m \u001b[32m━━━━━━━━━━━━━━━━━━━━\u001b[0m\u001b[37m\u001b[0m \u001b[1m2s\u001b[0m 17ms/step - loss: 0.0185 - val_loss: 0.0509\n",
      "Epoch 26/50\n",
      "\u001b[1m132/132\u001b[0m \u001b[32m━━━━━━━━━━━━━━━━━━━━\u001b[0m\u001b[37m\u001b[0m \u001b[1m2s\u001b[0m 16ms/step - loss: 0.0185 - val_loss: 0.0507\n",
      "Epoch 27/50\n",
      "\u001b[1m132/132\u001b[0m \u001b[32m━━━━━━━━━━━━━━━━━━━━\u001b[0m\u001b[37m\u001b[0m \u001b[1m2s\u001b[0m 15ms/step - loss: 0.0185 - val_loss: 0.0505\n",
      "Epoch 28/50\n",
      "\u001b[1m132/132\u001b[0m \u001b[32m━━━━━━━━━━━━━━━━━━━━\u001b[0m\u001b[37m\u001b[0m \u001b[1m3s\u001b[0m 13ms/step - loss: 0.0184 - val_loss: 0.0507\n",
      "Epoch 29/50\n",
      "\u001b[1m132/132\u001b[0m \u001b[32m━━━━━━━━━━━━━━━━━━━━\u001b[0m\u001b[37m\u001b[0m \u001b[1m2s\u001b[0m 14ms/step - loss: 0.0182 - val_loss: 0.0497\n",
      "Epoch 30/50\n",
      "\u001b[1m132/132\u001b[0m \u001b[32m━━━━━━━━━━━━━━━━━━━━\u001b[0m\u001b[37m\u001b[0m \u001b[1m3s\u001b[0m 21ms/step - loss: 0.0175 - val_loss: 0.0493\n",
      "Epoch 31/50\n",
      "\u001b[1m132/132\u001b[0m \u001b[32m━━━━━━━━━━━━━━━━━━━━\u001b[0m\u001b[37m\u001b[0m \u001b[1m2s\u001b[0m 13ms/step - loss: 0.0169 - val_loss: 0.0489\n",
      "Epoch 32/50\n",
      "\u001b[1m132/132\u001b[0m \u001b[32m━━━━━━━━━━━━━━━━━━━━\u001b[0m\u001b[37m\u001b[0m \u001b[1m3s\u001b[0m 13ms/step - loss: 0.0168 - val_loss: 0.0487\n",
      "Epoch 33/50\n",
      "\u001b[1m132/132\u001b[0m \u001b[32m━━━━━━━━━━━━━━━━━━━━\u001b[0m\u001b[37m\u001b[0m \u001b[1m2s\u001b[0m 14ms/step - loss: 0.0168 - val_loss: 0.0490\n",
      "Epoch 34/50\n",
      "\u001b[1m132/132\u001b[0m \u001b[32m━━━━━━━━━━━━━━━━━━━━\u001b[0m\u001b[37m\u001b[0m \u001b[1m2s\u001b[0m 14ms/step - loss: 0.0166 - val_loss: 0.0488\n",
      "Epoch 35/50\n",
      "\u001b[1m132/132\u001b[0m \u001b[32m━━━━━━━━━━━━━━━━━━━━\u001b[0m\u001b[37m\u001b[0m \u001b[1m2s\u001b[0m 12ms/step - loss: 0.0166 - val_loss: 0.0489\n",
      "Epoch 36/50\n",
      "\u001b[1m132/132\u001b[0m \u001b[32m━━━━━━━━━━━━━━━━━━━━\u001b[0m\u001b[37m\u001b[0m \u001b[1m3s\u001b[0m 20ms/step - loss: 0.0164 - val_loss: 0.0488\n",
      "Epoch 37/50\n",
      "\u001b[1m132/132\u001b[0m \u001b[32m━━━━━━━━━━━━━━━━━━━━\u001b[0m\u001b[37m\u001b[0m \u001b[1m3s\u001b[0m 21ms/step - loss: 0.0165 - val_loss: 0.0488\n",
      "Epoch 38/50\n",
      "\u001b[1m132/132\u001b[0m \u001b[32m━━━━━━━━━━━━━━━━━━━━\u001b[0m\u001b[37m\u001b[0m \u001b[1m6s\u001b[0m 25ms/step - loss: 0.0165 - val_loss: 0.0487\n",
      "Epoch 39/50\n",
      "\u001b[1m132/132\u001b[0m \u001b[32m━━━━━━━━━━━━━━━━━━━━\u001b[0m\u001b[37m\u001b[0m \u001b[1m7s\u001b[0m 39ms/step - loss: 0.0166 - val_loss: 0.0489\n",
      "Epoch 40/50\n",
      "\u001b[1m132/132\u001b[0m \u001b[32m━━━━━━━━━━━━━━━━━━━━\u001b[0m\u001b[37m\u001b[0m \u001b[1m8s\u001b[0m 46ms/step - loss: 0.0166 - val_loss: 0.0488\n",
      "Epoch 41/50\n",
      "\u001b[1m132/132\u001b[0m \u001b[32m━━━━━━━━━━━━━━━━━━━━\u001b[0m\u001b[37m\u001b[0m \u001b[1m8s\u001b[0m 46ms/step - loss: 0.0165 - val_loss: 0.0489\n",
      "Epoch 42/50\n",
      "\u001b[1m132/132\u001b[0m \u001b[32m━━━━━━━━━━━━━━━━━━━━\u001b[0m\u001b[37m\u001b[0m \u001b[1m8s\u001b[0m 21ms/step - loss: 0.0166 - val_loss: 0.0487\n",
      "Epoch 43/50\n",
      "\u001b[1m132/132\u001b[0m \u001b[32m━━━━━━━━━━━━━━━━━━━━\u001b[0m\u001b[37m\u001b[0m \u001b[1m5s\u001b[0m 20ms/step - loss: 0.0164 - val_loss: 0.0490\n",
      "Epoch 44/50\n",
      "\u001b[1m132/132\u001b[0m \u001b[32m━━━━━━━━━━━━━━━━━━━━\u001b[0m\u001b[37m\u001b[0m \u001b[1m5s\u001b[0m 20ms/step - loss: 0.0165 - val_loss: 0.0488\n",
      "Epoch 45/50\n",
      "\u001b[1m132/132\u001b[0m \u001b[32m━━━━━━━━━━━━━━━━━━━━\u001b[0m\u001b[37m\u001b[0m \u001b[1m3s\u001b[0m 20ms/step - loss: 0.0166 - val_loss: 0.0489\n",
      "Epoch 46/50\n",
      "\u001b[1m132/132\u001b[0m \u001b[32m━━━━━━━━━━━━━━━━━━━━\u001b[0m\u001b[37m\u001b[0m \u001b[1m3s\u001b[0m 19ms/step - loss: 0.0166 - val_loss: 0.0487\n",
      "Epoch 47/50\n",
      "\u001b[1m132/132\u001b[0m \u001b[32m━━━━━━━━━━━━━━━━━━━━\u001b[0m\u001b[37m\u001b[0m \u001b[1m3s\u001b[0m 19ms/step - loss: 0.0165 - val_loss: 0.0487\n",
      "Epoch 48/50\n",
      "\u001b[1m132/132\u001b[0m \u001b[32m━━━━━━━━━━━━━━━━━━━━\u001b[0m\u001b[37m\u001b[0m \u001b[1m3s\u001b[0m 24ms/step - loss: 0.0164 - val_loss: 0.0488\n",
      "Epoch 49/50\n",
      "\u001b[1m132/132\u001b[0m \u001b[32m━━━━━━━━━━━━━━━━━━━━\u001b[0m\u001b[37m\u001b[0m \u001b[1m5s\u001b[0m 25ms/step - loss: 0.0166 - val_loss: 0.0487\n",
      "Epoch 50/50\n",
      "\u001b[1m132/132\u001b[0m \u001b[32m━━━━━━━━━━━━━━━━━━━━\u001b[0m\u001b[37m\u001b[0m \u001b[1m3s\u001b[0m 23ms/step - loss: 0.0165 - val_loss: 0.0488\n"
     ]
    }
   ],
   "source": [
    "#Run Training \n",
    "history = autoencoder.fit(normal_train_data, normal_train_data,\n",
    "                          epochs= 50,\n",
    "                          batch_size=512,\n",
    "                          validation_data = (train_data_scaled[:,1:], train_data_scaled[:,1:]),\n",
    "                          shuffle=True)\n",
    "\n",
    "#In order to stop overfitting \n",
    "#callback = early_stopping\n",
    "                          "
   ]
  },
  {
   "cell_type": "code",
   "execution_count": 1053,
   "id": "38319b7a-6517-4f17-a164-4c4796950796",
   "metadata": {},
   "outputs": [],
   "source": [
    "#Encode and Decode\n",
    "encoder_out = autoencoder.encoder(normal_train_data).numpy()\n",
    "decoder_out = autoencoder.decoder(encoder_out).numpy()"
   ]
  },
  {
   "cell_type": "code",
   "execution_count": 1054,
   "id": "0dd6aab5-eb19-45f2-8ebe-6e7cab985afd",
   "metadata": {},
   "outputs": [
    {
     "data": {
      "text/plain": [
       "[<matplotlib.lines.Line2D at 0x1a96b513e60>]"
      ]
     },
     "execution_count": 1054,
     "metadata": {},
     "output_type": "execute_result"
    },
    {
     "data": {
      "image/png": "[encoded data removed]",
      "text/plain": [
       "<Figure size 640x480 with 1 Axes>"
      ]
     },
     "metadata": {},
     "output_type": "display_data"
    }
   ],
   "source": [
    "plt.plot(normal_test_data[5],'b')\n",
    "plt.plot(decoder_out[5],'r')"
   ]
  },
  {
   "cell_type": "code",
   "execution_count": 1055,
   "id": "6055390d-2c04-4ed1-bbed-ae670d6ac2c1",
   "metadata": {},
   "outputs": [
    {
     "data": {
      "text/plain": [
       "<matplotlib.legend.Legend at 0x1a96ac59520>"
      ]
     },
     "execution_count": 1055,
     "metadata": {},
     "output_type": "execute_result"
    },
    {
     "data": {
      "image/png": "[encoded data removed]",
      "text/plain": [
       "<Figure size 640x480 with 1 Axes>"
      ]
     },
     "metadata": {},
     "output_type": "display_data"
    }
   ],
   "source": [
    "#Reconstruction Loss\n",
    "plt.plot(history.history[\"loss\"], label=\"Training Loss\")\n",
    "plt.plot(history.history[\"val_loss\"], label=\"Validation Loss\")\n",
    "plt.legend()"
   ]
  },
  {
   "cell_type": "code",
   "execution_count": 1056,
   "id": "dde51e79-9e9c-4002-942c-8507f8e9f1f0",
   "metadata": {},
   "outputs": [
    {
     "data": {
      "text/plain": [
       "[<matplotlib.lines.Line2D at 0x1a96bb8e510>]"
      ]
     },
     "execution_count": 1056,
     "metadata": {},
     "output_type": "execute_result"
    },
    {
     "data": {
      "image/png": "[encoded data removed]",
      "text/plain": [
       "<Figure size 640x480 with 1 Axes>"
      ]
     },
     "metadata": {},
     "output_type": "display_data"
    }
   ],
   "source": [
    "plt.plot(normal_test_data[0],'b')\n",
    "plt.plot(decoder_out[0],'r')"
   ]
  },
  {
   "cell_type": "code",
   "execution_count": 1035,
   "id": "edbeffdf-5060-4cd3-bc3d-0bbb0a83287a",
   "metadata": {},
   "outputs": [
    {
     "name": "stdout",
     "output_type": "stream",
     "text": [
      "(12832, 117)\n"
     ]
    }
   ],
   "source": [
    "print(anomaly_test_data.shape)"
   ]
  },
  {
   "cell_type": "code",
   "execution_count": 1057,
   "id": "b4fde89e-daea-49e8-90a4-64f7d3fb8e4c",
   "metadata": {},
   "outputs": [
    {
     "data": {
      "text/plain": [
       "[<matplotlib.lines.Line2D at 0x1a96b139400>]"
      ]
     },
     "execution_count": 1057,
     "metadata": {},
     "output_type": "execute_result"
    },
    {
     "data": {
      "image/png": "[encoded data removed]",
      "text/plain": [
       "<Figure size 640x480 with 1 Axes>"
      ]
     },
     "metadata": {},
     "output_type": "display_data"
    }
   ],
   "source": [
    "plt.plot(anomaly_test_data[0],'b')\n",
    "plt.plot(decoder_out[0],'r')"
   ]
  },
  {
   "cell_type": "code",
   "execution_count": 1059,
   "id": "1e125987-3f36-4b2a-b824-b6d0fb5da1eb",
   "metadata": {},
   "outputs": [
    {
     "name": "stdout",
     "output_type": "stream",
     "text": [
      "\u001b[1m304/304\u001b[0m \u001b[32m━━━━━━━━━━━━━━━━━━━━\u001b[0m\u001b[37m\u001b[0m \u001b[1m3s\u001b[0m 6ms/step\n"
     ]
    },
    {
     "data": {
      "text/plain": [
       "(array([4.775e+03, 1.134e+03, 3.300e+02, 1.670e+02, 4.400e+02, 1.340e+02,\n",
       "        1.020e+02, 8.400e+01, 1.130e+02, 1.370e+02, 1.170e+02, 9.300e+01,\n",
       "        5.300e+01, 2.500e+01, 1.500e+01, 4.000e+01, 2.490e+02, 2.140e+02,\n",
       "        3.110e+02, 2.850e+02, 7.300e+01, 6.700e+01, 4.600e+01, 4.900e+01,\n",
       "        4.500e+01, 2.020e+02, 1.540e+02, 9.300e+01, 5.300e+01, 2.500e+01,\n",
       "        2.000e+00, 7.000e+00, 6.000e+00, 1.800e+01, 1.100e+01, 9.000e+00,\n",
       "        9.000e+00, 0.000e+00, 0.000e+00, 5.000e+00, 6.000e+00, 1.000e+00,\n",
       "        0.000e+00, 0.000e+00, 0.000e+00, 3.000e+00, 4.000e+00, 0.000e+00,\n",
       "        3.000e+00, 2.000e+00]),\n",
       " array([3.97766358e-05, 2.22100880e-03, 4.40224096e-03, 6.58347312e-03,\n",
       "        8.76470528e-03, 1.09459374e-02, 1.31271696e-02, 1.53084018e-02,\n",
       "        1.74896339e-02, 1.96708661e-02, 2.18520983e-02, 2.40333304e-02,\n",
       "        2.62145626e-02, 2.83957947e-02, 3.05770269e-02, 3.27582591e-02,\n",
       "        3.49394912e-02, 3.71207234e-02, 3.93019556e-02, 4.14831877e-02,\n",
       "        4.36644199e-02, 4.58456520e-02, 4.80268842e-02, 5.02081164e-02,\n",
       "        5.23893485e-02, 5.45705807e-02, 5.67518128e-02, 5.89330450e-02,\n",
       "        6.11142772e-02, 6.32955093e-02, 6.54767415e-02, 6.76579737e-02,\n",
       "        6.98392058e-02, 7.20204380e-02, 7.42016701e-02, 7.63829023e-02,\n",
       "        7.85641345e-02, 8.07453666e-02, 8.29265988e-02, 8.51078310e-02,\n",
       "        8.72890631e-02, 8.94702953e-02, 9.16515274e-02, 9.38327596e-02,\n",
       "        9.60139918e-02, 9.81952239e-02, 1.00376456e-01, 1.02557688e-01,\n",
       "        1.04738920e-01, 1.06920153e-01, 1.09101385e-01]),\n",
       " <BarContainer object of 50 artists>)"
      ]
     },
     "execution_count": 1059,
     "metadata": {},
     "output_type": "execute_result"
    },
    {
     "data": {
      "image/png": "[encoded data removed]",
      "text/plain": [
       "<Figure size 640x480 with 1 Axes>"
      ]
     },
     "metadata": {},
     "output_type": "display_data"
    }
   ],
   "source": [
    "reconstructions = autoencoder.predict(normal_test_data)\n",
    "train_loss = tf.keras.losses.mae(reconstructions, normal_test_data)\n",
    "\n",
    "plt.hist(train_loss, bins=50)"
   ]
  },
  {
   "cell_type": "code",
   "execution_count": 1060,
   "id": "dbf6c5eb-055d-4091-aa34-bfa0d3504c2d",
   "metadata": {},
   "outputs": [
    {
     "name": "stdout",
     "output_type": "stream",
     "text": [
      "Threshold:  0.032010044658860176\n"
     ]
    }
   ],
   "source": [
    "threshold = np.mean(train_loss) + np.std(train_loss)\n",
    "print(\"Threshold: \", threshold)"
   ]
  },
  {
   "cell_type": "code",
   "execution_count": 1061,
   "id": "7090d366-e05d-4d3f-b995-53ad967821c8",
   "metadata": {},
   "outputs": [
    {
     "name": "stdout",
     "output_type": "stream",
     "text": [
      "\u001b[1m401/401\u001b[0m \u001b[32m━━━━━━━━━━━━━━━━━━━━\u001b[0m\u001b[37m\u001b[0m \u001b[1m3s\u001b[0m 6ms/step\n"
     ]
    },
    {
     "data": {
      "text/plain": [
       "(array([   4.,   81.,  128.,  151.,  518.,  192.,  111.,  145.,  203.,\n",
       "         293.,  409.,  327.,  232.,  209.,  116.,  307.,  263.,  306.,\n",
       "         272.,  294.,  208.,  275.,  139.,  121.,  169.,  195.,  176.,\n",
       "         214.,  191.,   54.,   88.,  128.,  217.,   77.,  147.,  232.,\n",
       "         885., 1645., 1592.,  338.,  219.,  124.,  367.,  320.,   58.,\n",
       "          38.,   18.,   11.,   15.,   10.]),\n",
       " array([0.00968104, 0.01193864, 0.01419625, 0.01645386, 0.01871146,\n",
       "        0.02096907, 0.02322668, 0.02548428, 0.02774189, 0.0299995 ,\n",
       "        0.0322571 , 0.03451471, 0.03677231, 0.03902992, 0.04128753,\n",
       "        0.04354513, 0.04580274, 0.04806035, 0.05031795, 0.05257556,\n",
       "        0.05483317, 0.05709077, 0.05934838, 0.06160599, 0.06386359,\n",
       "        0.0661212 , 0.0683788 , 0.07063641, 0.07289402, 0.07515162,\n",
       "        0.07740923, 0.07966684, 0.08192444, 0.08418205, 0.08643966,\n",
       "        0.08869726, 0.09095487, 0.09321247, 0.09547008, 0.09772769,\n",
       "        0.09998529, 0.1022429 , 0.10450051, 0.10675811, 0.10901572,\n",
       "        0.11127333, 0.11353093, 0.11578854, 0.11804615, 0.12030375,\n",
       "        0.12256136]),\n",
       " <BarContainer object of 50 artists>)"
      ]
     },
     "execution_count": 1061,
     "metadata": {},
     "output_type": "execute_result"
    },
    {
     "data": {
      "image/png": "[encoded data removed]",
      "text/plain": [
       "<Figure size 640x480 with 1 Axes>"
      ]
     },
     "metadata": {},
     "output_type": "display_data"
    }
   ],
   "source": [
    "#Reconstruction loss for Anomaly \n",
    "reconstructions_a = autoencoder.predict(anomaly_test_data)\n",
    "train_loss_a = tf.keras.losses.mae(reconstructions_a, anomaly_test_data)\n",
    "\n",
    "plt.hist(train_loss_a, bins=50)"
   ]
  },
  {
   "cell_type": "code",
   "execution_count": 1062,
   "id": "dfab59d2-b589-408d-b0ad-3b215e04fc24",
   "metadata": {},
   "outputs": [
    {
     "data": {
      "image/png": "[encoded data removed]",
      "text/plain": [
       "<Figure size 640x480 with 1 Axes>"
      ]
     },
     "metadata": {},
     "output_type": "display_data"
    }
   ],
   "source": [
    "plt.hist(train_loss, bins =50, label='normal')\n",
    "plt.hist(train_loss_a, bins=50, label='anomaly')\n",
    "plt.axvline(threshold, color ='r', linewidth=3, linestyle='dashed', label='{:0.3f}'.format(threshold))\n",
    "plt.legend(loc='upper right')\n",
    "plt.show()"
   ]
  },
  {
   "cell_type": "code",
   "execution_count": 1064,
   "id": "7c945779-59df-4bf7-816c-1f4ba9dc8459",
   "metadata": {},
   "outputs": [],
   "source": [
    "#predictor object passed to find normal values less than the threshold \n",
    "preds = tf.math.less(train_loss, threshold)"
   ]
  },
  {
   "cell_type": "code",
   "execution_count": 1065,
   "id": "fb46c8eb-5e01-4b3a-a488-a5d1a0c7d41c",
   "metadata": {},
   "outputs": [
    {
     "data": {
      "text/plain": [
       "<tf.Tensor: shape=(), dtype=int64, numpy=7714>"
      ]
     },
     "execution_count": 1065,
     "metadata": {},
     "output_type": "execute_result"
    }
   ],
   "source": [
    "# how many normal predictions were correct \n",
    "tf.math.count_nonzero(preds)"
   ]
  },
  {
   "cell_type": "code",
   "execution_count": 1071,
   "id": "299e8f26-285c-46bd-aa81-b073e88aaa88",
   "metadata": {},
   "outputs": [
    {
     "data": {
      "text/plain": [
       "TensorShape([9711])"
      ]
     },
     "execution_count": 1071,
     "metadata": {},
     "output_type": "execute_result"
    }
   ],
   "source": [
    "#total number of normal data\n",
    "preds.shape"
   ]
  },
  {
   "cell_type": "code",
   "execution_count": 1067,
   "id": "0c22c9d8-1cce-465d-88bd-ff6c9167b2e7",
   "metadata": {},
   "outputs": [],
   "source": [
    "#predictor object to find abnormal values greater than the threshold \n",
    "preds_a = tf.math.greater(train_loss_a, threshold)"
   ]
  },
  {
   "cell_type": "code",
   "execution_count": 1068,
   "id": "006df00d-93c1-4f1d-aefb-f3ac9cb5aea9",
   "metadata": {},
   "outputs": [
    {
     "data": {
      "text/plain": [
       "<tf.Tensor: shape=(), dtype=int64, numpy=11025>"
      ]
     },
     "execution_count": 1068,
     "metadata": {},
     "output_type": "execute_result"
    }
   ],
   "source": [
    "# how many abnormal predictions were correct\n",
    "tf.math.count_nonzero(preds_a)"
   ]
  },
  {
   "cell_type": "code",
   "execution_count": 1069,
   "id": "629f6801-6364-4d0c-a8fe-106f4911b0f7",
   "metadata": {},
   "outputs": [
    {
     "data": {
      "text/plain": [
       "TensorShape([12832])"
      ]
     },
     "execution_count": 1069,
     "metadata": {},
     "output_type": "execute_result"
    }
   ],
   "source": [
    "#total number of abnormal data\n",
    "preds_a.shape"
   ]
  },
  {
   "cell_type": "code",
   "execution_count": 1070,
   "id": "8a0e9830-88f7-43c1-8453-90c0e21e1e15",
   "metadata": {},
   "outputs": [],
   "source": [
    "#save the model\n",
    "from tensorflow.keras.models import model_from_json\n",
    "\n",
    "autoencoder.save('autoencoder_model_t4.keras')  \n"
   ]
  },
  {
   "cell_type": "code",
   "execution_count": null,
   "id": "380bd6b9-a471-4917-a712-7baa4e4cd1b1",
   "metadata": {},
   "outputs": [],
   "source": []
  }
 ],
 "metadata": {
  "kernelspec": {
   "display_name": "Python 3 (ipykernel)",
   "language": "python",
   "name": "python3"
  },
  "language_info": {
   "codemirror_mode": {
    "name": "ipython",
    "version": 3
   },
   "file_extension": ".py",
   "mimetype": "text/x-python",
   "name": "python",
   "nbconvert_exporter": "python",
   "pygments_lexer": "ipython3",
   "version": "3.12.3"
  }
 },
 "nbformat": 4,
 "nbformat_minor": 5
}
